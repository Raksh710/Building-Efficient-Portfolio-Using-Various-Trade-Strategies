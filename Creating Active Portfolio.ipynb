{
 "cells": [
  {
   "cell_type": "markdown",
   "metadata": {},
   "source": [
    "### Portfolio Building "
   ]
  },
  {
   "cell_type": "markdown",
   "metadata": {},
   "source": [
    "### Importing necessary packages and price data"
   ]
  },
  {
   "cell_type": "code",
   "execution_count": 1,
   "metadata": {
    "id": "1_g5zhdyKIBs"
   },
   "outputs": [],
   "source": [
    "# importing necessary libraries \n",
    "import matplotlib.pyplot as plt\n",
    "import matplotlib.ticker as mtick\n",
    "import matplotlib.lines as mlines\n",
    "import numpy as np\n",
    "import pandas as pd\n",
    "import scipy.stats as scs\n",
    "import statsmodels.api as sm\n",
    "from statsmodels.regression.rolling import RollingOLS\n",
    "from itertools import product\n",
    "import warnings\n",
    "warnings.filterwarnings(\"ignore\")\n",
    "%matplotlib inline"
   ]
  },
  {
   "cell_type": "code",
   "execution_count": 2,
   "metadata": {
    "colab": {
     "base_uri": "https://localhost:8080/"
    },
    "id": "fTGryey6MMjs",
    "outputId": "7e41d2fa-68d6-4d47-9797-2e259dca99aa"
   },
   "outputs": [
    {
     "data": {
      "text/html": [
       "<div>\n",
       "<style scoped>\n",
       "    .dataframe tbody tr th:only-of-type {\n",
       "        vertical-align: middle;\n",
       "    }\n",
       "\n",
       "    .dataframe tbody tr th {\n",
       "        vertical-align: top;\n",
       "    }\n",
       "\n",
       "    .dataframe thead th {\n",
       "        text-align: right;\n",
       "    }\n",
       "</style>\n",
       "<table border=\"1\" class=\"dataframe\">\n",
       "  <thead>\n",
       "    <tr style=\"text-align: right;\">\n",
       "      <th></th>\n",
       "      <th>AAPL</th>\n",
       "      <th>AMZN</th>\n",
       "      <th>ATT</th>\n",
       "      <th>AUD</th>\n",
       "      <th>BOND</th>\n",
       "      <th>EUR</th>\n",
       "      <th>GE</th>\n",
       "      <th>GOLD</th>\n",
       "      <th>INTC</th>\n",
       "      <th>SILVER</th>\n",
       "      <th>SPY</th>\n",
       "    </tr>\n",
       "    <tr>\n",
       "      <th>Date</th>\n",
       "      <th></th>\n",
       "      <th></th>\n",
       "      <th></th>\n",
       "      <th></th>\n",
       "      <th></th>\n",
       "      <th></th>\n",
       "      <th></th>\n",
       "      <th></th>\n",
       "      <th></th>\n",
       "      <th></th>\n",
       "      <th></th>\n",
       "    </tr>\n",
       "  </thead>\n",
       "  <tbody>\n",
       "    <tr>\n",
       "      <th>1999-12-31</th>\n",
       "      <td>0.917969</td>\n",
       "      <td>3.806250</td>\n",
       "      <td>36.820244</td>\n",
       "      <td>0.6567</td>\n",
       "      <td>798.154631</td>\n",
       "      <td>1.0062</td>\n",
       "      <td>396.794861</td>\n",
       "      <td>288.00</td>\n",
       "      <td>41.15625</td>\n",
       "      <td>5.380</td>\n",
       "      <td>146.8750</td>\n",
       "    </tr>\n",
       "    <tr>\n",
       "      <th>2000-01-03</th>\n",
       "      <td>0.999442</td>\n",
       "      <td>4.468750</td>\n",
       "      <td>35.498489</td>\n",
       "      <td>0.6585</td>\n",
       "      <td>793.868670</td>\n",
       "      <td>1.0243</td>\n",
       "      <td>384.615387</td>\n",
       "      <td>289.00</td>\n",
       "      <td>43.50000</td>\n",
       "      <td>5.405</td>\n",
       "      <td>145.4375</td>\n",
       "    </tr>\n",
       "    <tr>\n",
       "      <th>2000-01-04</th>\n",
       "      <td>0.915179</td>\n",
       "      <td>4.096875</td>\n",
       "      <td>33.421452</td>\n",
       "      <td>0.6550</td>\n",
       "      <td>796.761677</td>\n",
       "      <td>1.0296</td>\n",
       "      <td>369.230774</td>\n",
       "      <td>282.25</td>\n",
       "      <td>41.46875</td>\n",
       "      <td>5.325</td>\n",
       "      <td>139.7500</td>\n",
       "    </tr>\n",
       "    <tr>\n",
       "      <th>2000-01-05</th>\n",
       "      <td>0.928571</td>\n",
       "      <td>3.487500</td>\n",
       "      <td>33.940708</td>\n",
       "      <td>0.6579</td>\n",
       "      <td>793.118215</td>\n",
       "      <td>1.0321</td>\n",
       "      <td>368.589752</td>\n",
       "      <td>280.00</td>\n",
       "      <td>41.81250</td>\n",
       "      <td>5.145</td>\n",
       "      <td>140.0000</td>\n",
       "    </tr>\n",
       "    <tr>\n",
       "      <th>2000-01-06</th>\n",
       "      <td>0.848214</td>\n",
       "      <td>3.278125</td>\n",
       "      <td>33.043808</td>\n",
       "      <td>0.6533</td>\n",
       "      <td>795.091984</td>\n",
       "      <td>1.0328</td>\n",
       "      <td>373.517639</td>\n",
       "      <td>281.10</td>\n",
       "      <td>39.37500</td>\n",
       "      <td>5.120</td>\n",
       "      <td>137.7500</td>\n",
       "    </tr>\n",
       "  </tbody>\n",
       "</table>\n",
       "</div>"
      ],
      "text/plain": [
       "                AAPL      AMZN        ATT     AUD        BOND     EUR  \\\n",
       "Date                                                                    \n",
       "1999-12-31  0.917969  3.806250  36.820244  0.6567  798.154631  1.0062   \n",
       "2000-01-03  0.999442  4.468750  35.498489  0.6585  793.868670  1.0243   \n",
       "2000-01-04  0.915179  4.096875  33.421452  0.6550  796.761677  1.0296   \n",
       "2000-01-05  0.928571  3.487500  33.940708  0.6579  793.118215  1.0321   \n",
       "2000-01-06  0.848214  3.278125  33.043808  0.6533  795.091984  1.0328   \n",
       "\n",
       "                    GE    GOLD      INTC  SILVER       SPY  \n",
       "Date                                                        \n",
       "1999-12-31  396.794861  288.00  41.15625   5.380  146.8750  \n",
       "2000-01-03  384.615387  289.00  43.50000   5.405  145.4375  \n",
       "2000-01-04  369.230774  282.25  41.46875   5.325  139.7500  \n",
       "2000-01-05  368.589752  280.00  41.81250   5.145  140.0000  \n",
       "2000-01-06  373.517639  281.10  39.37500   5.120  137.7500  "
      ]
     },
     "execution_count": 2,
     "metadata": {},
     "output_type": "execute_result"
    }
   ],
   "source": [
    "#loading file into dataframe \n",
    "path = \"Prices.csv\"\n",
    "prices=pd.read_csv(path,parse_dates=True)\n",
    "prices.rename(columns={'Unnamed: 0': 'Date'}, inplace=True)\n",
    "prices.set_index(\"Date\",inplace=True)\n",
    "prices.head()\n"
   ]
  },
  {
   "cell_type": "code",
   "execution_count": 3,
   "metadata": {},
   "outputs": [
    {
     "name": "stdout",
     "output_type": "stream",
     "text": [
      "<class 'pandas.core.frame.DataFrame'>\n",
      "Index: 4745 entries, 1999-12-31 to 2018-12-31\n",
      "Data columns (total 11 columns):\n",
      " #   Column  Non-Null Count  Dtype  \n",
      "---  ------  --------------  -----  \n",
      " 0   AAPL    4745 non-null   float64\n",
      " 1   AMZN    4745 non-null   float64\n",
      " 2   ATT     4745 non-null   float64\n",
      " 3   AUD     4745 non-null   float64\n",
      " 4   BOND    4745 non-null   float64\n",
      " 5   EUR     4745 non-null   float64\n",
      " 6   GE      4745 non-null   float64\n",
      " 7   GOLD    4745 non-null   float64\n",
      " 8   INTC    4745 non-null   float64\n",
      " 9   SILVER  4745 non-null   float64\n",
      " 10  SPY     4745 non-null   float64\n",
      "dtypes: float64(11)\n",
      "memory usage: 444.8+ KB\n"
     ]
    }
   ],
   "source": [
    "#Checking for null values and verifying data types of the dataframe\n",
    "prices.info()"
   ]
  },
  {
   "cell_type": "code",
   "execution_count": 4,
   "metadata": {
    "id": "rYL0hX_UM1bM"
   },
   "outputs": [],
   "source": [
    "# universal plot dimensions we will use as the figsize argument for all plots\n",
    "aspect_ratio=(8,5)\n",
    "pct_format_4d = '{:.4%}'\n",
    "pct_format_2d = '{:.2%}'"
   ]
  },
  {
   "cell_type": "code",
   "execution_count": 5,
   "metadata": {
    "colab": {
     "base_uri": "https://localhost:8080/"
    },
    "id": "00cbDt8DOias",
    "outputId": "5039203e-d455-4426-9da2-7be88b2796bc"
   },
   "outputs": [
    {
     "data": {
      "text/html": [
       "<div>\n",
       "<style scoped>\n",
       "    .dataframe tbody tr th:only-of-type {\n",
       "        vertical-align: middle;\n",
       "    }\n",
       "\n",
       "    .dataframe tbody tr th {\n",
       "        vertical-align: top;\n",
       "    }\n",
       "\n",
       "    .dataframe thead th {\n",
       "        text-align: right;\n",
       "    }\n",
       "</style>\n",
       "<table border=\"1\" class=\"dataframe\">\n",
       "  <thead>\n",
       "    <tr style=\"text-align: right;\">\n",
       "      <th></th>\n",
       "      <th>AAPL</th>\n",
       "      <th>AMZN</th>\n",
       "      <th>ATT</th>\n",
       "      <th>AUD</th>\n",
       "      <th>BOND</th>\n",
       "      <th>EUR</th>\n",
       "      <th>GE</th>\n",
       "      <th>GOLD</th>\n",
       "      <th>INTC</th>\n",
       "      <th>SILVER</th>\n",
       "      <th>SPY</th>\n",
       "    </tr>\n",
       "    <tr>\n",
       "      <th>Date</th>\n",
       "      <th></th>\n",
       "      <th></th>\n",
       "      <th></th>\n",
       "      <th></th>\n",
       "      <th></th>\n",
       "      <th></th>\n",
       "      <th></th>\n",
       "      <th></th>\n",
       "      <th></th>\n",
       "      <th></th>\n",
       "      <th></th>\n",
       "    </tr>\n",
       "  </thead>\n",
       "  <tbody>\n",
       "    <tr>\n",
       "      <th>1999-12-31</th>\n",
       "      <td>NaN</td>\n",
       "      <td>NaN</td>\n",
       "      <td>NaN</td>\n",
       "      <td>NaN</td>\n",
       "      <td>NaN</td>\n",
       "      <td>NaN</td>\n",
       "      <td>NaN</td>\n",
       "      <td>NaN</td>\n",
       "      <td>NaN</td>\n",
       "      <td>NaN</td>\n",
       "      <td>NaN</td>\n",
       "    </tr>\n",
       "    <tr>\n",
       "      <th>2000-01-03</th>\n",
       "      <td>0.085034</td>\n",
       "      <td>0.160464</td>\n",
       "      <td>-0.036558</td>\n",
       "      <td>0.002737</td>\n",
       "      <td>-0.005384</td>\n",
       "      <td>0.017829</td>\n",
       "      <td>-0.031176</td>\n",
       "      <td>0.003466</td>\n",
       "      <td>0.055385</td>\n",
       "      <td>0.004636</td>\n",
       "      <td>-0.009835</td>\n",
       "    </tr>\n",
       "    <tr>\n",
       "      <th>2000-01-04</th>\n",
       "      <td>-0.088077</td>\n",
       "      <td>-0.086884</td>\n",
       "      <td>-0.060292</td>\n",
       "      <td>-0.005329</td>\n",
       "      <td>0.003638</td>\n",
       "      <td>0.005161</td>\n",
       "      <td>-0.040822</td>\n",
       "      <td>-0.023633</td>\n",
       "      <td>-0.047821</td>\n",
       "      <td>-0.014912</td>\n",
       "      <td>-0.039891</td>\n",
       "    </tr>\n",
       "    <tr>\n",
       "      <th>2000-01-05</th>\n",
       "      <td>0.014527</td>\n",
       "      <td>-0.161039</td>\n",
       "      <td>0.015417</td>\n",
       "      <td>0.004418</td>\n",
       "      <td>-0.004583</td>\n",
       "      <td>0.002425</td>\n",
       "      <td>-0.001738</td>\n",
       "      <td>-0.008004</td>\n",
       "      <td>0.008255</td>\n",
       "      <td>-0.034387</td>\n",
       "      <td>0.001787</td>\n",
       "    </tr>\n",
       "    <tr>\n",
       "      <th>2000-01-06</th>\n",
       "      <td>-0.090514</td>\n",
       "      <td>-0.061914</td>\n",
       "      <td>-0.026781</td>\n",
       "      <td>-0.007017</td>\n",
       "      <td>0.002486</td>\n",
       "      <td>0.000678</td>\n",
       "      <td>0.013281</td>\n",
       "      <td>0.003921</td>\n",
       "      <td>-0.060064</td>\n",
       "      <td>-0.004871</td>\n",
       "      <td>-0.016202</td>\n",
       "    </tr>\n",
       "    <tr>\n",
       "      <th>...</th>\n",
       "      <td>...</td>\n",
       "      <td>...</td>\n",
       "      <td>...</td>\n",
       "      <td>...</td>\n",
       "      <td>...</td>\n",
       "      <td>...</td>\n",
       "      <td>...</td>\n",
       "      <td>...</td>\n",
       "      <td>...</td>\n",
       "      <td>...</td>\n",
       "      <td>...</td>\n",
       "    </tr>\n",
       "    <tr>\n",
       "      <th>2018-12-24</th>\n",
       "      <td>-0.026215</td>\n",
       "      <td>-0.024613</td>\n",
       "      <td>-0.034133</td>\n",
       "      <td>0.001278</td>\n",
       "      <td>0.001688</td>\n",
       "      <td>0.002985</td>\n",
       "      <td>-0.032697</td>\n",
       "      <td>0.009722</td>\n",
       "      <td>-0.028273</td>\n",
       "      <td>0.008298</td>\n",
       "      <td>-0.026778</td>\n",
       "    </tr>\n",
       "    <tr>\n",
       "      <th>2018-12-26</th>\n",
       "      <td>0.068053</td>\n",
       "      <td>0.090254</td>\n",
       "      <td>0.025975</td>\n",
       "      <td>0.002409</td>\n",
       "      <td>-0.002511</td>\n",
       "      <td>-0.004658</td>\n",
       "      <td>0.065712</td>\n",
       "      <td>-0.001640</td>\n",
       "      <td>0.057936</td>\n",
       "      <td>0.017478</td>\n",
       "      <td>0.049290</td>\n",
       "    </tr>\n",
       "    <tr>\n",
       "      <th>2018-12-27</th>\n",
       "      <td>-0.006511</td>\n",
       "      <td>-0.006315</td>\n",
       "      <td>0.002490</td>\n",
       "      <td>-0.004681</td>\n",
       "      <td>0.002101</td>\n",
       "      <td>0.006759</td>\n",
       "      <td>-0.016371</td>\n",
       "      <td>0.006740</td>\n",
       "      <td>0.003674</td>\n",
       "      <td>0.012689</td>\n",
       "      <td>0.007648</td>\n",
       "    </tr>\n",
       "    <tr>\n",
       "      <th>2018-12-28</th>\n",
       "      <td>0.000512</td>\n",
       "      <td>0.011144</td>\n",
       "      <td>0.010952</td>\n",
       "      <td>0.001989</td>\n",
       "      <td>0.000285</td>\n",
       "      <td>0.001224</td>\n",
       "      <td>0.032479</td>\n",
       "      <td>0.003912</td>\n",
       "      <td>0.008377</td>\n",
       "      <td>0.010219</td>\n",
       "      <td>-0.001291</td>\n",
       "    </tr>\n",
       "    <tr>\n",
       "      <th>2018-12-31</th>\n",
       "      <td>0.009619</td>\n",
       "      <td>0.016074</td>\n",
       "      <td>0.002807</td>\n",
       "      <td>0.000284</td>\n",
       "      <td>0.002315</td>\n",
       "      <td>0.002008</td>\n",
       "      <td>0.007958</td>\n",
       "      <td>0.001389</td>\n",
       "      <td>0.003843</td>\n",
       "      <td>0.007196</td>\n",
       "      <td>0.008721</td>\n",
       "    </tr>\n",
       "  </tbody>\n",
       "</table>\n",
       "<p>4745 rows × 11 columns</p>\n",
       "</div>"
      ],
      "text/plain": [
       "                AAPL      AMZN       ATT       AUD      BOND       EUR  \\\n",
       "Date                                                                     \n",
       "1999-12-31       NaN       NaN       NaN       NaN       NaN       NaN   \n",
       "2000-01-03  0.085034  0.160464 -0.036558  0.002737 -0.005384  0.017829   \n",
       "2000-01-04 -0.088077 -0.086884 -0.060292 -0.005329  0.003638  0.005161   \n",
       "2000-01-05  0.014527 -0.161039  0.015417  0.004418 -0.004583  0.002425   \n",
       "2000-01-06 -0.090514 -0.061914 -0.026781 -0.007017  0.002486  0.000678   \n",
       "...              ...       ...       ...       ...       ...       ...   \n",
       "2018-12-24 -0.026215 -0.024613 -0.034133  0.001278  0.001688  0.002985   \n",
       "2018-12-26  0.068053  0.090254  0.025975  0.002409 -0.002511 -0.004658   \n",
       "2018-12-27 -0.006511 -0.006315  0.002490 -0.004681  0.002101  0.006759   \n",
       "2018-12-28  0.000512  0.011144  0.010952  0.001989  0.000285  0.001224   \n",
       "2018-12-31  0.009619  0.016074  0.002807  0.000284  0.002315  0.002008   \n",
       "\n",
       "                  GE      GOLD      INTC    SILVER       SPY  \n",
       "Date                                                          \n",
       "1999-12-31       NaN       NaN       NaN       NaN       NaN  \n",
       "2000-01-03 -0.031176  0.003466  0.055385  0.004636 -0.009835  \n",
       "2000-01-04 -0.040822 -0.023633 -0.047821 -0.014912 -0.039891  \n",
       "2000-01-05 -0.001738 -0.008004  0.008255 -0.034387  0.001787  \n",
       "2000-01-06  0.013281  0.003921 -0.060064 -0.004871 -0.016202  \n",
       "...              ...       ...       ...       ...       ...  \n",
       "2018-12-24 -0.032697  0.009722 -0.028273  0.008298 -0.026778  \n",
       "2018-12-26  0.065712 -0.001640  0.057936  0.017478  0.049290  \n",
       "2018-12-27 -0.016371  0.006740  0.003674  0.012689  0.007648  \n",
       "2018-12-28  0.032479  0.003912  0.008377  0.010219 -0.001291  \n",
       "2018-12-31  0.007958  0.001389  0.003843  0.007196  0.008721  \n",
       "\n",
       "[4745 rows x 11 columns]"
      ]
     },
     "execution_count": 5,
     "metadata": {},
     "output_type": "execute_result"
    }
   ],
   "source": [
    "#Calculating log returns\n",
    "logReturns = np.log(prices / prices.shift(1))\n",
    "logReturns"
   ]
  },
  {
   "cell_type": "code",
   "execution_count": 6,
   "metadata": {
    "colab": {
     "base_uri": "https://localhost:8080/"
    },
    "id": "soEWgoNGQ2ep",
    "outputId": "1135cd83-eb9c-4240-9e7b-7f3681637980"
   },
   "outputs": [
    {
     "name": "stdout",
     "output_type": "stream",
     "text": [
      "<class 'pandas.core.frame.DataFrame'>\n",
      "Index: 4745 entries, 1999-12-31 to 2018-12-31\n",
      "Data columns (total 11 columns):\n",
      " #   Column  Non-Null Count  Dtype  \n",
      "---  ------  --------------  -----  \n",
      " 0   AAPL    4744 non-null   float64\n",
      " 1   AMZN    4744 non-null   float64\n",
      " 2   ATT     4744 non-null   float64\n",
      " 3   AUD     4744 non-null   float64\n",
      " 4   BOND    4744 non-null   float64\n",
      " 5   EUR     4744 non-null   float64\n",
      " 6   GE      4744 non-null   float64\n",
      " 7   GOLD    4744 non-null   float64\n",
      " 8   INTC    4744 non-null   float64\n",
      " 9   SILVER  4744 non-null   float64\n",
      " 10  SPY     4744 non-null   float64\n",
      "dtypes: float64(11)\n",
      "memory usage: 444.8+ KB\n"
     ]
    }
   ],
   "source": [
    "logReturns.info()"
   ]
  },
  {
   "cell_type": "code",
   "execution_count": 7,
   "metadata": {
    "id": "RoERAB1gQ6T4"
   },
   "outputs": [],
   "source": [
    "#dropping na from log returns\n",
    "logReturns.dropna(inplace=True)"
   ]
  },
  {
   "cell_type": "code",
   "execution_count": 8,
   "metadata": {
    "id": "-Af3Nw_1STTz"
   },
   "outputs": [],
   "source": [
    "#function to calculate summary stats\n",
    "annualization_factor=260\n",
    "pct_format_2d = '{:.2%}'\n",
    "def calc_summary_stats(dF, af=annualization_factor, pct_format=pct_format_2d):\n",
    "    cumRtns = dF.cumsum()\n",
    "    summary_stats = pd.DataFrame([af*dF.mean(),\n",
    "                                  np.sqrt(af)*dF.std(),\n",
    "                                  np.sqrt(af) * dF.mean() / dF.std(),\n",
    "                                  (cumRtns - np.maximum.accumulate(cumRtns)).min(axis=0),\n",
    "                                  (dF >= 0).sum() / dF.shape[0]\n",
    "                                 ],\n",
    "                                 index=['Average Annual Return', 'Annual Risk', 'Sharpe Ratio', 'maxDD', 'Success Ratio']\n",
    "                                )\n",
    "    print_data_frame_pct(summary_stats, pct_format=pct_format, indexSlice=pd.IndexSlice[['Average Annual Return', 'Annual Risk', 'maxDD', 'Success Ratio'], :])\n",
    "    #percent_df_display(summary_stats, pct_format)\n",
    "    return summary_stats"
   ]
  },
  {
   "cell_type": "code",
   "execution_count": 9,
   "metadata": {
    "id": "Fig5EPsMSOXm"
   },
   "outputs": [],
   "source": [
    "# Creating a function to take in a dataframe and return it out in a percentage format rounded to 2 decimal placed\n",
    "def print_data_frame_pct (dF, pct_format=pct_format_4d, nan='NaN', indexSlice=pd.IndexSlice[:,:]): # definging function name along with its arguments\n",
    "    return (dF.style.format(pct_format, na_rep=nan, subset=indexSlice)) # displaying the dataframe in the required format"
   ]
  },
  {
   "cell_type": "code",
   "execution_count": 10,
   "metadata": {},
   "outputs": [
    {
     "data": {
      "text/html": [
       "<style type=\"text/css\">\n",
       "</style>\n",
       "<table id=\"T_891b5\">\n",
       "  <thead>\n",
       "    <tr>\n",
       "      <th class=\"blank level0\" >&nbsp;</th>\n",
       "      <th id=\"T_891b5_level0_col0\" class=\"col_heading level0 col0\" >AAPL</th>\n",
       "      <th id=\"T_891b5_level0_col1\" class=\"col_heading level0 col1\" >AMZN</th>\n",
       "      <th id=\"T_891b5_level0_col2\" class=\"col_heading level0 col2\" >ATT</th>\n",
       "      <th id=\"T_891b5_level0_col3\" class=\"col_heading level0 col3\" >AUD</th>\n",
       "      <th id=\"T_891b5_level0_col4\" class=\"col_heading level0 col4\" >BOND</th>\n",
       "      <th id=\"T_891b5_level0_col5\" class=\"col_heading level0 col5\" >EUR</th>\n",
       "      <th id=\"T_891b5_level0_col6\" class=\"col_heading level0 col6\" >GE</th>\n",
       "      <th id=\"T_891b5_level0_col7\" class=\"col_heading level0 col7\" >GOLD</th>\n",
       "      <th id=\"T_891b5_level0_col8\" class=\"col_heading level0 col8\" >INTC</th>\n",
       "      <th id=\"T_891b5_level0_col9\" class=\"col_heading level0 col9\" >SILVER</th>\n",
       "      <th id=\"T_891b5_level0_col10\" class=\"col_heading level0 col10\" >SPY</th>\n",
       "    </tr>\n",
       "  </thead>\n",
       "  <tbody>\n",
       "    <tr>\n",
       "      <th id=\"T_891b5_level0_row0\" class=\"row_heading level0 row0\" >AAPL</th>\n",
       "      <td id=\"T_891b5_row0_col0\" class=\"data row0 col0\" >100.00%</td>\n",
       "      <td id=\"T_891b5_row0_col1\" class=\"data row0 col1\" >32.93%</td>\n",
       "      <td id=\"T_891b5_row0_col2\" class=\"data row0 col2\" >24.46%</td>\n",
       "      <td id=\"T_891b5_row0_col3\" class=\"data row0 col3\" >17.80%</td>\n",
       "      <td id=\"T_891b5_row0_col4\" class=\"data row0 col4\" >-15.93%</td>\n",
       "      <td id=\"T_891b5_row0_col5\" class=\"data row0 col5\" >-0.05%</td>\n",
       "      <td id=\"T_891b5_row0_col6\" class=\"data row0 col6\" >34.06%</td>\n",
       "      <td id=\"T_891b5_row0_col7\" class=\"data row0 col7\" >-2.98%</td>\n",
       "      <td id=\"T_891b5_row0_col8\" class=\"data row0 col8\" >46.96%</td>\n",
       "      <td id=\"T_891b5_row0_col9\" class=\"data row0 col9\" >5.48%</td>\n",
       "      <td id=\"T_891b5_row0_col10\" class=\"data row0 col10\" >49.33%</td>\n",
       "    </tr>\n",
       "    <tr>\n",
       "      <th id=\"T_891b5_level0_row1\" class=\"row_heading level0 row1\" >AMZN</th>\n",
       "      <td id=\"T_891b5_row1_col0\" class=\"data row1 col0\" >32.93%</td>\n",
       "      <td id=\"T_891b5_row1_col1\" class=\"data row1 col1\" >100.00%</td>\n",
       "      <td id=\"T_891b5_row1_col2\" class=\"data row1 col2\" >18.20%</td>\n",
       "      <td id=\"T_891b5_row1_col3\" class=\"data row1 col3\" >16.01%</td>\n",
       "      <td id=\"T_891b5_row1_col4\" class=\"data row1 col4\" >-13.32%</td>\n",
       "      <td id=\"T_891b5_row1_col5\" class=\"data row1 col5\" >0.03%</td>\n",
       "      <td id=\"T_891b5_row1_col6\" class=\"data row1 col6\" >29.65%</td>\n",
       "      <td id=\"T_891b5_row1_col7\" class=\"data row1 col7\" >-3.72%</td>\n",
       "      <td id=\"T_891b5_row1_col8\" class=\"data row1 col8\" >38.33%</td>\n",
       "      <td id=\"T_891b5_row1_col9\" class=\"data row1 col9\" >2.53%</td>\n",
       "      <td id=\"T_891b5_row1_col10\" class=\"data row1 col10\" >46.56%</td>\n",
       "    </tr>\n",
       "    <tr>\n",
       "      <th id=\"T_891b5_level0_row2\" class=\"row_heading level0 row2\" >ATT</th>\n",
       "      <td id=\"T_891b5_row2_col0\" class=\"data row2 col0\" >24.46%</td>\n",
       "      <td id=\"T_891b5_row2_col1\" class=\"data row2 col1\" >18.20%</td>\n",
       "      <td id=\"T_891b5_row2_col2\" class=\"data row2 col2\" >100.00%</td>\n",
       "      <td id=\"T_891b5_row2_col3\" class=\"data row2 col3\" >23.57%</td>\n",
       "      <td id=\"T_891b5_row2_col4\" class=\"data row2 col4\" >-12.99%</td>\n",
       "      <td id=\"T_891b5_row2_col5\" class=\"data row2 col5\" >6.56%</td>\n",
       "      <td id=\"T_891b5_row2_col6\" class=\"data row2 col6\" >38.30%</td>\n",
       "      <td id=\"T_891b5_row2_col7\" class=\"data row2 col7\" >-2.19%</td>\n",
       "      <td id=\"T_891b5_row2_col8\" class=\"data row2 col8\" >32.68%</td>\n",
       "      <td id=\"T_891b5_row2_col9\" class=\"data row2 col9\" >4.88%</td>\n",
       "      <td id=\"T_891b5_row2_col10\" class=\"data row2 col10\" >56.38%</td>\n",
       "    </tr>\n",
       "    <tr>\n",
       "      <th id=\"T_891b5_level0_row3\" class=\"row_heading level0 row3\" >AUD</th>\n",
       "      <td id=\"T_891b5_row3_col0\" class=\"data row3 col0\" >17.80%</td>\n",
       "      <td id=\"T_891b5_row3_col1\" class=\"data row3 col1\" >16.01%</td>\n",
       "      <td id=\"T_891b5_row3_col2\" class=\"data row3 col2\" >23.57%</td>\n",
       "      <td id=\"T_891b5_row3_col3\" class=\"data row3 col3\" >100.00%</td>\n",
       "      <td id=\"T_891b5_row3_col4\" class=\"data row3 col4\" >-2.58%</td>\n",
       "      <td id=\"T_891b5_row3_col5\" class=\"data row3 col5\" >54.75%</td>\n",
       "      <td id=\"T_891b5_row3_col6\" class=\"data row3 col6\" >27.27%</td>\n",
       "      <td id=\"T_891b5_row3_col7\" class=\"data row3 col7\" >33.39%</td>\n",
       "      <td id=\"T_891b5_row3_col8\" class=\"data row3 col8\" >21.83%</td>\n",
       "      <td id=\"T_891b5_row3_col9\" class=\"data row3 col9\" >40.93%</td>\n",
       "      <td id=\"T_891b5_row3_col10\" class=\"data row3 col10\" >43.83%</td>\n",
       "    </tr>\n",
       "    <tr>\n",
       "      <th id=\"T_891b5_level0_row4\" class=\"row_heading level0 row4\" >BOND</th>\n",
       "      <td id=\"T_891b5_row4_col0\" class=\"data row4 col0\" >-15.93%</td>\n",
       "      <td id=\"T_891b5_row4_col1\" class=\"data row4 col1\" >-13.32%</td>\n",
       "      <td id=\"T_891b5_row4_col2\" class=\"data row4 col2\" >-12.99%</td>\n",
       "      <td id=\"T_891b5_row4_col3\" class=\"data row4 col3\" >-2.58%</td>\n",
       "      <td id=\"T_891b5_row4_col4\" class=\"data row4 col4\" >100.00%</td>\n",
       "      <td id=\"T_891b5_row4_col5\" class=\"data row4 col5\" >13.83%</td>\n",
       "      <td id=\"T_891b5_row4_col6\" class=\"data row4 col6\" >-20.76%</td>\n",
       "      <td id=\"T_891b5_row4_col7\" class=\"data row4 col7\" >16.32%</td>\n",
       "      <td id=\"T_891b5_row4_col8\" class=\"data row4 col8\" >-19.22%</td>\n",
       "      <td id=\"T_891b5_row4_col9\" class=\"data row4 col9\" >6.21%</td>\n",
       "      <td id=\"T_891b5_row4_col10\" class=\"data row4 col10\" >-26.45%</td>\n",
       "    </tr>\n",
       "    <tr>\n",
       "      <th id=\"T_891b5_level0_row5\" class=\"row_heading level0 row5\" >EUR</th>\n",
       "      <td id=\"T_891b5_row5_col0\" class=\"data row5 col0\" >-0.05%</td>\n",
       "      <td id=\"T_891b5_row5_col1\" class=\"data row5 col1\" >0.03%</td>\n",
       "      <td id=\"T_891b5_row5_col2\" class=\"data row5 col2\" >6.56%</td>\n",
       "      <td id=\"T_891b5_row5_col3\" class=\"data row5 col3\" >54.75%</td>\n",
       "      <td id=\"T_891b5_row5_col4\" class=\"data row5 col4\" >13.83%</td>\n",
       "      <td id=\"T_891b5_row5_col5\" class=\"data row5 col5\" >100.00%</td>\n",
       "      <td id=\"T_891b5_row5_col6\" class=\"data row5 col6\" >6.51%</td>\n",
       "      <td id=\"T_891b5_row5_col7\" class=\"data row5 col7\" >38.63%</td>\n",
       "      <td id=\"T_891b5_row5_col8\" class=\"data row5 col8\" >-0.37%</td>\n",
       "      <td id=\"T_891b5_row5_col9\" class=\"data row5 col9\" >35.67%</td>\n",
       "      <td id=\"T_891b5_row5_col10\" class=\"data row5 col10\" >11.20%</td>\n",
       "    </tr>\n",
       "    <tr>\n",
       "      <th id=\"T_891b5_level0_row6\" class=\"row_heading level0 row6\" >GE</th>\n",
       "      <td id=\"T_891b5_row6_col0\" class=\"data row6 col0\" >34.06%</td>\n",
       "      <td id=\"T_891b5_row6_col1\" class=\"data row6 col1\" >29.65%</td>\n",
       "      <td id=\"T_891b5_row6_col2\" class=\"data row6 col2\" >38.30%</td>\n",
       "      <td id=\"T_891b5_row6_col3\" class=\"data row6 col3\" >27.27%</td>\n",
       "      <td id=\"T_891b5_row6_col4\" class=\"data row6 col4\" >-20.76%</td>\n",
       "      <td id=\"T_891b5_row6_col5\" class=\"data row6 col5\" >6.51%</td>\n",
       "      <td id=\"T_891b5_row6_col6\" class=\"data row6 col6\" >100.00%</td>\n",
       "      <td id=\"T_891b5_row6_col7\" class=\"data row6 col7\" >-5.09%</td>\n",
       "      <td id=\"T_891b5_row6_col8\" class=\"data row6 col8\" >42.49%</td>\n",
       "      <td id=\"T_891b5_row6_col9\" class=\"data row6 col9\" >5.28%</td>\n",
       "      <td id=\"T_891b5_row6_col10\" class=\"data row6 col10\" >69.63%</td>\n",
       "    </tr>\n",
       "    <tr>\n",
       "      <th id=\"T_891b5_level0_row7\" class=\"row_heading level0 row7\" >GOLD</th>\n",
       "      <td id=\"T_891b5_row7_col0\" class=\"data row7 col0\" >-2.98%</td>\n",
       "      <td id=\"T_891b5_row7_col1\" class=\"data row7 col1\" >-3.72%</td>\n",
       "      <td id=\"T_891b5_row7_col2\" class=\"data row7 col2\" >-2.19%</td>\n",
       "      <td id=\"T_891b5_row7_col3\" class=\"data row7 col3\" >33.39%</td>\n",
       "      <td id=\"T_891b5_row7_col4\" class=\"data row7 col4\" >16.32%</td>\n",
       "      <td id=\"T_891b5_row7_col5\" class=\"data row7 col5\" >38.63%</td>\n",
       "      <td id=\"T_891b5_row7_col6\" class=\"data row7 col6\" >-5.09%</td>\n",
       "      <td id=\"T_891b5_row7_col7\" class=\"data row7 col7\" >100.00%</td>\n",
       "      <td id=\"T_891b5_row7_col8\" class=\"data row7 col8\" >-3.45%</td>\n",
       "      <td id=\"T_891b5_row7_col9\" class=\"data row7 col9\" >76.59%</td>\n",
       "      <td id=\"T_891b5_row7_col10\" class=\"data row7 col10\" >-1.44%</td>\n",
       "    </tr>\n",
       "    <tr>\n",
       "      <th id=\"T_891b5_level0_row8\" class=\"row_heading level0 row8\" >INTC</th>\n",
       "      <td id=\"T_891b5_row8_col0\" class=\"data row8 col0\" >46.96%</td>\n",
       "      <td id=\"T_891b5_row8_col1\" class=\"data row8 col1\" >38.33%</td>\n",
       "      <td id=\"T_891b5_row8_col2\" class=\"data row8 col2\" >32.68%</td>\n",
       "      <td id=\"T_891b5_row8_col3\" class=\"data row8 col3\" >21.83%</td>\n",
       "      <td id=\"T_891b5_row8_col4\" class=\"data row8 col4\" >-19.22%</td>\n",
       "      <td id=\"T_891b5_row8_col5\" class=\"data row8 col5\" >-0.37%</td>\n",
       "      <td id=\"T_891b5_row8_col6\" class=\"data row8 col6\" >42.49%</td>\n",
       "      <td id=\"T_891b5_row8_col7\" class=\"data row8 col7\" >-3.45%</td>\n",
       "      <td id=\"T_891b5_row8_col8\" class=\"data row8 col8\" >100.00%</td>\n",
       "      <td id=\"T_891b5_row8_col9\" class=\"data row8 col9\" >5.03%</td>\n",
       "      <td id=\"T_891b5_row8_col10\" class=\"data row8 col10\" >64.15%</td>\n",
       "    </tr>\n",
       "    <tr>\n",
       "      <th id=\"T_891b5_level0_row9\" class=\"row_heading level0 row9\" >SILVER</th>\n",
       "      <td id=\"T_891b5_row9_col0\" class=\"data row9 col0\" >5.48%</td>\n",
       "      <td id=\"T_891b5_row9_col1\" class=\"data row9 col1\" >2.53%</td>\n",
       "      <td id=\"T_891b5_row9_col2\" class=\"data row9 col2\" >4.88%</td>\n",
       "      <td id=\"T_891b5_row9_col3\" class=\"data row9 col3\" >40.93%</td>\n",
       "      <td id=\"T_891b5_row9_col4\" class=\"data row9 col4\" >6.21%</td>\n",
       "      <td id=\"T_891b5_row9_col5\" class=\"data row9 col5\" >35.67%</td>\n",
       "      <td id=\"T_891b5_row9_col6\" class=\"data row9 col6\" >5.28%</td>\n",
       "      <td id=\"T_891b5_row9_col7\" class=\"data row9 col7\" >76.59%</td>\n",
       "      <td id=\"T_891b5_row9_col8\" class=\"data row9 col8\" >5.03%</td>\n",
       "      <td id=\"T_891b5_row9_col9\" class=\"data row9 col9\" >100.00%</td>\n",
       "      <td id=\"T_891b5_row9_col10\" class=\"data row9 col10\" >14.84%</td>\n",
       "    </tr>\n",
       "    <tr>\n",
       "      <th id=\"T_891b5_level0_row10\" class=\"row_heading level0 row10\" >SPY</th>\n",
       "      <td id=\"T_891b5_row10_col0\" class=\"data row10 col0\" >49.33%</td>\n",
       "      <td id=\"T_891b5_row10_col1\" class=\"data row10 col1\" >46.56%</td>\n",
       "      <td id=\"T_891b5_row10_col2\" class=\"data row10 col2\" >56.38%</td>\n",
       "      <td id=\"T_891b5_row10_col3\" class=\"data row10 col3\" >43.83%</td>\n",
       "      <td id=\"T_891b5_row10_col4\" class=\"data row10 col4\" >-26.45%</td>\n",
       "      <td id=\"T_891b5_row10_col5\" class=\"data row10 col5\" >11.20%</td>\n",
       "      <td id=\"T_891b5_row10_col6\" class=\"data row10 col6\" >69.63%</td>\n",
       "      <td id=\"T_891b5_row10_col7\" class=\"data row10 col7\" >-1.44%</td>\n",
       "      <td id=\"T_891b5_row10_col8\" class=\"data row10 col8\" >64.15%</td>\n",
       "      <td id=\"T_891b5_row10_col9\" class=\"data row10 col9\" >14.84%</td>\n",
       "      <td id=\"T_891b5_row10_col10\" class=\"data row10 col10\" >100.00%</td>\n",
       "    </tr>\n",
       "  </tbody>\n",
       "</table>\n"
      ],
      "text/plain": [
       "<pandas.io.formats.style.Styler at 0x1874acc3880>"
      ]
     },
     "execution_count": 10,
     "metadata": {},
     "output_type": "execute_result"
    }
   ],
   "source": [
    "# calcualting the correlation dataframe of the logReturns dataframe and printing it out in a percentage format rounded to 2 decimal placed \n",
    "print_data_frame_pct(logReturns.corr(), pct_format=pct_format_2d) "
   ]
  },
  {
   "cell_type": "code",
   "execution_count": 11,
   "metadata": {},
   "outputs": [],
   "source": [
    "import seaborn as sns"
   ]
  },
  {
   "cell_type": "code",
   "execution_count": 12,
   "metadata": {},
   "outputs": [
    {
     "data": {
      "image/png": "[encoded data removed]",
      "text/plain": [
       "<Figure size 864x576 with 2 Axes>"
      ]
     },
     "metadata": {
      "needs_background": "light"
     },
     "output_type": "display_data"
    }
   ],
   "source": [
    "plt.figure(figsize=(12,8))\n",
    "sns.heatmap(data=logReturns.corr(),cmap='coolwarm_r',annot=True)\n",
    "plt.title('Heatmap of Correlation among the Instruments')\n",
    "plt.show();"
   ]
  },
  {
   "cell_type": "code",
   "execution_count": 13,
   "metadata": {},
   "outputs": [
    {
     "data": {
      "image/png": "[encoded data removed]",
      "text/plain": [
       "<Figure size 864x576 with 1 Axes>"
      ]
     },
     "metadata": {
      "needs_background": "light"
     },
     "output_type": "display_data"
    }
   ],
   "source": [
    "logReturns.plot(figsize=(12,8))\n",
    "plt.title('Daily Log Returns of all Instrument')\n",
    "plt.xlabel('Timestamp')\n",
    "plt.ylabel('Log Returns')\n",
    "plt.show();"
   ]
  },
  {
   "cell_type": "code",
   "execution_count": 14,
   "metadata": {
    "id": "T7N7ysj2Sq0C"
   },
   "outputs": [
    {
     "data": {
      "text/html": [
       "<div>\n",
       "<style scoped>\n",
       "    .dataframe tbody tr th:only-of-type {\n",
       "        vertical-align: middle;\n",
       "    }\n",
       "\n",
       "    .dataframe tbody tr th {\n",
       "        vertical-align: top;\n",
       "    }\n",
       "\n",
       "    .dataframe thead th {\n",
       "        text-align: right;\n",
       "    }\n",
       "</style>\n",
       "<table border=\"1\" class=\"dataframe\">\n",
       "  <thead>\n",
       "    <tr style=\"text-align: right;\">\n",
       "      <th></th>\n",
       "      <th>AAPL</th>\n",
       "      <th>AMZN</th>\n",
       "      <th>ATT</th>\n",
       "      <th>AUD</th>\n",
       "      <th>BOND</th>\n",
       "      <th>EUR</th>\n",
       "      <th>GE</th>\n",
       "      <th>GOLD</th>\n",
       "      <th>INTC</th>\n",
       "      <th>SILVER</th>\n",
       "      <th>SPY</th>\n",
       "    </tr>\n",
       "  </thead>\n",
       "  <tbody>\n",
       "    <tr>\n",
       "      <th>Average Annual Return</th>\n",
       "      <td>0.206084</td>\n",
       "      <td>0.163440</td>\n",
       "      <td>-0.029343</td>\n",
       "      <td>0.003882</td>\n",
       "      <td>0.012411</td>\n",
       "      <td>0.007164</td>\n",
       "      <td>-0.105173</td>\n",
       "      <td>0.081858</td>\n",
       "      <td>0.007195</td>\n",
       "      <td>0.057975</td>\n",
       "      <td>0.029133</td>\n",
       "    </tr>\n",
       "    <tr>\n",
       "      <th>Annual Risk</th>\n",
       "      <td>0.433101</td>\n",
       "      <td>0.536613</td>\n",
       "      <td>0.266217</td>\n",
       "      <td>0.131453</td>\n",
       "      <td>0.037481</td>\n",
       "      <td>0.102092</td>\n",
       "      <td>0.314310</td>\n",
       "      <td>0.178154</td>\n",
       "      <td>0.380026</td>\n",
       "      <td>0.304557</td>\n",
       "      <td>0.196204</td>\n",
       "    </tr>\n",
       "    <tr>\n",
       "      <th>Sharpe Ratio</th>\n",
       "      <td>0.475834</td>\n",
       "      <td>0.304578</td>\n",
       "      <td>-0.110222</td>\n",
       "      <td>0.029530</td>\n",
       "      <td>0.331122</td>\n",
       "      <td>0.070168</td>\n",
       "      <td>-0.334616</td>\n",
       "      <td>0.459479</td>\n",
       "      <td>0.018933</td>\n",
       "      <td>0.190360</td>\n",
       "      <td>0.148482</td>\n",
       "    </tr>\n",
       "    <tr>\n",
       "      <th>maxDD</th>\n",
       "      <td>-1.703828</td>\n",
       "      <td>-2.706094</td>\n",
       "      <td>-1.106851</td>\n",
       "      <td>-0.487846</td>\n",
       "      <td>-0.142077</td>\n",
       "      <td>-0.431375</td>\n",
       "      <td>-2.198225</td>\n",
       "      <td>-0.590679</td>\n",
       "      <td>-1.824269</td>\n",
       "      <td>-1.264769</td>\n",
       "      <td>-0.831804</td>\n",
       "    </tr>\n",
       "    <tr>\n",
       "      <th>Success Ratio</th>\n",
       "      <td>0.522344</td>\n",
       "      <td>0.512226</td>\n",
       "      <td>0.516442</td>\n",
       "      <td>0.527192</td>\n",
       "      <td>0.524663</td>\n",
       "      <td>0.509907</td>\n",
       "      <td>0.500843</td>\n",
       "      <td>0.524452</td>\n",
       "      <td>0.516863</td>\n",
       "      <td>0.540894</td>\n",
       "      <td>0.539418</td>\n",
       "    </tr>\n",
       "  </tbody>\n",
       "</table>\n",
       "</div>"
      ],
      "text/plain": [
       "                           AAPL      AMZN       ATT       AUD      BOND  \\\n",
       "Average Annual Return  0.206084  0.163440 -0.029343  0.003882  0.012411   \n",
       "Annual Risk            0.433101  0.536613  0.266217  0.131453  0.037481   \n",
       "Sharpe Ratio           0.475834  0.304578 -0.110222  0.029530  0.331122   \n",
       "maxDD                 -1.703828 -2.706094 -1.106851 -0.487846 -0.142077   \n",
       "Success Ratio          0.522344  0.512226  0.516442  0.527192  0.524663   \n",
       "\n",
       "                            EUR        GE      GOLD      INTC    SILVER  \\\n",
       "Average Annual Return  0.007164 -0.105173  0.081858  0.007195  0.057975   \n",
       "Annual Risk            0.102092  0.314310  0.178154  0.380026  0.304557   \n",
       "Sharpe Ratio           0.070168 -0.334616  0.459479  0.018933  0.190360   \n",
       "maxDD                 -0.431375 -2.198225 -0.590679 -1.824269 -1.264769   \n",
       "Success Ratio          0.509907  0.500843  0.524452  0.516863  0.540894   \n",
       "\n",
       "                            SPY  \n",
       "Average Annual Return  0.029133  \n",
       "Annual Risk            0.196204  \n",
       "Sharpe Ratio           0.148482  \n",
       "maxDD                 -0.831804  \n",
       "Success Ratio          0.539418  "
      ]
     },
     "execution_count": 14,
     "metadata": {},
     "output_type": "execute_result"
    }
   ],
   "source": [
    "# calculating the summary stats of logReturns table using the calc_summary_stats function created above\n",
    "summary_stats = calc_summary_stats(logReturns) \n",
    "summary_stats"
   ]
  },
  {
   "cell_type": "code",
   "execution_count": 15,
   "metadata": {
    "colab": {
     "base_uri": "https://localhost:8080/"
    },
    "id": "6V5XGbzRS00r",
    "outputId": "cae7caa8-c30b-4bd4-f786-dd80a1312e8e"
   },
   "outputs": [
    {
     "data": {
      "text/html": [
       "<style type=\"text/css\">\n",
       "</style>\n",
       "<table id=\"T_e8524\">\n",
       "  <thead>\n",
       "    <tr>\n",
       "      <th class=\"blank level0\" >&nbsp;</th>\n",
       "      <th id=\"T_e8524_level0_col0\" class=\"col_heading level0 col0\" >AAPL</th>\n",
       "      <th id=\"T_e8524_level0_col1\" class=\"col_heading level0 col1\" >AMZN</th>\n",
       "      <th id=\"T_e8524_level0_col2\" class=\"col_heading level0 col2\" >ATT</th>\n",
       "      <th id=\"T_e8524_level0_col3\" class=\"col_heading level0 col3\" >GE</th>\n",
       "      <th id=\"T_e8524_level0_col4\" class=\"col_heading level0 col4\" >INTC</th>\n",
       "      <th id=\"T_e8524_level0_col5\" class=\"col_heading level0 col5\" >SPY</th>\n",
       "    </tr>\n",
       "  </thead>\n",
       "  <tbody>\n",
       "    <tr>\n",
       "      <th id=\"T_e8524_level0_row0\" class=\"row_heading level0 row0\" >AAPL</th>\n",
       "      <td id=\"T_e8524_row0_col0\" class=\"data row0 col0\" >100.00%</td>\n",
       "      <td id=\"T_e8524_row0_col1\" class=\"data row0 col1\" >32.93%</td>\n",
       "      <td id=\"T_e8524_row0_col2\" class=\"data row0 col2\" >24.46%</td>\n",
       "      <td id=\"T_e8524_row0_col3\" class=\"data row0 col3\" >34.06%</td>\n",
       "      <td id=\"T_e8524_row0_col4\" class=\"data row0 col4\" >46.96%</td>\n",
       "      <td id=\"T_e8524_row0_col5\" class=\"data row0 col5\" >49.33%</td>\n",
       "    </tr>\n",
       "    <tr>\n",
       "      <th id=\"T_e8524_level0_row1\" class=\"row_heading level0 row1\" >AMZN</th>\n",
       "      <td id=\"T_e8524_row1_col0\" class=\"data row1 col0\" >32.93%</td>\n",
       "      <td id=\"T_e8524_row1_col1\" class=\"data row1 col1\" >100.00%</td>\n",
       "      <td id=\"T_e8524_row1_col2\" class=\"data row1 col2\" >18.20%</td>\n",
       "      <td id=\"T_e8524_row1_col3\" class=\"data row1 col3\" >29.65%</td>\n",
       "      <td id=\"T_e8524_row1_col4\" class=\"data row1 col4\" >38.33%</td>\n",
       "      <td id=\"T_e8524_row1_col5\" class=\"data row1 col5\" >46.56%</td>\n",
       "    </tr>\n",
       "    <tr>\n",
       "      <th id=\"T_e8524_level0_row2\" class=\"row_heading level0 row2\" >ATT</th>\n",
       "      <td id=\"T_e8524_row2_col0\" class=\"data row2 col0\" >24.46%</td>\n",
       "      <td id=\"T_e8524_row2_col1\" class=\"data row2 col1\" >18.20%</td>\n",
       "      <td id=\"T_e8524_row2_col2\" class=\"data row2 col2\" >100.00%</td>\n",
       "      <td id=\"T_e8524_row2_col3\" class=\"data row2 col3\" >38.30%</td>\n",
       "      <td id=\"T_e8524_row2_col4\" class=\"data row2 col4\" >32.68%</td>\n",
       "      <td id=\"T_e8524_row2_col5\" class=\"data row2 col5\" >56.38%</td>\n",
       "    </tr>\n",
       "    <tr>\n",
       "      <th id=\"T_e8524_level0_row3\" class=\"row_heading level0 row3\" >GE</th>\n",
       "      <td id=\"T_e8524_row3_col0\" class=\"data row3 col0\" >34.06%</td>\n",
       "      <td id=\"T_e8524_row3_col1\" class=\"data row3 col1\" >29.65%</td>\n",
       "      <td id=\"T_e8524_row3_col2\" class=\"data row3 col2\" >38.30%</td>\n",
       "      <td id=\"T_e8524_row3_col3\" class=\"data row3 col3\" >100.00%</td>\n",
       "      <td id=\"T_e8524_row3_col4\" class=\"data row3 col4\" >42.49%</td>\n",
       "      <td id=\"T_e8524_row3_col5\" class=\"data row3 col5\" >69.63%</td>\n",
       "    </tr>\n",
       "    <tr>\n",
       "      <th id=\"T_e8524_level0_row4\" class=\"row_heading level0 row4\" >INTC</th>\n",
       "      <td id=\"T_e8524_row4_col0\" class=\"data row4 col0\" >46.96%</td>\n",
       "      <td id=\"T_e8524_row4_col1\" class=\"data row4 col1\" >38.33%</td>\n",
       "      <td id=\"T_e8524_row4_col2\" class=\"data row4 col2\" >32.68%</td>\n",
       "      <td id=\"T_e8524_row4_col3\" class=\"data row4 col3\" >42.49%</td>\n",
       "      <td id=\"T_e8524_row4_col4\" class=\"data row4 col4\" >100.00%</td>\n",
       "      <td id=\"T_e8524_row4_col5\" class=\"data row4 col5\" >64.15%</td>\n",
       "    </tr>\n",
       "    <tr>\n",
       "      <th id=\"T_e8524_level0_row5\" class=\"row_heading level0 row5\" >SPY</th>\n",
       "      <td id=\"T_e8524_row5_col0\" class=\"data row5 col0\" >49.33%</td>\n",
       "      <td id=\"T_e8524_row5_col1\" class=\"data row5 col1\" >46.56%</td>\n",
       "      <td id=\"T_e8524_row5_col2\" class=\"data row5 col2\" >56.38%</td>\n",
       "      <td id=\"T_e8524_row5_col3\" class=\"data row5 col3\" >69.63%</td>\n",
       "      <td id=\"T_e8524_row5_col4\" class=\"data row5 col4\" >64.15%</td>\n",
       "      <td id=\"T_e8524_row5_col5\" class=\"data row5 col5\" >100.00%</td>\n",
       "    </tr>\n",
       "  </tbody>\n",
       "</table>\n"
      ],
      "text/plain": [
       "<pandas.io.formats.style.Styler at 0x1875f3a6a70>"
      ]
     },
     "execution_count": 15,
     "metadata": {},
     "output_type": "execute_result"
    }
   ],
   "source": [
    "#correlation of stocks\n",
    "stocks = ['AAPL','AMZN','ATT','GE','INTC','SPY']\n",
    "print_data_frame_pct(logReturns[stocks].corr(), pct_format=pct_format_2d) "
   ]
  },
  {
   "cell_type": "code",
   "execution_count": 16,
   "metadata": {
    "id": "PE17U0XcTuLV"
   },
   "outputs": [
    {
     "data": {
      "text/html": [
       "<div>\n",
       "<style scoped>\n",
       "    .dataframe tbody tr th:only-of-type {\n",
       "        vertical-align: middle;\n",
       "    }\n",
       "\n",
       "    .dataframe tbody tr th {\n",
       "        vertical-align: top;\n",
       "    }\n",
       "\n",
       "    .dataframe thead th {\n",
       "        text-align: right;\n",
       "    }\n",
       "</style>\n",
       "<table border=\"1\" class=\"dataframe\">\n",
       "  <thead>\n",
       "    <tr style=\"text-align: right;\">\n",
       "      <th></th>\n",
       "      <th>AAPL</th>\n",
       "      <th>AMZN</th>\n",
       "      <th>ATT</th>\n",
       "      <th>AUD</th>\n",
       "      <th>BOND</th>\n",
       "      <th>EUR</th>\n",
       "      <th>GE</th>\n",
       "      <th>GOLD</th>\n",
       "      <th>INTC</th>\n",
       "      <th>SILVER</th>\n",
       "      <th>SPY</th>\n",
       "    </tr>\n",
       "  </thead>\n",
       "  <tbody>\n",
       "    <tr>\n",
       "      <th>Average Annual Return</th>\n",
       "      <td>0.206084</td>\n",
       "      <td>0.163440</td>\n",
       "      <td>-0.029343</td>\n",
       "      <td>0.003882</td>\n",
       "      <td>0.012411</td>\n",
       "      <td>0.007164</td>\n",
       "      <td>-0.105173</td>\n",
       "      <td>0.081858</td>\n",
       "      <td>0.007195</td>\n",
       "      <td>0.057975</td>\n",
       "      <td>0.029133</td>\n",
       "    </tr>\n",
       "    <tr>\n",
       "      <th>Annual Risk</th>\n",
       "      <td>0.433101</td>\n",
       "      <td>0.536613</td>\n",
       "      <td>0.266217</td>\n",
       "      <td>0.131453</td>\n",
       "      <td>0.037481</td>\n",
       "      <td>0.102092</td>\n",
       "      <td>0.314310</td>\n",
       "      <td>0.178154</td>\n",
       "      <td>0.380026</td>\n",
       "      <td>0.304557</td>\n",
       "      <td>0.196204</td>\n",
       "    </tr>\n",
       "    <tr>\n",
       "      <th>Sharpe Ratio</th>\n",
       "      <td>0.475834</td>\n",
       "      <td>0.304578</td>\n",
       "      <td>-0.110222</td>\n",
       "      <td>0.029530</td>\n",
       "      <td>0.331122</td>\n",
       "      <td>0.070168</td>\n",
       "      <td>-0.334616</td>\n",
       "      <td>0.459479</td>\n",
       "      <td>0.018933</td>\n",
       "      <td>0.190360</td>\n",
       "      <td>0.148482</td>\n",
       "    </tr>\n",
       "    <tr>\n",
       "      <th>maxDD</th>\n",
       "      <td>-1.703828</td>\n",
       "      <td>-2.706094</td>\n",
       "      <td>-1.106851</td>\n",
       "      <td>-0.487846</td>\n",
       "      <td>-0.142077</td>\n",
       "      <td>-0.431375</td>\n",
       "      <td>-2.198225</td>\n",
       "      <td>-0.590679</td>\n",
       "      <td>-1.824269</td>\n",
       "      <td>-1.264769</td>\n",
       "      <td>-0.831804</td>\n",
       "    </tr>\n",
       "    <tr>\n",
       "      <th>Success Ratio</th>\n",
       "      <td>0.522344</td>\n",
       "      <td>0.512226</td>\n",
       "      <td>0.516442</td>\n",
       "      <td>0.527192</td>\n",
       "      <td>0.524663</td>\n",
       "      <td>0.509907</td>\n",
       "      <td>0.500843</td>\n",
       "      <td>0.524452</td>\n",
       "      <td>0.516863</td>\n",
       "      <td>0.540894</td>\n",
       "      <td>0.539418</td>\n",
       "    </tr>\n",
       "  </tbody>\n",
       "</table>\n",
       "</div>"
      ],
      "text/plain": [
       "                           AAPL      AMZN       ATT       AUD      BOND  \\\n",
       "Average Annual Return  0.206084  0.163440 -0.029343  0.003882  0.012411   \n",
       "Annual Risk            0.433101  0.536613  0.266217  0.131453  0.037481   \n",
       "Sharpe Ratio           0.475834  0.304578 -0.110222  0.029530  0.331122   \n",
       "maxDD                 -1.703828 -2.706094 -1.106851 -0.487846 -0.142077   \n",
       "Success Ratio          0.522344  0.512226  0.516442  0.527192  0.524663   \n",
       "\n",
       "                            EUR        GE      GOLD      INTC    SILVER  \\\n",
       "Average Annual Return  0.007164 -0.105173  0.081858  0.007195  0.057975   \n",
       "Annual Risk            0.102092  0.314310  0.178154  0.380026  0.304557   \n",
       "Sharpe Ratio           0.070168 -0.334616  0.459479  0.018933  0.190360   \n",
       "maxDD                 -0.431375 -2.198225 -0.590679 -1.824269 -1.264769   \n",
       "Success Ratio          0.509907  0.500843  0.524452  0.516863  0.540894   \n",
       "\n",
       "                            SPY  \n",
       "Average Annual Return  0.029133  \n",
       "Annual Risk            0.196204  \n",
       "Sharpe Ratio           0.148482  \n",
       "maxDD                 -0.831804  \n",
       "Success Ratio          0.539418  "
      ]
     },
     "execution_count": 16,
     "metadata": {},
     "output_type": "execute_result"
    }
   ],
   "source": [
    "summary_stats"
   ]
  },
  {
   "cell_type": "code",
   "execution_count": 17,
   "metadata": {},
   "outputs": [],
   "source": [
    "logReturnsall=logReturns.copy()"
   ]
  },
  {
   "cell_type": "markdown",
   "metadata": {},
   "source": [
    "### Q2 \n"
   ]
  },
  {
   "cell_type": "markdown",
   "metadata": {},
   "source": [
    "### Choosing the instruments"
   ]
  },
  {
   "cell_type": "code",
   "execution_count": 18,
   "metadata": {},
   "outputs": [
    {
     "data": {
      "text/html": [
       "<div>\n",
       "<style scoped>\n",
       "    .dataframe tbody tr th:only-of-type {\n",
       "        vertical-align: middle;\n",
       "    }\n",
       "\n",
       "    .dataframe tbody tr th {\n",
       "        vertical-align: top;\n",
       "    }\n",
       "\n",
       "    .dataframe thead th {\n",
       "        text-align: right;\n",
       "    }\n",
       "</style>\n",
       "<table border=\"1\" class=\"dataframe\">\n",
       "  <thead>\n",
       "    <tr style=\"text-align: right;\">\n",
       "      <th></th>\n",
       "      <th>AAPL</th>\n",
       "      <th>AMZN</th>\n",
       "      <th>ATT</th>\n",
       "      <th>GE</th>\n",
       "      <th>INTC</th>\n",
       "      <th>GOLD</th>\n",
       "      <th>EUR</th>\n",
       "      <th>BOND</th>\n",
       "    </tr>\n",
       "    <tr>\n",
       "      <th>Date</th>\n",
       "      <th></th>\n",
       "      <th></th>\n",
       "      <th></th>\n",
       "      <th></th>\n",
       "      <th></th>\n",
       "      <th></th>\n",
       "      <th></th>\n",
       "      <th></th>\n",
       "    </tr>\n",
       "  </thead>\n",
       "  <tbody>\n",
       "    <tr>\n",
       "      <th>1999-12-31</th>\n",
       "      <td>0.917969</td>\n",
       "      <td>3.806250</td>\n",
       "      <td>36.820244</td>\n",
       "      <td>396.794861</td>\n",
       "      <td>41.156250</td>\n",
       "      <td>288.00</td>\n",
       "      <td>1.0062</td>\n",
       "      <td>798.154631</td>\n",
       "    </tr>\n",
       "    <tr>\n",
       "      <th>2000-01-03</th>\n",
       "      <td>0.999442</td>\n",
       "      <td>4.468750</td>\n",
       "      <td>35.498489</td>\n",
       "      <td>384.615387</td>\n",
       "      <td>43.500000</td>\n",
       "      <td>289.00</td>\n",
       "      <td>1.0243</td>\n",
       "      <td>793.868670</td>\n",
       "    </tr>\n",
       "    <tr>\n",
       "      <th>2000-01-04</th>\n",
       "      <td>0.915179</td>\n",
       "      <td>4.096875</td>\n",
       "      <td>33.421452</td>\n",
       "      <td>369.230774</td>\n",
       "      <td>41.468750</td>\n",
       "      <td>282.25</td>\n",
       "      <td>1.0296</td>\n",
       "      <td>796.761677</td>\n",
       "    </tr>\n",
       "    <tr>\n",
       "      <th>2000-01-05</th>\n",
       "      <td>0.928571</td>\n",
       "      <td>3.487500</td>\n",
       "      <td>33.940708</td>\n",
       "      <td>368.589752</td>\n",
       "      <td>41.812500</td>\n",
       "      <td>280.00</td>\n",
       "      <td>1.0321</td>\n",
       "      <td>793.118215</td>\n",
       "    </tr>\n",
       "    <tr>\n",
       "      <th>2000-01-06</th>\n",
       "      <td>0.848214</td>\n",
       "      <td>3.278125</td>\n",
       "      <td>33.043808</td>\n",
       "      <td>373.517639</td>\n",
       "      <td>39.375000</td>\n",
       "      <td>281.10</td>\n",
       "      <td>1.0328</td>\n",
       "      <td>795.091984</td>\n",
       "    </tr>\n",
       "    <tr>\n",
       "      <th>...</th>\n",
       "      <td>...</td>\n",
       "      <td>...</td>\n",
       "      <td>...</td>\n",
       "      <td>...</td>\n",
       "      <td>...</td>\n",
       "      <td>...</td>\n",
       "      <td>...</td>\n",
       "      <td>...</td>\n",
       "    </tr>\n",
       "    <tr>\n",
       "      <th>2018-12-24</th>\n",
       "      <td>36.707500</td>\n",
       "      <td>67.197998</td>\n",
       "      <td>20.664654</td>\n",
       "      <td>53.230770</td>\n",
       "      <td>43.590000</td>\n",
       "      <td>1269.22</td>\n",
       "      <td>1.1406</td>\n",
       "      <td>998.805410</td>\n",
       "    </tr>\n",
       "    <tr>\n",
       "      <th>2018-12-26</th>\n",
       "      <td>39.292500</td>\n",
       "      <td>73.544998</td>\n",
       "      <td>21.208460</td>\n",
       "      <td>56.846153</td>\n",
       "      <td>46.189999</td>\n",
       "      <td>1267.14</td>\n",
       "      <td>1.1353</td>\n",
       "      <td>996.301026</td>\n",
       "    </tr>\n",
       "    <tr>\n",
       "      <th>2018-12-27</th>\n",
       "      <td>39.037498</td>\n",
       "      <td>73.082001</td>\n",
       "      <td>21.261330</td>\n",
       "      <td>55.923077</td>\n",
       "      <td>46.360001</td>\n",
       "      <td>1275.71</td>\n",
       "      <td>1.1430</td>\n",
       "      <td>998.396182</td>\n",
       "    </tr>\n",
       "    <tr>\n",
       "      <th>2018-12-28</th>\n",
       "      <td>39.057499</td>\n",
       "      <td>73.901001</td>\n",
       "      <td>21.495468</td>\n",
       "      <td>57.769230</td>\n",
       "      <td>46.750000</td>\n",
       "      <td>1280.71</td>\n",
       "      <td>1.1444</td>\n",
       "      <td>998.680796</td>\n",
       "    </tr>\n",
       "    <tr>\n",
       "      <th>2018-12-31</th>\n",
       "      <td>39.435001</td>\n",
       "      <td>75.098503</td>\n",
       "      <td>21.555891</td>\n",
       "      <td>58.230770</td>\n",
       "      <td>46.930000</td>\n",
       "      <td>1282.49</td>\n",
       "      <td>1.1467</td>\n",
       "      <td>1000.995080</td>\n",
       "    </tr>\n",
       "  </tbody>\n",
       "</table>\n",
       "<p>4745 rows × 8 columns</p>\n",
       "</div>"
      ],
      "text/plain": [
       "                 AAPL       AMZN        ATT          GE       INTC     GOLD  \\\n",
       "Date                                                                          \n",
       "1999-12-31   0.917969   3.806250  36.820244  396.794861  41.156250   288.00   \n",
       "2000-01-03   0.999442   4.468750  35.498489  384.615387  43.500000   289.00   \n",
       "2000-01-04   0.915179   4.096875  33.421452  369.230774  41.468750   282.25   \n",
       "2000-01-05   0.928571   3.487500  33.940708  368.589752  41.812500   280.00   \n",
       "2000-01-06   0.848214   3.278125  33.043808  373.517639  39.375000   281.10   \n",
       "...               ...        ...        ...         ...        ...      ...   \n",
       "2018-12-24  36.707500  67.197998  20.664654   53.230770  43.590000  1269.22   \n",
       "2018-12-26  39.292500  73.544998  21.208460   56.846153  46.189999  1267.14   \n",
       "2018-12-27  39.037498  73.082001  21.261330   55.923077  46.360001  1275.71   \n",
       "2018-12-28  39.057499  73.901001  21.495468   57.769230  46.750000  1280.71   \n",
       "2018-12-31  39.435001  75.098503  21.555891   58.230770  46.930000  1282.49   \n",
       "\n",
       "               EUR         BOND  \n",
       "Date                             \n",
       "1999-12-31  1.0062   798.154631  \n",
       "2000-01-03  1.0243   793.868670  \n",
       "2000-01-04  1.0296   796.761677  \n",
       "2000-01-05  1.0321   793.118215  \n",
       "2000-01-06  1.0328   795.091984  \n",
       "...            ...          ...  \n",
       "2018-12-24  1.1406   998.805410  \n",
       "2018-12-26  1.1353   996.301026  \n",
       "2018-12-27  1.1430   998.396182  \n",
       "2018-12-28  1.1444   998.680796  \n",
       "2018-12-31  1.1467  1000.995080  \n",
       "\n",
       "[4745 rows x 8 columns]"
      ]
     },
     "execution_count": 18,
     "metadata": {},
     "output_type": "execute_result"
    }
   ],
   "source": [
    "#Portfolio with 8 instruments\n",
    "df_prices = prices[['AAPL','AMZN','ATT','GE','INTC','GOLD','EUR','BOND']]\n",
    "df_prices"
   ]
  },
  {
   "cell_type": "code",
   "execution_count": 19,
   "metadata": {
    "id": "3LW6AwFCUoqX"
   },
   "outputs": [],
   "source": [
    "#logreturns 8 instruments for portfolio  \n",
    "logReturns = logReturns[['AAPL','AMZN','ATT','GE','INTC','GOLD','EUR','BOND']]"
   ]
  },
  {
   "cell_type": "markdown",
   "metadata": {},
   "source": [
    "### Running the trading strategies"
   ]
  },
  {
   "cell_type": "code",
   "execution_count": 20,
   "metadata": {
    "id": "-TZm7iPCYxFf"
   },
   "outputs": [],
   "source": [
    "#function for MA crossover strategy \n",
    "\n",
    "def movingAverageCrossover(df, col ,fastWindow, slowWindow, flatOrShort=0):\n",
    "    df.loc[:,'FastSMA'] = df[col].rolling(fastWindow).mean()\n",
    "    df.loc[:,'SlowSMA'] = df[col].rolling(slowWindow).mean()\n",
    "    df.dropna(inplace=True) # drop off all the Nulls created by taking SMAs\n",
    "    df.loc[:,'Position'] = np.where(df['FastSMA'] > df['SlowSMA'], 1, flatOrShort) # Stay long till Fast SMA is > Slow SMA, else go flat\n",
    "    df.loc[:,'OriginalReturns'] = np.log(df[col] / df[col].shift(1))  # calculate SPY stock price log returns\n",
    "    df.loc[:,'SMAReturns'] = df['Position'].shift(1) * df['OriginalReturns']  # calculte the log SMA returns, by pushing down the Position column\n",
    "    df.dropna(inplace=True) # drop off all the remaining Nulls\n",
    "    return calc_summary_stats(df[['OriginalReturns', 'SMAReturns']]) # return only the required 2 columns\n"
   ]
  },
  {
   "cell_type": "code",
   "execution_count": 21,
   "metadata": {
    "id": "ZxkyvoavdNOf"
   },
   "outputs": [
    {
     "data": {
      "text/html": [
       "<div>\n",
       "<style scoped>\n",
       "    .dataframe tbody tr th:only-of-type {\n",
       "        vertical-align: middle;\n",
       "    }\n",
       "\n",
       "    .dataframe tbody tr th {\n",
       "        vertical-align: top;\n",
       "    }\n",
       "\n",
       "    .dataframe thead th {\n",
       "        text-align: right;\n",
       "    }\n",
       "</style>\n",
       "<table border=\"1\" class=\"dataframe\">\n",
       "  <thead>\n",
       "    <tr style=\"text-align: right;\">\n",
       "      <th></th>\n",
       "      <th>OriginalReturns</th>\n",
       "      <th>SMAReturns</th>\n",
       "    </tr>\n",
       "  </thead>\n",
       "  <tbody>\n",
       "    <tr>\n",
       "      <th>Average Annual Return</th>\n",
       "      <td>0.278819</td>\n",
       "      <td>0.238173</td>\n",
       "    </tr>\n",
       "    <tr>\n",
       "      <th>Annual Risk</th>\n",
       "      <td>0.370138</td>\n",
       "      <td>0.283479</td>\n",
       "    </tr>\n",
       "    <tr>\n",
       "      <th>Sharpe Ratio</th>\n",
       "      <td>0.753284</td>\n",
       "      <td>0.840178</td>\n",
       "    </tr>\n",
       "    <tr>\n",
       "      <th>maxDD</th>\n",
       "      <td>-0.938197</td>\n",
       "      <td>-0.829613</td>\n",
       "    </tr>\n",
       "    <tr>\n",
       "      <th>Success Ratio</th>\n",
       "      <td>0.523077</td>\n",
       "      <td>0.650836</td>\n",
       "    </tr>\n",
       "  </tbody>\n",
       "</table>\n",
       "</div>"
      ],
      "text/plain": [
       "                       OriginalReturns  SMAReturns\n",
       "Average Annual Return         0.278819    0.238173\n",
       "Annual Risk                   0.370138    0.283479\n",
       "Sharpe Ratio                  0.753284    0.840178\n",
       "maxDD                        -0.938197   -0.829613\n",
       "Success Ratio                 0.523077    0.650836"
      ]
     },
     "execution_count": 21,
     "metadata": {},
     "output_type": "execute_result"
    }
   ],
   "source": [
    "#AAPL with MA crossover flat strategy \n",
    "flatOrShort = 0 # intializing the flatOrShort value as specified\n",
    "dfPrice2 = prices.copy() # creating an iterative copy of our intial SPY dataframe to append the Fast and Slow SMAs\n",
    "df_AAPL = movingAverageCrossover(dfPrice2, 'AAPL',42, 260, flatOrShort) # creating the dataframe using the mving average crossover function created above \n",
    "df_AAPL   #df_sharpe[column] = df_AAPL.loc['Sharpe Ratio']['SMAReturns'] # returing only the required columns"
   ]
  },
  {
   "cell_type": "code",
   "execution_count": 22,
   "metadata": {},
   "outputs": [
    {
     "data": {
      "text/html": [
       "<div>\n",
       "<style scoped>\n",
       "    .dataframe tbody tr th:only-of-type {\n",
       "        vertical-align: middle;\n",
       "    }\n",
       "\n",
       "    .dataframe tbody tr th {\n",
       "        vertical-align: top;\n",
       "    }\n",
       "\n",
       "    .dataframe thead th {\n",
       "        text-align: right;\n",
       "    }\n",
       "</style>\n",
       "<table border=\"1\" class=\"dataframe\">\n",
       "  <thead>\n",
       "    <tr style=\"text-align: right;\">\n",
       "      <th></th>\n",
       "      <th>OriginalReturns</th>\n",
       "      <th>SMAReturns</th>\n",
       "    </tr>\n",
       "  </thead>\n",
       "  <tbody>\n",
       "    <tr>\n",
       "      <th>Average Annual Return</th>\n",
       "      <td>0.259787</td>\n",
       "      <td>0.200783</td>\n",
       "    </tr>\n",
       "    <tr>\n",
       "      <th>Annual Risk</th>\n",
       "      <td>0.489128</td>\n",
       "      <td>0.332287</td>\n",
       "    </tr>\n",
       "    <tr>\n",
       "      <th>Sharpe Ratio</th>\n",
       "      <td>0.531122</td>\n",
       "      <td>0.604247</td>\n",
       "    </tr>\n",
       "    <tr>\n",
       "      <th>maxDD</th>\n",
       "      <td>-1.298598</td>\n",
       "      <td>-0.972030</td>\n",
       "    </tr>\n",
       "    <tr>\n",
       "      <th>Success Ratio</th>\n",
       "      <td>0.516388</td>\n",
       "      <td>0.659755</td>\n",
       "    </tr>\n",
       "  </tbody>\n",
       "</table>\n",
       "</div>"
      ],
      "text/plain": [
       "                       OriginalReturns  SMAReturns\n",
       "Average Annual Return         0.259787    0.200783\n",
       "Annual Risk                   0.489128    0.332287\n",
       "Sharpe Ratio                  0.531122    0.604247\n",
       "maxDD                        -1.298598   -0.972030\n",
       "Success Ratio                 0.516388    0.659755"
      ]
     },
     "execution_count": 22,
     "metadata": {},
     "output_type": "execute_result"
    }
   ],
   "source": [
    "#AMZN with MA crossover flat strategy\n",
    "flatOrShort = 0 # intializing the flatOrShort value as specified\n",
    "dfPrice2 = prices.copy() # creating an iterative copy of our intial SPY dataframe to append the Fast and Slow SMAs\n",
    "df_AMZN = movingAverageCrossover(dfPrice2, 'AMZN', 42, 260, flatOrShort) # creating the dataframe using the mving average crossover function created above \n",
    "df_AMZN   #df_sharpe[column] = df_AAPL.loc['Sharpe Ratio']['SMAReturns'] # returing only the required columns"
   ]
  },
  {
   "cell_type": "code",
   "execution_count": 23,
   "metadata": {},
   "outputs": [
    {
     "data": {
      "text/html": [
       "<div>\n",
       "<style scoped>\n",
       "    .dataframe tbody tr th:only-of-type {\n",
       "        vertical-align: middle;\n",
       "    }\n",
       "\n",
       "    .dataframe tbody tr th {\n",
       "        vertical-align: top;\n",
       "    }\n",
       "\n",
       "    .dataframe thead th {\n",
       "        text-align: right;\n",
       "    }\n",
       "</style>\n",
       "<table border=\"1\" class=\"dataframe\">\n",
       "  <thead>\n",
       "    <tr style=\"text-align: right;\">\n",
       "      <th></th>\n",
       "      <th>OriginalReturns</th>\n",
       "      <th>SMAReturns</th>\n",
       "    </tr>\n",
       "  </thead>\n",
       "  <tbody>\n",
       "    <tr>\n",
       "      <th>Average Annual Return</th>\n",
       "      <td>-0.035196</td>\n",
       "      <td>0.020533</td>\n",
       "    </tr>\n",
       "    <tr>\n",
       "      <th>Annual Risk</th>\n",
       "      <td>0.251193</td>\n",
       "      <td>0.251199</td>\n",
       "    </tr>\n",
       "    <tr>\n",
       "      <th>Sharpe Ratio</th>\n",
       "      <td>-0.140113</td>\n",
       "      <td>0.081739</td>\n",
       "    </tr>\n",
       "    <tr>\n",
       "      <th>maxDD</th>\n",
       "      <td>-0.968424</td>\n",
       "      <td>-0.715106</td>\n",
       "    </tr>\n",
       "    <tr>\n",
       "      <th>Success Ratio</th>\n",
       "      <td>0.516611</td>\n",
       "      <td>0.513043</td>\n",
       "    </tr>\n",
       "  </tbody>\n",
       "</table>\n",
       "</div>"
      ],
      "text/plain": [
       "                       OriginalReturns  SMAReturns\n",
       "Average Annual Return        -0.035196    0.020533\n",
       "Annual Risk                   0.251193    0.251199\n",
       "Sharpe Ratio                 -0.140113    0.081739\n",
       "maxDD                        -0.968424   -0.715106\n",
       "Success Ratio                 0.516611    0.513043"
      ]
     },
     "execution_count": 23,
     "metadata": {},
     "output_type": "execute_result"
    }
   ],
   "source": [
    "#ATT with MA crossover sell strategy\n",
    "flatOrShort = -1 # intializing the flatOrShort value as specified\n",
    "dfPrice2 = prices.copy() # creating an iterative copy of our intial SPY dataframe to append the Fast and Slow SMAs\n",
    "df_ATT = movingAverageCrossover(dfPrice2, 'ATT', 42, 260, flatOrShort) # creating the dataframe using the mving average crossover function created above \n",
    "df_ATT  #df_sharpe[column] = df_AAPL.loc['Sharpe Ratio']['SMAReturns'] # returing only the required columns"
   ]
  },
  {
   "cell_type": "code",
   "execution_count": 24,
   "metadata": {},
   "outputs": [
    {
     "data": {
      "text/html": [
       "<div>\n",
       "<style scoped>\n",
       "    .dataframe tbody tr th:only-of-type {\n",
       "        vertical-align: middle;\n",
       "    }\n",
       "\n",
       "    .dataframe tbody tr th {\n",
       "        vertical-align: top;\n",
       "    }\n",
       "\n",
       "    .dataframe thead th {\n",
       "        text-align: right;\n",
       "    }\n",
       "</style>\n",
       "<table border=\"1\" class=\"dataframe\">\n",
       "  <thead>\n",
       "    <tr style=\"text-align: right;\">\n",
       "      <th></th>\n",
       "      <th>OriginalReturns</th>\n",
       "      <th>SMAReturns</th>\n",
       "    </tr>\n",
       "  </thead>\n",
       "  <tbody>\n",
       "    <tr>\n",
       "      <th>Average Annual Return</th>\n",
       "      <td>-0.105310</td>\n",
       "      <td>0.104608</td>\n",
       "    </tr>\n",
       "    <tr>\n",
       "      <th>Annual Risk</th>\n",
       "      <td>0.308586</td>\n",
       "      <td>0.308587</td>\n",
       "    </tr>\n",
       "    <tr>\n",
       "      <th>Sharpe Ratio</th>\n",
       "      <td>-0.341267</td>\n",
       "      <td>0.338990</td>\n",
       "    </tr>\n",
       "    <tr>\n",
       "      <th>maxDD</th>\n",
       "      <td>-2.081691</td>\n",
       "      <td>-1.737193</td>\n",
       "    </tr>\n",
       "    <tr>\n",
       "      <th>Success Ratio</th>\n",
       "      <td>0.500780</td>\n",
       "      <td>0.519064</td>\n",
       "    </tr>\n",
       "  </tbody>\n",
       "</table>\n",
       "</div>"
      ],
      "text/plain": [
       "                       OriginalReturns  SMAReturns\n",
       "Average Annual Return        -0.105310    0.104608\n",
       "Annual Risk                   0.308586    0.308587\n",
       "Sharpe Ratio                 -0.341267    0.338990\n",
       "maxDD                        -2.081691   -1.737193\n",
       "Success Ratio                 0.500780    0.519064"
      ]
     },
     "execution_count": 24,
     "metadata": {},
     "output_type": "execute_result"
    }
   ],
   "source": [
    "#GE with MA crossover sell strategy\n",
    "flatOrShort = -1 # intializing the flatOrShort value as specified\n",
    "dfPrice2 = prices.copy() # creating an iterative copy of our intial SPY dataframe to append the Fast and Slow SMAs\n",
    "df_GE = movingAverageCrossover(dfPrice2, 'GE', 42, 260, flatOrShort) # creating the dataframe using the mving average crossover function created above \n",
    "df_GE   #df_sharpe[column] = df_AAPL.loc['Sharpe Ratio']['SMAReturns'] # returing only the required columns"
   ]
  },
  {
   "cell_type": "code",
   "execution_count": 25,
   "metadata": {},
   "outputs": [
    {
     "data": {
      "text/html": [
       "<div>\n",
       "<style scoped>\n",
       "    .dataframe tbody tr th:only-of-type {\n",
       "        vertical-align: middle;\n",
       "    }\n",
       "\n",
       "    .dataframe tbody tr th {\n",
       "        vertical-align: top;\n",
       "    }\n",
       "\n",
       "    .dataframe thead th {\n",
       "        text-align: right;\n",
       "    }\n",
       "</style>\n",
       "<table border=\"1\" class=\"dataframe\">\n",
       "  <thead>\n",
       "    <tr style=\"text-align: right;\">\n",
       "      <th></th>\n",
       "      <th>OriginalReturns</th>\n",
       "      <th>SMAReturns</th>\n",
       "    </tr>\n",
       "  </thead>\n",
       "  <tbody>\n",
       "    <tr>\n",
       "      <th>Average Annual Return</th>\n",
       "      <td>0.019759</td>\n",
       "      <td>-0.010485</td>\n",
       "    </tr>\n",
       "    <tr>\n",
       "      <th>Annual Risk</th>\n",
       "      <td>0.352048</td>\n",
       "      <td>0.206303</td>\n",
       "    </tr>\n",
       "    <tr>\n",
       "      <th>Sharpe Ratio</th>\n",
       "      <td>0.056127</td>\n",
       "      <td>-0.050826</td>\n",
       "    </tr>\n",
       "    <tr>\n",
       "      <th>maxDD</th>\n",
       "      <td>-1.141089</td>\n",
       "      <td>-1.000263</td>\n",
       "    </tr>\n",
       "    <tr>\n",
       "      <th>Success Ratio</th>\n",
       "      <td>0.516834</td>\n",
       "      <td>0.730435</td>\n",
       "    </tr>\n",
       "  </tbody>\n",
       "</table>\n",
       "</div>"
      ],
      "text/plain": [
       "                       OriginalReturns  SMAReturns\n",
       "Average Annual Return         0.019759   -0.010485\n",
       "Annual Risk                   0.352048    0.206303\n",
       "Sharpe Ratio                  0.056127   -0.050826\n",
       "maxDD                        -1.141089   -1.000263\n",
       "Success Ratio                 0.516834    0.730435"
      ]
     },
     "execution_count": 25,
     "metadata": {},
     "output_type": "execute_result"
    }
   ],
   "source": [
    "#Intel with MA crossover flat stratergy \n",
    "flatOrShort = 0 # intializing the flatOrShort value as specified\n",
    "dfPrice2 = prices.copy() # creating an iterative copy of our intial SPY dataframe to append the Fast and Slow SMAs\n",
    "df_INTC = movingAverageCrossover(dfPrice2, 'INTC', 42, 260, flatOrShort) # creating the dataframe using the mving average crossover function created above \n",
    "df_INTC  #df_sharpe[column] = df_AAPL.loc['Sharpe Ratio']['SMAReturns'] # returing only the required columns"
   ]
  },
  {
   "cell_type": "code",
   "execution_count": 26,
   "metadata": {},
   "outputs": [
    {
     "data": {
      "text/html": [
       "<div>\n",
       "<style scoped>\n",
       "    .dataframe tbody tr th:only-of-type {\n",
       "        vertical-align: middle;\n",
       "    }\n",
       "\n",
       "    .dataframe tbody tr th {\n",
       "        vertical-align: top;\n",
       "    }\n",
       "\n",
       "    .dataframe thead th {\n",
       "        text-align: right;\n",
       "    }\n",
       "</style>\n",
       "<table border=\"1\" class=\"dataframe\">\n",
       "  <thead>\n",
       "    <tr style=\"text-align: right;\">\n",
       "      <th></th>\n",
       "      <th>OriginalReturns</th>\n",
       "      <th>SMAReturns</th>\n",
       "    </tr>\n",
       "  </thead>\n",
       "  <tbody>\n",
       "    <tr>\n",
       "      <th>Average Annual Return</th>\n",
       "      <td>0.091575</td>\n",
       "      <td>0.080456</td>\n",
       "    </tr>\n",
       "    <tr>\n",
       "      <th>Annual Risk</th>\n",
       "      <td>0.179729</td>\n",
       "      <td>0.145261</td>\n",
       "    </tr>\n",
       "    <tr>\n",
       "      <th>Sharpe Ratio</th>\n",
       "      <td>0.509515</td>\n",
       "      <td>0.553872</td>\n",
       "    </tr>\n",
       "    <tr>\n",
       "      <th>maxDD</th>\n",
       "      <td>-0.590679</td>\n",
       "      <td>-0.352246</td>\n",
       "    </tr>\n",
       "    <tr>\n",
       "      <th>Success Ratio</th>\n",
       "      <td>0.530435</td>\n",
       "      <td>0.677592</td>\n",
       "    </tr>\n",
       "  </tbody>\n",
       "</table>\n",
       "</div>"
      ],
      "text/plain": [
       "                       OriginalReturns  SMAReturns\n",
       "Average Annual Return         0.091575    0.080456\n",
       "Annual Risk                   0.179729    0.145261\n",
       "Sharpe Ratio                  0.509515    0.553872\n",
       "maxDD                        -0.590679   -0.352246\n",
       "Success Ratio                 0.530435    0.677592"
      ]
     },
     "execution_count": 26,
     "metadata": {},
     "output_type": "execute_result"
    }
   ],
   "source": [
    "#Gold with MA flat strategy \n",
    "flatOrShort = 0 # intializing the flatOrShort value as specified\n",
    "dfPrice2 = prices.copy() # creating an iterative copy of our intial SPY dataframe to append the Fast and Slow SMAs\n",
    "df_GOLD = movingAverageCrossover(dfPrice2, 'GOLD', 42, 260, flatOrShort) # creating the dataframe using the mving average crossover function created above \n",
    "df_GOLD   #df_sharpe[column] = df_AAPL.loc['Sharpe Ratio']['SMAReturns'] # returing only the required columns"
   ]
  },
  {
   "cell_type": "code",
   "execution_count": 27,
   "metadata": {},
   "outputs": [
    {
     "data": {
      "text/html": [
       "<div>\n",
       "<style scoped>\n",
       "    .dataframe tbody tr th:only-of-type {\n",
       "        vertical-align: middle;\n",
       "    }\n",
       "\n",
       "    .dataframe tbody tr th {\n",
       "        vertical-align: top;\n",
       "    }\n",
       "\n",
       "    .dataframe thead th {\n",
       "        text-align: right;\n",
       "    }\n",
       "</style>\n",
       "<table border=\"1\" class=\"dataframe\">\n",
       "  <thead>\n",
       "    <tr style=\"text-align: right;\">\n",
       "      <th></th>\n",
       "      <th>OriginalReturns</th>\n",
       "      <th>SMAReturns</th>\n",
       "    </tr>\n",
       "  </thead>\n",
       "  <tbody>\n",
       "    <tr>\n",
       "      <th>Average Annual Return</th>\n",
       "      <td>0.010793</td>\n",
       "      <td>0.018530</td>\n",
       "    </tr>\n",
       "    <tr>\n",
       "      <th>Annual Risk</th>\n",
       "      <td>0.100189</td>\n",
       "      <td>0.071139</td>\n",
       "    </tr>\n",
       "    <tr>\n",
       "      <th>Sharpe Ratio</th>\n",
       "      <td>0.107729</td>\n",
       "      <td>0.260482</td>\n",
       "    </tr>\n",
       "    <tr>\n",
       "      <th>maxDD</th>\n",
       "      <td>-0.431375</td>\n",
       "      <td>-0.246239</td>\n",
       "    </tr>\n",
       "    <tr>\n",
       "      <th>Success Ratio</th>\n",
       "      <td>0.512152</td>\n",
       "      <td>0.708361</td>\n",
       "    </tr>\n",
       "  </tbody>\n",
       "</table>\n",
       "</div>"
      ],
      "text/plain": [
       "                       OriginalReturns  SMAReturns\n",
       "Average Annual Return         0.010793    0.018530\n",
       "Annual Risk                   0.100189    0.071139\n",
       "Sharpe Ratio                  0.107729    0.260482\n",
       "maxDD                        -0.431375   -0.246239\n",
       "Success Ratio                 0.512152    0.708361"
      ]
     },
     "execution_count": 27,
     "metadata": {},
     "output_type": "execute_result"
    }
   ],
   "source": [
    "#EUR/USD with MA flat statergy \n",
    "flatOrShort = 0 # intializing the flatOrShort value as specified\n",
    "dfPrice2 = prices.copy() # creating an iterative copy of our intial SPY dataframe to append the Fast and Slow SMAs\n",
    "df_EUR = movingAverageCrossover(dfPrice2, 'EUR', 42, 260, flatOrShort) # creating the dataframe using the mving average crossover function created above \n",
    "df_EUR  #df_sharpe[column] = df_AAPL.loc['Sharpe Ratio']['SMAReturns'] # returing only the required columns"
   ]
  },
  {
   "cell_type": "code",
   "execution_count": 28,
   "metadata": {},
   "outputs": [
    {
     "data": {
      "text/html": [
       "<div>\n",
       "<style scoped>\n",
       "    .dataframe tbody tr th:only-of-type {\n",
       "        vertical-align: middle;\n",
       "    }\n",
       "\n",
       "    .dataframe tbody tr th {\n",
       "        vertical-align: top;\n",
       "    }\n",
       "\n",
       "    .dataframe thead th {\n",
       "        text-align: right;\n",
       "    }\n",
       "</style>\n",
       "<table border=\"1\" class=\"dataframe\">\n",
       "  <thead>\n",
       "    <tr style=\"text-align: right;\">\n",
       "      <th></th>\n",
       "      <th>OriginalReturns</th>\n",
       "      <th>SMAReturns</th>\n",
       "    </tr>\n",
       "  </thead>\n",
       "  <tbody>\n",
       "    <tr>\n",
       "      <th>Average Annual Return</th>\n",
       "      <td>0.008398</td>\n",
       "      <td>0.003500</td>\n",
       "    </tr>\n",
       "    <tr>\n",
       "      <th>Annual Risk</th>\n",
       "      <td>0.037444</td>\n",
       "      <td>0.029909</td>\n",
       "    </tr>\n",
       "    <tr>\n",
       "      <th>Sharpe Ratio</th>\n",
       "      <td>0.224273</td>\n",
       "      <td>0.117031</td>\n",
       "    </tr>\n",
       "    <tr>\n",
       "      <th>maxDD</th>\n",
       "      <td>-0.142077</td>\n",
       "      <td>-0.123453</td>\n",
       "    </tr>\n",
       "    <tr>\n",
       "      <th>Success Ratio</th>\n",
       "      <td>0.523300</td>\n",
       "      <td>0.709253</td>\n",
       "    </tr>\n",
       "  </tbody>\n",
       "</table>\n",
       "</div>"
      ],
      "text/plain": [
       "                       OriginalReturns  SMAReturns\n",
       "Average Annual Return         0.008398    0.003500\n",
       "Annual Risk                   0.037444    0.029909\n",
       "Sharpe Ratio                  0.224273    0.117031\n",
       "maxDD                        -0.142077   -0.123453\n",
       "Success Ratio                 0.523300    0.709253"
      ]
     },
     "execution_count": 28,
     "metadata": {},
     "output_type": "execute_result"
    }
   ],
   "source": [
    "#BOND with MA flat statergy \n",
    "flatOrShort = 0 # intializing the flatOrShort value as specified\n",
    "dfPrice2 = prices.copy() # creating an iterative copy of our intial SPY dataframe to append the Fast and Slow SMAs\n",
    "df_BOND = movingAverageCrossover(dfPrice2, 'BOND', 42, 260, flatOrShort) # creating the dataframe using the mving average crossover function created above \n",
    "df_BOND   #df_sharpe[column] = df_AAPL.loc['Sharpe Ratio']['SMAReturns'] # returing only the required columns"
   ]
  },
  {
   "cell_type": "code",
   "execution_count": 29,
   "metadata": {},
   "outputs": [],
   "source": [
    "# defining instruments for short and flat statergy\n",
    "prices_cols_short = ['ATT','GE']\n",
    "prices_cols_flat = ['AAPL', 'AMZN', 'EUR', 'GOLD']"
   ]
  },
  {
   "cell_type": "code",
   "execution_count": 30,
   "metadata": {},
   "outputs": [],
   "source": [
    "#Creating a function to get SMA Returns for the portfolio \n",
    "def getSMA(df, col ,fastWindow, slowWindow, flatOrShort=0):\n",
    "    df.loc[:,'FastSMA'] = df[col].rolling(fastWindow).mean()\n",
    "    df.loc[:,'SlowSMA'] = df[col].rolling(slowWindow).mean()\n",
    "    df.dropna(inplace=True) # drop off all the Nulls created by taking SMAs\n",
    "    df.loc[:,'Position'] = np.where(df['FastSMA'] > df['SlowSMA'], 1, flatOrShort) # Stay long till Fast SMA is > Slow SMA, else go flat\n",
    "    df.loc[:,'OriginalReturns'] = np.log(df[col] / df[col].shift(1))  # calculate SPY stock price log returns\n",
    "    df.loc[:,'SMAReturns'] = df['Position'].shift(1) * df['OriginalReturns']  # calculte the log SMA returns, by pushing down the Position column\n",
    "    df.dropna(inplace=True) # drop off all the remaining Nulls\n",
    "    #return calc_summary_stats(df[['OriginalReturns', 'SMAReturns']]) # return only the required 2 columns\n",
    "    return df['SMAReturns']"
   ]
  },
  {
   "cell_type": "code",
   "execution_count": 31,
   "metadata": {},
   "outputs": [],
   "source": [
    "#Running SMA flat for  'AAPL' , 'AMZN', 'EUR', 'GOLD' and and short statergies for ATT and GE\n",
    "# For Bond we take the instrument itself\n",
    "df_sma = pd.DataFrame()\n",
    "for column in prices_cols_short:\n",
    "    if column not in ['BOND','INTC']:\n",
    "        flatOrShort = -1\n",
    "        dfPrice2 = prices.copy()\n",
    "        df_sma[column] = getSMA(dfPrice2, column, 42, 260, flatOrShort) # creating the dataframe using the mving average crossover function created above \n",
    "for column in prices_cols_flat:\n",
    "    if column not in ['BOND','INTC']:\n",
    "        dfPrice2 = prices.copy()\n",
    "        df_sma[column] = getSMA(dfPrice2, column, 42,260, 0)"
   ]
  },
  {
   "cell_type": "code",
   "execution_count": 32,
   "metadata": {},
   "outputs": [],
   "source": [
    "#creating bollinger band function by accepting dataframe, lookback window and std band as inputs and returns orginal and BB returns\n",
    "def Bollinger_Bands(df,col,window,stDevBand):\n",
    "    dfPrices = df.copy()\n",
    "    dfPrices = dfPrices[[col]]\n",
    "    dfPrices.loc[:,'Mean'] = dfPrices[col].rolling(window).mean()\n",
    "    dfPrices.loc[:,'Stdev'] = dfPrices[col].rolling(window).std()\n",
    "    dfPrices.loc[:,'Upper'] = dfPrices['Mean'] + stDevBand * dfPrices['Stdev']\n",
    "    dfPrices.loc[:,'Lower'] = dfPrices['Mean'] - stDevBand * dfPrices['Stdev']\n",
    "    dfPrices.dropna(inplace=True)\n",
    "    date0 = dfPrices.index[0]\n",
    "    if dfPrices.loc[date0,col] >= dfPrices.loc[date0, 'Upper']:\n",
    "        dfPrices.loc[date0, 'Position'] = -1\n",
    "    elif dfPrices.loc[date0,col] <= dfPrices.loc[date0,'Lower']:\n",
    "        dfPrices.loc[date0, 'Position'] = 1\n",
    "    else:\n",
    "        dfPrices.loc[date0, 'Position'] = 0\n",
    "\n",
    "# then loop over the entire data set\n",
    "    for i in range(1, dfPrices.shape[0]):\n",
    "        today=dfPrices.index[i]\n",
    "        yesterday=dfPrices.index[i-1]\n",
    "        if dfPrices.loc[today,col] >= dfPrices.loc[today,'Upper']: # if close is above upper\n",
    "            dfPrices.loc[today,'Position'] = -1 # then go short\n",
    "        elif dfPrices.loc[today,col] <= dfPrices.loc[today,'Lower']: # if close is below lower\n",
    "            dfPrices.loc[today,'Position'] = 1 # then go long\n",
    "        elif dfPrices.loc[yesterday,'Position'] == -1 and dfPrices.loc[today,col] <= dfPrices.loc[today,'Mean']: # if prev day is short and we're now below the mean\n",
    "            dfPrices.loc[today,'Position']=0 # then flatten\n",
    "        elif dfPrices.loc[yesterday,'Position'] == 1 and dfPrices.loc[today, col] >= dfPrices.loc[today, 'Mean']: # conversely...\n",
    "            dfPrices.loc[today,'Position']=0 # then also flatten\n",
    "        else: # otherwise just hold yesterday's position\n",
    "            dfPrices.loc[today,'Position']=dfPrices.loc[yesterday,'Position']\n",
    "    dfPrices.loc[:,'OriginalReturns'] = np.log(dfPrices[col] / dfPrices[col].shift(1))\n",
    "    dfPrices.loc[:,'BBReturns'] = dfPrices['Position'].shift(1) * dfPrices['OriginalReturns']\n",
    "    dfPrices.dropna(inplace=True)\n",
    "    dfPrices[['OriginalReturns', 'BBReturns']].sum()\n",
    "    np.exp(dfPrices[['OriginalReturns', 'BBReturns']].sum())\n",
    "    dfPrices[['OriginalReturns', 'BBReturns']].mean() * 260\n",
    "    dfPrices[['OriginalReturns', 'BBReturns']].std() * np.sqrt(260)\n",
    "    return dfPrices['BBReturns']"
   ]
  },
  {
   "cell_type": "code",
   "execution_count": 33,
   "metadata": {},
   "outputs": [],
   "source": [
    "#Running Bollinger Band strategy for Intel \n",
    "df_intc=pd.DataFrame()\n",
    "df_intc['INTC']=Bollinger_Bands(df_prices,'INTC',20,2)"
   ]
  },
  {
   "cell_type": "code",
   "execution_count": 34,
   "metadata": {},
   "outputs": [
    {
     "data": {
      "text/html": [
       "<div>\n",
       "<style scoped>\n",
       "    .dataframe tbody tr th:only-of-type {\n",
       "        vertical-align: middle;\n",
       "    }\n",
       "\n",
       "    .dataframe tbody tr th {\n",
       "        vertical-align: top;\n",
       "    }\n",
       "\n",
       "    .dataframe thead th {\n",
       "        text-align: right;\n",
       "    }\n",
       "</style>\n",
       "<table border=\"1\" class=\"dataframe\">\n",
       "  <thead>\n",
       "    <tr style=\"text-align: right;\">\n",
       "      <th></th>\n",
       "      <th>INTC</th>\n",
       "    </tr>\n",
       "  </thead>\n",
       "  <tbody>\n",
       "    <tr>\n",
       "      <th>Average Annual Return</th>\n",
       "      <td>0.085996</td>\n",
       "    </tr>\n",
       "    <tr>\n",
       "      <th>Annual Risk</th>\n",
       "      <td>0.274590</td>\n",
       "    </tr>\n",
       "    <tr>\n",
       "      <th>Sharpe Ratio</th>\n",
       "      <td>0.313179</td>\n",
       "    </tr>\n",
       "    <tr>\n",
       "      <th>maxDD</th>\n",
       "      <td>-0.578121</td>\n",
       "    </tr>\n",
       "    <tr>\n",
       "      <th>Success Ratio</th>\n",
       "      <td>0.745820</td>\n",
       "    </tr>\n",
       "  </tbody>\n",
       "</table>\n",
       "</div>"
      ],
      "text/plain": [
       "                           INTC\n",
       "Average Annual Return  0.085996\n",
       "Annual Risk            0.274590\n",
       "Sharpe Ratio           0.313179\n",
       "maxDD                 -0.578121\n",
       "Success Ratio          0.745820"
      ]
     },
     "execution_count": 34,
     "metadata": {},
     "output_type": "execute_result"
    }
   ],
   "source": [
    "#summary stats after applying BB stratergy \n",
    "calc_summary_stats(df_intc)"
   ]
  },
  {
   "cell_type": "code",
   "execution_count": 35,
   "metadata": {},
   "outputs": [],
   "source": [
    "#inner join Intel returns with ma returns to match dates \n",
    "df_sma = df_sma.join(df_intc,how='inner')"
   ]
  },
  {
   "cell_type": "code",
   "execution_count": 36,
   "metadata": {},
   "outputs": [],
   "source": [
    "#Joinning log returns for BOND\n",
    "df_sma = df_sma.join(logReturns['BOND'], how='inner')"
   ]
  },
  {
   "cell_type": "code",
   "execution_count": 37,
   "metadata": {},
   "outputs": [
    {
     "data": {
      "text/html": [
       "<div>\n",
       "<style scoped>\n",
       "    .dataframe tbody tr th:only-of-type {\n",
       "        vertical-align: middle;\n",
       "    }\n",
       "\n",
       "    .dataframe tbody tr th {\n",
       "        vertical-align: top;\n",
       "    }\n",
       "\n",
       "    .dataframe thead th {\n",
       "        text-align: right;\n",
       "    }\n",
       "</style>\n",
       "<table border=\"1\" class=\"dataframe\">\n",
       "  <thead>\n",
       "    <tr style=\"text-align: right;\">\n",
       "      <th></th>\n",
       "      <th>ATT</th>\n",
       "      <th>GE</th>\n",
       "      <th>AAPL</th>\n",
       "      <th>AMZN</th>\n",
       "      <th>EUR</th>\n",
       "      <th>GOLD</th>\n",
       "      <th>INTC</th>\n",
       "      <th>BOND</th>\n",
       "    </tr>\n",
       "  </thead>\n",
       "  <tbody>\n",
       "    <tr>\n",
       "      <th>Average Annual Return</th>\n",
       "      <td>0.020533</td>\n",
       "      <td>0.104608</td>\n",
       "      <td>0.238173</td>\n",
       "      <td>0.200783</td>\n",
       "      <td>0.018530</td>\n",
       "      <td>0.080456</td>\n",
       "      <td>0.082284</td>\n",
       "      <td>0.008398</td>\n",
       "    </tr>\n",
       "    <tr>\n",
       "      <th>Annual Risk</th>\n",
       "      <td>0.251199</td>\n",
       "      <td>0.308587</td>\n",
       "      <td>0.283479</td>\n",
       "      <td>0.332287</td>\n",
       "      <td>0.071139</td>\n",
       "      <td>0.145261</td>\n",
       "      <td>0.249602</td>\n",
       "      <td>0.037444</td>\n",
       "    </tr>\n",
       "    <tr>\n",
       "      <th>Sharpe Ratio</th>\n",
       "      <td>0.081739</td>\n",
       "      <td>0.338990</td>\n",
       "      <td>0.840178</td>\n",
       "      <td>0.604247</td>\n",
       "      <td>0.260482</td>\n",
       "      <td>0.553872</td>\n",
       "      <td>0.329661</td>\n",
       "      <td>0.224273</td>\n",
       "    </tr>\n",
       "    <tr>\n",
       "      <th>maxDD</th>\n",
       "      <td>-0.715106</td>\n",
       "      <td>-1.737193</td>\n",
       "      <td>-0.829613</td>\n",
       "      <td>-0.972030</td>\n",
       "      <td>-0.246239</td>\n",
       "      <td>-0.352246</td>\n",
       "      <td>-0.457487</td>\n",
       "      <td>-0.142077</td>\n",
       "    </tr>\n",
       "    <tr>\n",
       "      <th>Success Ratio</th>\n",
       "      <td>0.513043</td>\n",
       "      <td>0.519064</td>\n",
       "      <td>0.650836</td>\n",
       "      <td>0.659755</td>\n",
       "      <td>0.708361</td>\n",
       "      <td>0.677592</td>\n",
       "      <td>0.745819</td>\n",
       "      <td>0.523300</td>\n",
       "    </tr>\n",
       "  </tbody>\n",
       "</table>\n",
       "</div>"
      ],
      "text/plain": [
       "                            ATT        GE      AAPL      AMZN       EUR  \\\n",
       "Average Annual Return  0.020533  0.104608  0.238173  0.200783  0.018530   \n",
       "Annual Risk            0.251199  0.308587  0.283479  0.332287  0.071139   \n",
       "Sharpe Ratio           0.081739  0.338990  0.840178  0.604247  0.260482   \n",
       "maxDD                 -0.715106 -1.737193 -0.829613 -0.972030 -0.246239   \n",
       "Success Ratio          0.513043  0.519064  0.650836  0.659755  0.708361   \n",
       "\n",
       "                           GOLD      INTC      BOND  \n",
       "Average Annual Return  0.080456  0.082284  0.008398  \n",
       "Annual Risk            0.145261  0.249602  0.037444  \n",
       "Sharpe Ratio           0.553872  0.329661  0.224273  \n",
       "maxDD                 -0.352246 -0.457487 -0.142077  \n",
       "Success Ratio          0.677592  0.745819  0.523300  "
      ]
     },
     "execution_count": 37,
     "metadata": {},
     "output_type": "execute_result"
    }
   ],
   "source": [
    "#summary stats without applying weights to compare sharp ratio with individual instruments\n",
    "calc_summary_stats(df_sma)"
   ]
  },
  {
   "cell_type": "code",
   "execution_count": 38,
   "metadata": {},
   "outputs": [
    {
     "data": {
      "text/html": [
       "<div>\n",
       "<style scoped>\n",
       "    .dataframe tbody tr th:only-of-type {\n",
       "        vertical-align: middle;\n",
       "    }\n",
       "\n",
       "    .dataframe tbody tr th {\n",
       "        vertical-align: top;\n",
       "    }\n",
       "\n",
       "    .dataframe thead th {\n",
       "        text-align: right;\n",
       "    }\n",
       "</style>\n",
       "<table border=\"1\" class=\"dataframe\">\n",
       "  <thead>\n",
       "    <tr style=\"text-align: right;\">\n",
       "      <th></th>\n",
       "      <th>AAPL</th>\n",
       "      <th>AMZN</th>\n",
       "      <th>ATT</th>\n",
       "      <th>GE</th>\n",
       "      <th>INTC</th>\n",
       "      <th>GOLD</th>\n",
       "      <th>EUR</th>\n",
       "      <th>BOND</th>\n",
       "    </tr>\n",
       "  </thead>\n",
       "  <tbody>\n",
       "    <tr>\n",
       "      <th>Average Annual Return</th>\n",
       "      <td>0.206084</td>\n",
       "      <td>0.163440</td>\n",
       "      <td>-0.029343</td>\n",
       "      <td>-0.105173</td>\n",
       "      <td>0.007195</td>\n",
       "      <td>0.081858</td>\n",
       "      <td>0.007164</td>\n",
       "      <td>0.012411</td>\n",
       "    </tr>\n",
       "    <tr>\n",
       "      <th>Annual Risk</th>\n",
       "      <td>0.433101</td>\n",
       "      <td>0.536613</td>\n",
       "      <td>0.266217</td>\n",
       "      <td>0.314310</td>\n",
       "      <td>0.380026</td>\n",
       "      <td>0.178154</td>\n",
       "      <td>0.102092</td>\n",
       "      <td>0.037481</td>\n",
       "    </tr>\n",
       "    <tr>\n",
       "      <th>Sharpe Ratio</th>\n",
       "      <td>0.475834</td>\n",
       "      <td>0.304578</td>\n",
       "      <td>-0.110222</td>\n",
       "      <td>-0.334616</td>\n",
       "      <td>0.018933</td>\n",
       "      <td>0.459479</td>\n",
       "      <td>0.070168</td>\n",
       "      <td>0.331122</td>\n",
       "    </tr>\n",
       "    <tr>\n",
       "      <th>maxDD</th>\n",
       "      <td>-1.703828</td>\n",
       "      <td>-2.706094</td>\n",
       "      <td>-1.106851</td>\n",
       "      <td>-2.198225</td>\n",
       "      <td>-1.824269</td>\n",
       "      <td>-0.590679</td>\n",
       "      <td>-0.431375</td>\n",
       "      <td>-0.142077</td>\n",
       "    </tr>\n",
       "    <tr>\n",
       "      <th>Success Ratio</th>\n",
       "      <td>0.522344</td>\n",
       "      <td>0.512226</td>\n",
       "      <td>0.516442</td>\n",
       "      <td>0.500843</td>\n",
       "      <td>0.516863</td>\n",
       "      <td>0.524452</td>\n",
       "      <td>0.509907</td>\n",
       "      <td>0.524663</td>\n",
       "    </tr>\n",
       "  </tbody>\n",
       "</table>\n",
       "</div>"
      ],
      "text/plain": [
       "                           AAPL      AMZN       ATT        GE      INTC  \\\n",
       "Average Annual Return  0.206084  0.163440 -0.029343 -0.105173  0.007195   \n",
       "Annual Risk            0.433101  0.536613  0.266217  0.314310  0.380026   \n",
       "Sharpe Ratio           0.475834  0.304578 -0.110222 -0.334616  0.018933   \n",
       "maxDD                 -1.703828 -2.706094 -1.106851 -2.198225 -1.824269   \n",
       "Success Ratio          0.522344  0.512226  0.516442  0.500843  0.516863   \n",
       "\n",
       "                           GOLD       EUR      BOND  \n",
       "Average Annual Return  0.081858  0.007164  0.012411  \n",
       "Annual Risk            0.178154  0.102092  0.037481  \n",
       "Sharpe Ratio           0.459479  0.070168  0.331122  \n",
       "maxDD                 -0.590679 -0.431375 -0.142077  \n",
       "Success Ratio          0.524452  0.509907  0.524663  "
      ]
     },
     "execution_count": 38,
     "metadata": {},
     "output_type": "execute_result"
    }
   ],
   "source": [
    "# Summary stats before applying weights\n",
    "calc_summary_stats(logReturns)"
   ]
  },
  {
   "cell_type": "markdown",
   "metadata": {},
   "source": [
    "### Q3\n"
   ]
  },
  {
   "cell_type": "markdown",
   "metadata": {},
   "source": [
    "#### Rationale behind choosing the above instruments\n",
    "\n",
    "1. From the 10 instruments given, we select 8 instruments : For the equity instruments we drop 'SPY' and select the rest of the instruments as SPY is highly correlated with other equity instruments. This is because most of the equity instruments selected are part of SPY. Furthermore, we select GOLD since it's more negatively correlated with the rest of instruments in the portfolio compared to Silver. In addition, GOLD also has high sharp ratio.\n",
    "\n",
    "#### Techinical strategies:\n",
    "1.  From our analysis we inferred that stocks with high risk perform better with Moving Average Flat strategy while for low risk stocks like GE and ATT we could leverage the Moving Average Short stratergy to increase the sharp ratio. Next, we use Bollinger Band startegy for Intel.\n",
    "\n",
    "2. For risk free instruments like BOND, we use the instrument itslef as we believe this would generate a better sharp than applying any of the above statergies."
   ]
  },
  {
   "cell_type": "markdown",
   "metadata": {
    "id": "DzDKc-qCWveb"
   },
   "source": [
    "### Q4"
   ]
  },
  {
   "cell_type": "markdown",
   "metadata": {},
   "source": [
    "### Running the Mean Variance Optimization"
   ]
  },
  {
   "cell_type": "code",
   "execution_count": 39,
   "metadata": {
    "id": "gsH5yLWBX0_k"
   },
   "outputs": [],
   "source": [
    "#Function for Mean Varinace- MonteCarlo Simulation to determine the best weights.\n",
    "prets = [] # initializing an empty list for returns\n",
    "pvols = [] # initializing an empty list for volume\n",
    "weights = []\n",
    "rng = np.random.default_rng(seed=42) # creating a random number generator\n",
    "required_iterations = range(5000) # creating range\n",
    "for i in required_iterations: # initializing a loop for 5000 iterations\n",
    "    wts = rng.random(8) # taking eight random numbers from random number generator\n",
    "    wts /= np.sum(wts) # scaling the weights\n",
    "    weights.append(wts)\n",
    "\n",
    "    prets.append(annualization_factor * np.dot(wts, df_sma.mean().T)) # appending the annualized return value for the given weights across logReturns dataframe in prets list\n",
    "    pvols.append(np.sqrt(annualization_factor) * np.sqrt(np.dot(np.dot(wts, df_sma.cov()), wts.T))) # appending the volume value for the given weights across logReturns dataframe in pvols list\n",
    "prets = np.array(prets) # creating an array for annualized return for each iteration\n",
    "pvols = np.array(pvols)"
   ]
  },
  {
   "cell_type": "code",
   "execution_count": 40,
   "metadata": {
    "id": "Ep027hMHo08L"
   },
   "outputs": [],
   "source": [
    "#copying prets values for later analysis\n",
    "prets_sma=prets.copy()\n",
    "pvols_sma=pvols.copy()"
   ]
  },
  {
   "cell_type": "code",
   "execution_count": 41,
   "metadata": {
    "id": "ua9pzgzcvJKi"
   },
   "outputs": [],
   "source": [
    "weights_sma=weights.copy()"
   ]
  },
  {
   "cell_type": "code",
   "execution_count": 42,
   "metadata": {
    "id": "EzMSdkvZvgN3"
   },
   "outputs": [],
   "source": [
    "#Weights from the Montecarlo Simulation along with returns and Sharpe ratio  \n",
    "df_wts = pd.DataFrame({'weights':weights,'prets':prets,'pvols':pvols,'Sharpe Ratio':prets/pvols})"
   ]
  },
  {
   "cell_type": "code",
   "execution_count": 43,
   "metadata": {
    "id": "sugmcShjv2Ah"
   },
   "outputs": [
    {
     "data": {
      "text/html": [
       "<div>\n",
       "<style scoped>\n",
       "    .dataframe tbody tr th:only-of-type {\n",
       "        vertical-align: middle;\n",
       "    }\n",
       "\n",
       "    .dataframe tbody tr th {\n",
       "        vertical-align: top;\n",
       "    }\n",
       "\n",
       "    .dataframe thead th {\n",
       "        text-align: right;\n",
       "    }\n",
       "</style>\n",
       "<table border=\"1\" class=\"dataframe\">\n",
       "  <thead>\n",
       "    <tr style=\"text-align: right;\">\n",
       "      <th></th>\n",
       "      <th>weights</th>\n",
       "      <th>prets</th>\n",
       "      <th>pvols</th>\n",
       "      <th>Sharpe Ratio</th>\n",
       "    </tr>\n",
       "  </thead>\n",
       "  <tbody>\n",
       "    <tr>\n",
       "      <th>0</th>\n",
       "      <td>[0.1437029694828494, 0.08148800587842346, 0.15...</td>\n",
       "      <td>0.103195</td>\n",
       "      <td>0.098883</td>\n",
       "      <td>1.043610</td>\n",
       "    </tr>\n",
       "    <tr>\n",
       "      <th>1</th>\n",
       "      <td>[0.03192193067283766, 0.1122221607901339, 0.09...</td>\n",
       "      <td>0.109798</td>\n",
       "      <td>0.107367</td>\n",
       "      <td>1.022642</td>\n",
       "    </tr>\n",
       "    <tr>\n",
       "      <th>2</th>\n",
       "      <td>[0.10972902075022374, 0.01262675281260006, 0.1...</td>\n",
       "      <td>0.093380</td>\n",
       "      <td>0.094206</td>\n",
       "      <td>0.991233</td>\n",
       "    </tr>\n",
       "    <tr>\n",
       "      <th>3</th>\n",
       "      <td>[0.1929960667569384, 0.04825963704947722, 0.11...</td>\n",
       "      <td>0.070297</td>\n",
       "      <td>0.085151</td>\n",
       "      <td>0.825560</td>\n",
       "    </tr>\n",
       "    <tr>\n",
       "      <th>4</th>\n",
       "      <td>[0.11401815785687436, 0.12963734156131979, 0.1...</td>\n",
       "      <td>0.091088</td>\n",
       "      <td>0.087958</td>\n",
       "      <td>1.035585</td>\n",
       "    </tr>\n",
       "    <tr>\n",
       "      <th>...</th>\n",
       "      <td>...</td>\n",
       "      <td>...</td>\n",
       "      <td>...</td>\n",
       "      <td>...</td>\n",
       "    </tr>\n",
       "    <tr>\n",
       "      <th>4995</th>\n",
       "      <td>[0.2487453311143761, 0.188099937953235, 0.1236...</td>\n",
       "      <td>0.104173</td>\n",
       "      <td>0.128272</td>\n",
       "      <td>0.812125</td>\n",
       "    </tr>\n",
       "    <tr>\n",
       "      <th>4996</th>\n",
       "      <td>[0.19363543732421537, 0.08847814729062978, 0.1...</td>\n",
       "      <td>0.115462</td>\n",
       "      <td>0.120813</td>\n",
       "      <td>0.955710</td>\n",
       "    </tr>\n",
       "    <tr>\n",
       "      <th>4997</th>\n",
       "      <td>[0.10823429114219824, 0.059673861485133824, 0....</td>\n",
       "      <td>0.106658</td>\n",
       "      <td>0.103673</td>\n",
       "      <td>1.028793</td>\n",
       "    </tr>\n",
       "    <tr>\n",
       "      <th>4998</th>\n",
       "      <td>[0.1538906710524049, 0.22344395405935008, 0.06...</td>\n",
       "      <td>0.083869</td>\n",
       "      <td>0.110439</td>\n",
       "      <td>0.759411</td>\n",
       "    </tr>\n",
       "    <tr>\n",
       "      <th>4999</th>\n",
       "      <td>[0.0814869220300254, 0.1875433113614126, 0.028...</td>\n",
       "      <td>0.084531</td>\n",
       "      <td>0.097386</td>\n",
       "      <td>0.868001</td>\n",
       "    </tr>\n",
       "  </tbody>\n",
       "</table>\n",
       "<p>5000 rows × 4 columns</p>\n",
       "</div>"
      ],
      "text/plain": [
       "                                                weights     prets     pvols  \\\n",
       "0     [0.1437029694828494, 0.08148800587842346, 0.15...  0.103195  0.098883   \n",
       "1     [0.03192193067283766, 0.1122221607901339, 0.09...  0.109798  0.107367   \n",
       "2     [0.10972902075022374, 0.01262675281260006, 0.1...  0.093380  0.094206   \n",
       "3     [0.1929960667569384, 0.04825963704947722, 0.11...  0.070297  0.085151   \n",
       "4     [0.11401815785687436, 0.12963734156131979, 0.1...  0.091088  0.087958   \n",
       "...                                                 ...       ...       ...   \n",
       "4995  [0.2487453311143761, 0.188099937953235, 0.1236...  0.104173  0.128272   \n",
       "4996  [0.19363543732421537, 0.08847814729062978, 0.1...  0.115462  0.120813   \n",
       "4997  [0.10823429114219824, 0.059673861485133824, 0....  0.106658  0.103673   \n",
       "4998  [0.1538906710524049, 0.22344395405935008, 0.06...  0.083869  0.110439   \n",
       "4999  [0.0814869220300254, 0.1875433113614126, 0.028...  0.084531  0.097386   \n",
       "\n",
       "      Sharpe Ratio  \n",
       "0         1.043610  \n",
       "1         1.022642  \n",
       "2         0.991233  \n",
       "3         0.825560  \n",
       "4         1.035585  \n",
       "...            ...  \n",
       "4995      0.812125  \n",
       "4996      0.955710  \n",
       "4997      1.028793  \n",
       "4998      0.759411  \n",
       "4999      0.868001  \n",
       "\n",
       "[5000 rows x 4 columns]"
      ]
     },
     "execution_count": 43,
     "metadata": {},
     "output_type": "execute_result"
    }
   ],
   "source": [
    "df_wts"
   ]
  },
  {
   "cell_type": "code",
   "execution_count": 44,
   "metadata": {
    "id": "0TZauPRjv3la"
   },
   "outputs": [
    {
     "data": {
      "text/html": [
       "<div>\n",
       "<style scoped>\n",
       "    .dataframe tbody tr th:only-of-type {\n",
       "        vertical-align: middle;\n",
       "    }\n",
       "\n",
       "    .dataframe tbody tr th {\n",
       "        vertical-align: top;\n",
       "    }\n",
       "\n",
       "    .dataframe thead th {\n",
       "        text-align: right;\n",
       "    }\n",
       "</style>\n",
       "<table border=\"1\" class=\"dataframe\">\n",
       "  <thead>\n",
       "    <tr style=\"text-align: right;\">\n",
       "      <th></th>\n",
       "      <th>weights</th>\n",
       "      <th>prets</th>\n",
       "      <th>pvols</th>\n",
       "      <th>Sharpe Ratio</th>\n",
       "    </tr>\n",
       "  </thead>\n",
       "  <tbody>\n",
       "    <tr>\n",
       "      <th>532</th>\n",
       "      <td>[0.006516104183688058, 0.09944204825549777, 0....</td>\n",
       "      <td>0.096712</td>\n",
       "      <td>0.084884</td>\n",
       "      <td>1.13934</td>\n",
       "    </tr>\n",
       "  </tbody>\n",
       "</table>\n",
       "</div>"
      ],
      "text/plain": [
       "                                               weights     prets     pvols  \\\n",
       "532  [0.006516104183688058, 0.09944204825549777, 0....  0.096712  0.084884   \n",
       "\n",
       "     Sharpe Ratio  \n",
       "532       1.13934  "
      ]
     },
     "execution_count": 44,
     "metadata": {},
     "output_type": "execute_result"
    }
   ],
   "source": [
    "#Max Sharp  \n",
    "df_wts[df_wts['Sharpe Ratio']==df_wts['Sharpe Ratio'].max()]"
   ]
  },
  {
   "cell_type": "code",
   "execution_count": 45,
   "metadata": {
    "id": "dZP7n6iuwqVs"
   },
   "outputs": [
    {
     "data": {
      "text/html": [
       "<div>\n",
       "<style scoped>\n",
       "    .dataframe tbody tr th:only-of-type {\n",
       "        vertical-align: middle;\n",
       "    }\n",
       "\n",
       "    .dataframe tbody tr th {\n",
       "        vertical-align: top;\n",
       "    }\n",
       "\n",
       "    .dataframe thead th {\n",
       "        text-align: right;\n",
       "    }\n",
       "</style>\n",
       "<table border=\"1\" class=\"dataframe\">\n",
       "  <thead>\n",
       "    <tr style=\"text-align: right;\">\n",
       "      <th></th>\n",
       "      <th>weights</th>\n",
       "      <th>prets</th>\n",
       "      <th>pvols</th>\n",
       "      <th>Sharpe Ratio</th>\n",
       "    </tr>\n",
       "  </thead>\n",
       "  <tbody>\n",
       "    <tr>\n",
       "      <th>2728</th>\n",
       "      <td>[0.05760973382226917, 0.07547471445257346, 0.0...</td>\n",
       "      <td>0.039288</td>\n",
       "      <td>0.056218</td>\n",
       "      <td>0.698846</td>\n",
       "    </tr>\n",
       "  </tbody>\n",
       "</table>\n",
       "</div>"
      ],
      "text/plain": [
       "                                                weights     prets     pvols  \\\n",
       "2728  [0.05760973382226917, 0.07547471445257346, 0.0...  0.039288  0.056218   \n",
       "\n",
       "      Sharpe Ratio  \n",
       "2728      0.698846  "
      ]
     },
     "execution_count": 45,
     "metadata": {},
     "output_type": "execute_result"
    }
   ],
   "source": [
    "df_wts[df_wts['prets'] == prets[np.argmin(pvols)]] # Min Vol Protfolio"
   ]
  },
  {
   "cell_type": "code",
   "execution_count": 46,
   "metadata": {},
   "outputs": [
    {
     "data": {
      "text/plain": [
       "{'weights': {2728: array([0.05760973, 0.07547471, 0.02374552, 0.00311654, 0.28009431,\n",
       "         0.17657539, 0.01775338, 0.36563041])},\n",
       " 'prets': {2728: 0.039287510188318},\n",
       " 'pvols': {2728: 0.05621766063257566},\n",
       " 'Sharpe Ratio': {2728: 0.6988464078057459}}"
      ]
     },
     "execution_count": 46,
     "metadata": {},
     "output_type": "execute_result"
    }
   ],
   "source": [
    "df_wts[df_wts['prets'] == prets[np.argmin(pvols)]].to_dict()"
   ]
  },
  {
   "cell_type": "code",
   "execution_count": 47,
   "metadata": {
    "id": "_udBscSwwqS6"
   },
   "outputs": [
    {
     "data": {
      "text/html": [
       "<div>\n",
       "<style scoped>\n",
       "    .dataframe tbody tr th:only-of-type {\n",
       "        vertical-align: middle;\n",
       "    }\n",
       "\n",
       "    .dataframe tbody tr th {\n",
       "        vertical-align: top;\n",
       "    }\n",
       "\n",
       "    .dataframe thead th {\n",
       "        text-align: right;\n",
       "    }\n",
       "</style>\n",
       "<table border=\"1\" class=\"dataframe\">\n",
       "  <thead>\n",
       "    <tr style=\"text-align: right;\">\n",
       "      <th></th>\n",
       "      <th>weights</th>\n",
       "      <th>prets</th>\n",
       "      <th>pvols</th>\n",
       "      <th>Sharpe Ratio</th>\n",
       "    </tr>\n",
       "  </thead>\n",
       "  <tbody>\n",
       "    <tr>\n",
       "      <th>532</th>\n",
       "      <td>[0.006516104183688058, 0.09944204825549777, 0....</td>\n",
       "      <td>0.096712</td>\n",
       "      <td>0.084884</td>\n",
       "      <td>1.13934</td>\n",
       "    </tr>\n",
       "  </tbody>\n",
       "</table>\n",
       "</div>"
      ],
      "text/plain": [
       "                                               weights     prets     pvols  \\\n",
       "532  [0.006516104183688058, 0.09944204825549777, 0....  0.096712  0.084884   \n",
       "\n",
       "     Sharpe Ratio  \n",
       "532       1.13934  "
      ]
     },
     "execution_count": 47,
     "metadata": {},
     "output_type": "execute_result"
    }
   ],
   "source": [
    "df_wts[df_wts['prets'] == prets[np.argmax(prets/pvols)]] # Max Sharp Portfolio"
   ]
  },
  {
   "cell_type": "code",
   "execution_count": 48,
   "metadata": {
    "id": "uCn9zpwhxmcC"
   },
   "outputs": [
    {
     "data": {
      "text/plain": [
       "array([0.0065161 , 0.09944205, 0.20441047, 0.05964576, 0.20504819,\n",
       "       0.18976544, 0.06052765, 0.17464435])"
      ]
     },
     "execution_count": 48,
     "metadata": {},
     "output_type": "execute_result"
    }
   ],
   "source": [
    "#Best weights for max sharp portfolio\n",
    "df_wts[df_wts['prets'] == prets[np.argmax(prets/pvols)]]['weights'].values[0]\n",
    "# EUR highest"
   ]
  },
  {
   "cell_type": "code",
   "execution_count": 49,
   "metadata": {},
   "outputs": [
    {
     "data": {
      "text/plain": [
       "array([0.05760973, 0.07547471, 0.02374552, 0.00311654, 0.28009431,\n",
       "       0.17657539, 0.01775338, 0.36563041])"
      ]
     },
     "execution_count": 49,
     "metadata": {},
     "output_type": "execute_result"
    }
   ],
   "source": [
    "df_wts[df_wts['prets'] == prets[np.argmin(pvols)]]['weights'].values[0] # Min Vol Portfolio\n",
    "# EUR HIGHEST"
   ]
  },
  {
   "cell_type": "code",
   "execution_count": 50,
   "metadata": {},
   "outputs": [
    {
     "data": {
      "text/html": [
       "<div>\n",
       "<style scoped>\n",
       "    .dataframe tbody tr th:only-of-type {\n",
       "        vertical-align: middle;\n",
       "    }\n",
       "\n",
       "    .dataframe tbody tr th {\n",
       "        vertical-align: top;\n",
       "    }\n",
       "\n",
       "    .dataframe thead th {\n",
       "        text-align: right;\n",
       "    }\n",
       "</style>\n",
       "<table border=\"1\" class=\"dataframe\">\n",
       "  <thead>\n",
       "    <tr style=\"text-align: right;\">\n",
       "      <th></th>\n",
       "      <th>ATT</th>\n",
       "      <th>GE</th>\n",
       "      <th>AAPL</th>\n",
       "      <th>AMZN</th>\n",
       "      <th>EUR</th>\n",
       "      <th>GOLD</th>\n",
       "      <th>INTC</th>\n",
       "      <th>BOND</th>\n",
       "    </tr>\n",
       "    <tr>\n",
       "      <th>Date</th>\n",
       "      <th></th>\n",
       "      <th></th>\n",
       "      <th></th>\n",
       "      <th></th>\n",
       "      <th></th>\n",
       "      <th></th>\n",
       "      <th></th>\n",
       "      <th></th>\n",
       "    </tr>\n",
       "  </thead>\n",
       "  <tbody>\n",
       "    <tr>\n",
       "      <th>2001-01-12</th>\n",
       "      <td>-0.027830</td>\n",
       "      <td>0.018971</td>\n",
       "      <td>-0.0</td>\n",
       "      <td>0.0</td>\n",
       "      <td>-0.0</td>\n",
       "      <td>0.0</td>\n",
       "      <td>-0.0</td>\n",
       "      <td>-0.004724</td>\n",
       "    </tr>\n",
       "    <tr>\n",
       "      <th>2001-01-16</th>\n",
       "      <td>-0.017327</td>\n",
       "      <td>-0.036270</td>\n",
       "      <td>-0.0</td>\n",
       "      <td>0.0</td>\n",
       "      <td>-0.0</td>\n",
       "      <td>-0.0</td>\n",
       "      <td>-0.0</td>\n",
       "      <td>0.001185</td>\n",
       "    </tr>\n",
       "    <tr>\n",
       "      <th>2001-01-17</th>\n",
       "      <td>0.004981</td>\n",
       "      <td>0.014618</td>\n",
       "      <td>-0.0</td>\n",
       "      <td>0.0</td>\n",
       "      <td>-0.0</td>\n",
       "      <td>0.0</td>\n",
       "      <td>-0.0</td>\n",
       "      <td>0.003317</td>\n",
       "    </tr>\n",
       "    <tr>\n",
       "      <th>2001-01-18</th>\n",
       "      <td>0.004957</td>\n",
       "      <td>-0.019881</td>\n",
       "      <td>0.0</td>\n",
       "      <td>0.0</td>\n",
       "      <td>0.0</td>\n",
       "      <td>0.0</td>\n",
       "      <td>0.0</td>\n",
       "      <td>0.004006</td>\n",
       "    </tr>\n",
       "    <tr>\n",
       "      <th>2001-01-19</th>\n",
       "      <td>-0.017457</td>\n",
       "      <td>0.013210</td>\n",
       "      <td>0.0</td>\n",
       "      <td>0.0</td>\n",
       "      <td>-0.0</td>\n",
       "      <td>0.0</td>\n",
       "      <td>0.0</td>\n",
       "      <td>-0.003085</td>\n",
       "    </tr>\n",
       "  </tbody>\n",
       "</table>\n",
       "</div>"
      ],
      "text/plain": [
       "                 ATT        GE  AAPL  AMZN  EUR  GOLD  INTC      BOND\n",
       "Date                                                                 \n",
       "2001-01-12 -0.027830  0.018971  -0.0   0.0 -0.0   0.0  -0.0 -0.004724\n",
       "2001-01-16 -0.017327 -0.036270  -0.0   0.0 -0.0  -0.0  -0.0  0.001185\n",
       "2001-01-17  0.004981  0.014618  -0.0   0.0 -0.0   0.0  -0.0  0.003317\n",
       "2001-01-18  0.004957 -0.019881   0.0   0.0  0.0   0.0   0.0  0.004006\n",
       "2001-01-19 -0.017457  0.013210   0.0   0.0 -0.0   0.0   0.0 -0.003085"
      ]
     },
     "execution_count": 50,
     "metadata": {},
     "output_type": "execute_result"
    }
   ],
   "source": [
    "df_sma.head()"
   ]
  },
  {
   "cell_type": "code",
   "execution_count": 51,
   "metadata": {},
   "outputs": [],
   "source": [
    "portfol_max_sharp = df_wts[df_wts['prets'] == prets[np.argmax(prets/pvols)]]['weights'].values[0]\n",
    "portfol_min_vol = df_wts[df_wts['prets'] == prets[np.argmin(pvols)]]['weights'].values[0]\n",
    "idx_column_name = df_sma.columns"
   ]
  },
  {
   "cell_type": "code",
   "execution_count": 52,
   "metadata": {},
   "outputs": [
    {
     "data": {
      "text/plain": [
       "array([array([0.0065161 , 0.09944205, 0.20441047, 0.05964576, 0.20504819,\n",
       "              0.18976544, 0.06052765, 0.17464435])                       ],\n",
       "      dtype=object)"
      ]
     },
     "execution_count": 52,
     "metadata": {},
     "output_type": "execute_result"
    }
   ],
   "source": [
    "df_wts[df_wts['prets'] == prets[np.argmax(prets/pvols)]]['weights'].values"
   ]
  },
  {
   "cell_type": "code",
   "execution_count": 53,
   "metadata": {},
   "outputs": [],
   "source": [
    "max_port_df = pd.Series(portfol_max_sharp,index=idx_column_name)"
   ]
  },
  {
   "cell_type": "code",
   "execution_count": 54,
   "metadata": {},
   "outputs": [],
   "source": [
    "min_vol_df = pd.Series(portfol_min_vol,index=idx_column_name)"
   ]
  },
  {
   "cell_type": "code",
   "execution_count": 55,
   "metadata": {},
   "outputs": [
    {
     "data": {
      "text/plain": [
       "ATT     0.006516\n",
       "GE      0.099442\n",
       "AAPL    0.204410\n",
       "AMZN    0.059646\n",
       "EUR     0.205048\n",
       "GOLD    0.189765\n",
       "INTC    0.060528\n",
       "BOND    0.174644\n",
       "dtype: float64"
      ]
     },
     "execution_count": 55,
     "metadata": {},
     "output_type": "execute_result"
    }
   ],
   "source": [
    "max_port_df"
   ]
  },
  {
   "cell_type": "code",
   "execution_count": 56,
   "metadata": {},
   "outputs": [
    {
     "data": {
      "text/plain": [
       "ATT     0.057610\n",
       "GE      0.075475\n",
       "AAPL    0.023746\n",
       "AMZN    0.003117\n",
       "EUR     0.280094\n",
       "GOLD    0.176575\n",
       "INTC    0.017753\n",
       "BOND    0.365630\n",
       "dtype: float64"
      ]
     },
     "execution_count": 56,
     "metadata": {},
     "output_type": "execute_result"
    }
   ],
   "source": [
    "min_vol_df"
   ]
  },
  {
   "cell_type": "code",
   "execution_count": 57,
   "metadata": {},
   "outputs": [
    {
     "data": {
      "image/png": "[encoded data removed]",
      "text/plain": [
       "<Figure size 864x432 with 1 Axes>"
      ]
     },
     "metadata": {
      "needs_background": "light"
     },
     "output_type": "display_data"
    }
   ],
   "source": [
    "max_port_df.sort_values(ascending=False).plot(kind='bar', figsize=(12,6))\n",
    "plt.xlabel('Instrument')\n",
    "plt.ylabel('Weight Value')\n",
    "plt.title('Weights per instrument for Max Sharpe Portfolio')\n",
    "plt.show();"
   ]
  },
  {
   "cell_type": "code",
   "execution_count": 58,
   "metadata": {},
   "outputs": [
    {
     "data": {
      "image/png": "[encoded data removed]",
      "text/plain": [
       "<Figure size 864x432 with 1 Axes>"
      ]
     },
     "metadata": {
      "needs_background": "light"
     },
     "output_type": "display_data"
    }
   ],
   "source": [
    "min_vol_df.sort_values(ascending=False).plot(kind='bar', figsize=(12,6))\n",
    "plt.xlabel('Instrument')\n",
    "plt.ylabel('Weight Value')\n",
    "plt.title('Weights per instrument for Min Vol Portfolio')\n",
    "plt.show();"
   ]
  },
  {
   "cell_type": "markdown",
   "metadata": {},
   "source": [
    "### Q5, Q6, Q7, Q8\n"
   ]
  },
  {
   "cell_type": "markdown",
   "metadata": {},
   "source": [
    "### Plotting the Risk Return Scatter Plot"
   ]
  },
  {
   "cell_type": "code",
   "execution_count": null,
   "metadata": {},
   "outputs": [],
   "source": []
  },
  {
   "cell_type": "code",
   "execution_count": 59,
   "metadata": {},
   "outputs": [
    {
     "data": {
      "image/png": "[encoded data removed]",
      "text/plain": [
       "<Figure size 576x360 with 2 Axes>"
      ]
     },
     "metadata": {
      "needs_background": "light"
     },
     "output_type": "display_data"
    }
   ],
   "source": [
    "#Plotting the risk return scatter plot of 5000 porfolios (Monte Carlo Simulation)\n",
    "plt.figure(figsize=aspect_ratio) # initializing the plot\n",
    "ax = plt.subplot() # creating the subplot\n",
    "plt.scatter(pvols, prets, c = prets/pvols, marker='o', cmap='coolwarm_r') # creating the scatterplot with colorscale, marker type and colormap \n",
    "ax.xaxis.set_major_formatter(mtick.PercentFormatter(xmax=1.0, decimals=0)) # setting x axis' major formatter to tick along with percentage formatter\n",
    "ax.yaxis.set_major_formatter(mtick.PercentFormatter(xmax=1.0, decimals=0)) # setting y axis' major formatter to tick along with percentage formatter\n",
    "plt.title('Return vs Risk for Different columns weights Color Coded by Sharpe Ratio') # plot title\n",
    "plt.xlabel('Portfolio Risk') # setting the xlabel\n",
    "plt.ylabel('Portfolio Return') # setting the ylabel\n",
    "plt.colorbar(label='Sharpe Ratio') # setting the colorbar with all its attributes\n",
    "plt.plot(pvols[np.argmin(pvols)], prets[np.argmin(pvols)], 'b*', markersize=15.0, label=f\"Min Vol Portfolio:x={round(pvols[np.argmin(pvols)],2)}; y={round(prets[np.argmin(pvols)],2)}; {round(df_wts[df_wts['prets'] == prets[np.argmin(pvols)]]['Sharpe Ratio'].values[0],2)}\")\n",
    "plt.plot(pvols[np.argmax(prets/pvols)], prets[np.argmax(prets/pvols)], 'r*', markersize=15.0, label='Max Sharpe Portfolio:x={:.2%}; y={:.2%}; {:1.2f}'.format(round(pvols[np.argmax(prets/pvols)],2), round(prets[np.argmax(prets/pvols)],2), round(np.max(prets/pvols),2)))\n",
    "plt.legend()\n",
    "plt.show();"
   ]
  },
  {
   "cell_type": "code",
   "execution_count": 60,
   "metadata": {},
   "outputs": [
    {
     "data": {
      "image/png": "[encoded data removed]",
      "text/plain": [
       "<Figure size 576x360 with 2 Axes>"
      ]
     },
     "metadata": {
      "needs_background": "light"
     },
     "output_type": "display_data"
    }
   ],
   "source": [
    "#Plotting the risk return scatter plot of 5000 porfolios (Monte Carlo Simulation)\n",
    "plt.figure(figsize=aspect_ratio) # initializing the plot\n",
    "ax = plt.subplot() # creating the subplot\n",
    "plt.scatter(pvols, prets, c = prets/pvols, marker='o', cmap='coolwarm_r') # creating the scatterplot with colorscale, marker type and colormap \n",
    "ax.xaxis.set_major_formatter(mtick.PercentFormatter(xmax=1.0, decimals=0)) # setting x axis' major formatter to tick along with percentage formatter\n",
    "ax.yaxis.set_major_formatter(mtick.PercentFormatter(xmax=1.0, decimals=0)) # setting y axis' major formatter to tick along with percentage formatter\n",
    "plt.title('Return vs Risk for Different columns weights Color Coded by Sharpe Ratio') # plot title\n",
    "plt.xlabel('Portfolio Risk') # setting the xlabel\n",
    "plt.ylabel('Portfolio Return') # setting the ylabel\n",
    "plt.colorbar(label='Sharpe Ratio') # setting the colorbar with all its attributes\n",
    "plt.plot(pvols[np.argmin(pvols)], prets[np.argmin(pvols)], 'b*', markersize=15.0, label='Min Vol Portfolio:x={:.2%}; y={:.2%}; {:1.2f}'.format(round(pvols[np.argmin(pvols)],2), round(prets[np.argmin(pvols)],2), round(prets[np.argmin(prets)]/pvols[np.argmin(pvols)],2))) \n",
    "plt.plot(pvols[np.argmax(prets/pvols)], prets[np.argmax(prets/pvols)], 'r*', markersize=15.0, label='Max Sharpe Portfolio:x={:.2%}; y={:.2%}; {:1.2f}'.format(round(pvols[np.argmax(prets/pvols)],2), round(prets[np.argmax(prets/pvols)],2), round(np.max(prets/pvols),2)))\n",
    "plt.legend()\n",
    "plt.show();"
   ]
  },
  {
   "cell_type": "code",
   "execution_count": 61,
   "metadata": {},
   "outputs": [
    {
     "data": {
      "text/plain": [
       "0.675477924"
      ]
     },
     "execution_count": 61,
     "metadata": {},
     "output_type": "execute_result"
    }
   ],
   "source": [
    "round(prets[np.argmin(prets)]/pvols[np.argmin(pvols)],9)"
   ]
  },
  {
   "cell_type": "code",
   "execution_count": 62,
   "metadata": {},
   "outputs": [
    {
     "data": {
      "text/plain": [
       "0.6754779235086599"
      ]
     },
     "execution_count": 62,
     "metadata": {},
     "output_type": "execute_result"
    }
   ],
   "source": [
    "prets[np.argmin(prets)]/pvols[np.argmin(pvols)]"
   ]
  },
  {
   "cell_type": "markdown",
   "metadata": {},
   "source": [
    "### Min Vol Anomaly"
   ]
  },
  {
   "cell_type": "code",
   "execution_count": 63,
   "metadata": {},
   "outputs": [
    {
     "data": {
      "text/html": [
       "<div>\n",
       "<style scoped>\n",
       "    .dataframe tbody tr th:only-of-type {\n",
       "        vertical-align: middle;\n",
       "    }\n",
       "\n",
       "    .dataframe tbody tr th {\n",
       "        vertical-align: top;\n",
       "    }\n",
       "\n",
       "    .dataframe thead th {\n",
       "        text-align: right;\n",
       "    }\n",
       "</style>\n",
       "<table border=\"1\" class=\"dataframe\">\n",
       "  <thead>\n",
       "    <tr style=\"text-align: right;\">\n",
       "      <th></th>\n",
       "      <th>weights</th>\n",
       "      <th>prets</th>\n",
       "      <th>pvols</th>\n",
       "      <th>Sharpe Ratio</th>\n",
       "    </tr>\n",
       "  </thead>\n",
       "  <tbody>\n",
       "    <tr>\n",
       "      <th>2728</th>\n",
       "      <td>[0.05760973382226917, 0.07547471445257346, 0.0...</td>\n",
       "      <td>0.039288</td>\n",
       "      <td>0.056218</td>\n",
       "      <td>0.698846</td>\n",
       "    </tr>\n",
       "  </tbody>\n",
       "</table>\n",
       "</div>"
      ],
      "text/plain": [
       "                                                weights     prets     pvols  \\\n",
       "2728  [0.05760973382226917, 0.07547471445257346, 0.0...  0.039288  0.056218   \n",
       "\n",
       "      Sharpe Ratio  \n",
       "2728      0.698846  "
      ]
     },
     "execution_count": 63,
     "metadata": {},
     "output_type": "execute_result"
    }
   ],
   "source": [
    "df_wts[df_wts['prets'] == prets[np.argmin(pvols)]] "
   ]
  },
  {
   "cell_type": "code",
   "execution_count": 64,
   "metadata": {},
   "outputs": [
    {
     "data": {
      "text/plain": [
       "array([0.69884641])"
      ]
     },
     "execution_count": 64,
     "metadata": {},
     "output_type": "execute_result"
    }
   ],
   "source": [
    "df_wts[df_wts['prets'] == prets[np.argmin(pvols)]]['prets'].values / df_wts[df_wts['prets'] == prets[np.argmin(pvols)]]['pvols'].values"
   ]
  },
  {
   "cell_type": "code",
   "execution_count": 65,
   "metadata": {},
   "outputs": [
    {
     "data": {
      "text/plain": [
       "0.039288"
      ]
     },
     "execution_count": 65,
     "metadata": {},
     "output_type": "execute_result"
    }
   ],
   "source": [
    "round(df_wts[df_wts['prets'] == prets[np.argmin(pvols)]]['prets'].values[0],6)"
   ]
  },
  {
   "cell_type": "code",
   "execution_count": 66,
   "metadata": {},
   "outputs": [
    {
     "data": {
      "text/plain": [
       "0.056218"
      ]
     },
     "execution_count": 66,
     "metadata": {},
     "output_type": "execute_result"
    }
   ],
   "source": [
    "round(df_wts[df_wts['prets'] == prets[np.argmin(pvols)]]['pvols'].values[0],6)"
   ]
  },
  {
   "cell_type": "code",
   "execution_count": 67,
   "metadata": {},
   "outputs": [
    {
     "data": {
      "text/plain": [
       "0.6988464078057459"
      ]
     },
     "execution_count": 67,
     "metadata": {},
     "output_type": "execute_result"
    }
   ],
   "source": [
    "df_wts[df_wts['prets'] == prets[np.argmin(pvols)]]['prets'].values[0]/df_wts[df_wts['prets'] == prets[np.argmin(pvols)]]['pvols'].values[0]"
   ]
  },
  {
   "cell_type": "code",
   "execution_count": 68,
   "metadata": {},
   "outputs": [
    {
     "data": {
      "text/plain": [
       "0.6988509018463837"
      ]
     },
     "execution_count": 68,
     "metadata": {},
     "output_type": "execute_result"
    }
   ],
   "source": [
    "round(df_wts[df_wts['prets'] == prets[np.argmin(pvols)]]['prets'].values[0],6)/round(df_wts[df_wts['prets'] == prets[np.argmin(pvols)]]['pvols'].values[0],6)"
   ]
  },
  {
   "cell_type": "code",
   "execution_count": 69,
   "metadata": {},
   "outputs": [
    {
     "data": {
      "text/plain": [
       "0.039288"
      ]
     },
     "execution_count": 69,
     "metadata": {},
     "output_type": "execute_result"
    }
   ],
   "source": [
    "round(prets[np.argmin(pvols)],6)"
   ]
  },
  {
   "cell_type": "code",
   "execution_count": 70,
   "metadata": {},
   "outputs": [
    {
     "data": {
      "text/plain": [
       "0.056218"
      ]
     },
     "execution_count": 70,
     "metadata": {},
     "output_type": "execute_result"
    }
   ],
   "source": [
    "round(pvols[np.argmin(pvols)],6)"
   ]
  },
  {
   "cell_type": "code",
   "execution_count": 71,
   "metadata": {},
   "outputs": [
    {
     "data": {
      "text/plain": [
       "0.6754776050375325"
      ]
     },
     "execution_count": 71,
     "metadata": {},
     "output_type": "execute_result"
    }
   ],
   "source": [
    "round(prets[np.argmin(prets)],6)/round(pvols[np.argmin(pvols)],6)"
   ]
  },
  {
   "cell_type": "code",
   "execution_count": 72,
   "metadata": {},
   "outputs": [
    {
     "data": {
      "text/plain": [
       "0.6988509018463837"
      ]
     },
     "execution_count": 72,
     "metadata": {},
     "output_type": "execute_result"
    }
   ],
   "source": [
    "0.039288/0.056218"
   ]
  },
  {
   "cell_type": "code",
   "execution_count": 73,
   "metadata": {},
   "outputs": [
    {
     "data": {
      "text/html": [
       "<div>\n",
       "<style scoped>\n",
       "    .dataframe tbody tr th:only-of-type {\n",
       "        vertical-align: middle;\n",
       "    }\n",
       "\n",
       "    .dataframe tbody tr th {\n",
       "        vertical-align: top;\n",
       "    }\n",
       "\n",
       "    .dataframe thead th {\n",
       "        text-align: right;\n",
       "    }\n",
       "</style>\n",
       "<table border=\"1\" class=\"dataframe\">\n",
       "  <thead>\n",
       "    <tr style=\"text-align: right;\">\n",
       "      <th></th>\n",
       "      <th>weights</th>\n",
       "      <th>prets</th>\n",
       "      <th>pvols</th>\n",
       "      <th>Sharpe Ratio</th>\n",
       "    </tr>\n",
       "  </thead>\n",
       "  <tbody>\n",
       "    <tr>\n",
       "      <th>2728</th>\n",
       "      <td>[0.05760973382226917, 0.07547471445257346, 0.0...</td>\n",
       "      <td>0.039288</td>\n",
       "      <td>0.056218</td>\n",
       "      <td>0.698846</td>\n",
       "    </tr>\n",
       "  </tbody>\n",
       "</table>\n",
       "</div>"
      ],
      "text/plain": [
       "                                                weights     prets     pvols  \\\n",
       "2728  [0.05760973382226917, 0.07547471445257346, 0.0...  0.039288  0.056218   \n",
       "\n",
       "      Sharpe Ratio  \n",
       "2728      0.698846  "
      ]
     },
     "execution_count": 73,
     "metadata": {},
     "output_type": "execute_result"
    }
   ],
   "source": [
    "df_wts[(df_wts['prets'] == prets[np.argmin(pvols)]) & (df_wts['pvols']==pvols[np.argmin(pvols)]) ] "
   ]
  },
  {
   "cell_type": "code",
   "execution_count": 74,
   "metadata": {},
   "outputs": [
    {
     "data": {
      "text/plain": [
       "0.08700000000000001"
      ]
     },
     "execution_count": 74,
     "metadata": {},
     "output_type": "execute_result"
    }
   ],
   "source": [
    "0.1-0.013"
   ]
  },
  {
   "cell_type": "code",
   "execution_count": 75,
   "metadata": {},
   "outputs": [
    {
     "data": {
      "text/plain": [
       "0.19999999999999996"
      ]
     },
     "execution_count": 75,
     "metadata": {},
     "output_type": "execute_result"
    }
   ],
   "source": [
    "1-0.8"
   ]
  },
  {
   "cell_type": "code",
   "execution_count": 76,
   "metadata": {},
   "outputs": [],
   "source": [
    "#### Inference for Min Volatility and Max Sharpe Portfolio:\n",
    "\n"
   ]
  },
  {
   "cell_type": "markdown",
   "metadata": {},
   "source": [
    "### Q9"
   ]
  },
  {
   "cell_type": "markdown",
   "metadata": {},
   "source": [
    "### Comparing the equal weighted portfolio with Max Sharpe Portfolio"
   ]
  },
  {
   "cell_type": "code",
   "execution_count": 77,
   "metadata": {},
   "outputs": [],
   "source": [
    "#defining equal weights for the equal weights portfolio\n",
    "equal_wts = [0.125]*8\n"
   ]
  },
  {
   "cell_type": "code",
   "execution_count": 78,
   "metadata": {},
   "outputs": [],
   "source": [
    "#creating a deep copy of the portfolio dataframe \n",
    "df_sma_copy = df_sma.copy()"
   ]
  },
  {
   "cell_type": "code",
   "execution_count": 79,
   "metadata": {},
   "outputs": [],
   "source": [
    "#creating weights column to multiply with portfolio returns\n",
    "df_sma_copy['Weights'] = [equal_wts] * len(df_sma_copy)"
   ]
  },
  {
   "cell_type": "code",
   "execution_count": 80,
   "metadata": {},
   "outputs": [],
   "source": [
    "#multiuplying weights with daily rebalancing \n",
    "portfolio_2 = []\n",
    "for i in range(len(df_sma_copy)):\n",
    "    portfolio_2.append(np.dot(df_sma_copy['Weights'][i] , df_sma_copy.iloc[i,:-1]))"
   ]
  },
  {
   "cell_type": "code",
   "execution_count": 81,
   "metadata": {},
   "outputs": [],
   "source": [
    "#Adding portfolio returns column\n",
    "df_sma_copy['Portfolio'] = portfolio_2"
   ]
  },
  {
   "cell_type": "code",
   "execution_count": 82,
   "metadata": {},
   "outputs": [
    {
     "data": {
      "text/html": [
       "<div>\n",
       "<style scoped>\n",
       "    .dataframe tbody tr th:only-of-type {\n",
       "        vertical-align: middle;\n",
       "    }\n",
       "\n",
       "    .dataframe tbody tr th {\n",
       "        vertical-align: top;\n",
       "    }\n",
       "\n",
       "    .dataframe thead th {\n",
       "        text-align: right;\n",
       "    }\n",
       "</style>\n",
       "<table border=\"1\" class=\"dataframe\">\n",
       "  <thead>\n",
       "    <tr style=\"text-align: right;\">\n",
       "      <th></th>\n",
       "      <th>ATT</th>\n",
       "      <th>GE</th>\n",
       "      <th>AAPL</th>\n",
       "      <th>AMZN</th>\n",
       "      <th>EUR</th>\n",
       "      <th>GOLD</th>\n",
       "      <th>INTC</th>\n",
       "      <th>BOND</th>\n",
       "      <th>Portfolio</th>\n",
       "    </tr>\n",
       "    <tr>\n",
       "      <th>Date</th>\n",
       "      <th></th>\n",
       "      <th></th>\n",
       "      <th></th>\n",
       "      <th></th>\n",
       "      <th></th>\n",
       "      <th></th>\n",
       "      <th></th>\n",
       "      <th></th>\n",
       "      <th></th>\n",
       "    </tr>\n",
       "  </thead>\n",
       "  <tbody>\n",
       "    <tr>\n",
       "      <th>2001-01-12</th>\n",
       "      <td>-0.027830</td>\n",
       "      <td>0.018971</td>\n",
       "      <td>-0.0</td>\n",
       "      <td>0.000000</td>\n",
       "      <td>-0.0</td>\n",
       "      <td>0.0</td>\n",
       "      <td>-0.000000</td>\n",
       "      <td>-0.004724</td>\n",
       "      <td>-0.001698</td>\n",
       "    </tr>\n",
       "    <tr>\n",
       "      <th>2001-01-16</th>\n",
       "      <td>-0.017327</td>\n",
       "      <td>-0.036270</td>\n",
       "      <td>-0.0</td>\n",
       "      <td>0.000000</td>\n",
       "      <td>-0.0</td>\n",
       "      <td>-0.0</td>\n",
       "      <td>-0.000000</td>\n",
       "      <td>0.001185</td>\n",
       "      <td>-0.006551</td>\n",
       "    </tr>\n",
       "    <tr>\n",
       "      <th>2001-01-17</th>\n",
       "      <td>0.004981</td>\n",
       "      <td>0.014618</td>\n",
       "      <td>-0.0</td>\n",
       "      <td>0.000000</td>\n",
       "      <td>-0.0</td>\n",
       "      <td>0.0</td>\n",
       "      <td>-0.000000</td>\n",
       "      <td>0.003317</td>\n",
       "      <td>0.002865</td>\n",
       "    </tr>\n",
       "    <tr>\n",
       "      <th>2001-01-18</th>\n",
       "      <td>0.004957</td>\n",
       "      <td>-0.019881</td>\n",
       "      <td>0.0</td>\n",
       "      <td>0.000000</td>\n",
       "      <td>0.0</td>\n",
       "      <td>0.0</td>\n",
       "      <td>0.000000</td>\n",
       "      <td>0.004006</td>\n",
       "      <td>-0.001365</td>\n",
       "    </tr>\n",
       "    <tr>\n",
       "      <th>2001-01-19</th>\n",
       "      <td>-0.017457</td>\n",
       "      <td>0.013210</td>\n",
       "      <td>0.0</td>\n",
       "      <td>0.000000</td>\n",
       "      <td>-0.0</td>\n",
       "      <td>0.0</td>\n",
       "      <td>0.000000</td>\n",
       "      <td>-0.003085</td>\n",
       "      <td>-0.000916</td>\n",
       "    </tr>\n",
       "    <tr>\n",
       "      <th>...</th>\n",
       "      <td>...</td>\n",
       "      <td>...</td>\n",
       "      <td>...</td>\n",
       "      <td>...</td>\n",
       "      <td>...</td>\n",
       "      <td>...</td>\n",
       "      <td>...</td>\n",
       "      <td>...</td>\n",
       "      <td>...</td>\n",
       "    </tr>\n",
       "    <tr>\n",
       "      <th>2018-12-24</th>\n",
       "      <td>0.034133</td>\n",
       "      <td>0.032697</td>\n",
       "      <td>-0.0</td>\n",
       "      <td>-0.024613</td>\n",
       "      <td>0.0</td>\n",
       "      <td>0.0</td>\n",
       "      <td>-0.028273</td>\n",
       "      <td>0.001688</td>\n",
       "      <td>0.001954</td>\n",
       "    </tr>\n",
       "    <tr>\n",
       "      <th>2018-12-26</th>\n",
       "      <td>-0.025975</td>\n",
       "      <td>-0.065712</td>\n",
       "      <td>0.0</td>\n",
       "      <td>0.000000</td>\n",
       "      <td>-0.0</td>\n",
       "      <td>-0.0</td>\n",
       "      <td>0.057936</td>\n",
       "      <td>-0.002511</td>\n",
       "      <td>-0.004533</td>\n",
       "    </tr>\n",
       "    <tr>\n",
       "      <th>2018-12-27</th>\n",
       "      <td>-0.002490</td>\n",
       "      <td>0.016371</td>\n",
       "      <td>-0.0</td>\n",
       "      <td>-0.000000</td>\n",
       "      <td>0.0</td>\n",
       "      <td>0.0</td>\n",
       "      <td>0.003674</td>\n",
       "      <td>0.002101</td>\n",
       "      <td>0.002457</td>\n",
       "    </tr>\n",
       "    <tr>\n",
       "      <th>2018-12-28</th>\n",
       "      <td>-0.010952</td>\n",
       "      <td>-0.032479</td>\n",
       "      <td>0.0</td>\n",
       "      <td>0.000000</td>\n",
       "      <td>0.0</td>\n",
       "      <td>0.0</td>\n",
       "      <td>0.008377</td>\n",
       "      <td>0.000285</td>\n",
       "      <td>-0.004346</td>\n",
       "    </tr>\n",
       "    <tr>\n",
       "      <th>2018-12-31</th>\n",
       "      <td>-0.002807</td>\n",
       "      <td>-0.007958</td>\n",
       "      <td>0.0</td>\n",
       "      <td>0.000000</td>\n",
       "      <td>0.0</td>\n",
       "      <td>0.0</td>\n",
       "      <td>0.003843</td>\n",
       "      <td>0.002315</td>\n",
       "      <td>-0.000576</td>\n",
       "    </tr>\n",
       "  </tbody>\n",
       "</table>\n",
       "<p>4485 rows × 9 columns</p>\n",
       "</div>"
      ],
      "text/plain": [
       "                 ATT        GE  AAPL      AMZN  EUR  GOLD      INTC      BOND  \\\n",
       "Date                                                                            \n",
       "2001-01-12 -0.027830  0.018971  -0.0  0.000000 -0.0   0.0 -0.000000 -0.004724   \n",
       "2001-01-16 -0.017327 -0.036270  -0.0  0.000000 -0.0  -0.0 -0.000000  0.001185   \n",
       "2001-01-17  0.004981  0.014618  -0.0  0.000000 -0.0   0.0 -0.000000  0.003317   \n",
       "2001-01-18  0.004957 -0.019881   0.0  0.000000  0.0   0.0  0.000000  0.004006   \n",
       "2001-01-19 -0.017457  0.013210   0.0  0.000000 -0.0   0.0  0.000000 -0.003085   \n",
       "...              ...       ...   ...       ...  ...   ...       ...       ...   \n",
       "2018-12-24  0.034133  0.032697  -0.0 -0.024613  0.0   0.0 -0.028273  0.001688   \n",
       "2018-12-26 -0.025975 -0.065712   0.0  0.000000 -0.0  -0.0  0.057936 -0.002511   \n",
       "2018-12-27 -0.002490  0.016371  -0.0 -0.000000  0.0   0.0  0.003674  0.002101   \n",
       "2018-12-28 -0.010952 -0.032479   0.0  0.000000  0.0   0.0  0.008377  0.000285   \n",
       "2018-12-31 -0.002807 -0.007958   0.0  0.000000  0.0   0.0  0.003843  0.002315   \n",
       "\n",
       "            Portfolio  \n",
       "Date                   \n",
       "2001-01-12  -0.001698  \n",
       "2001-01-16  -0.006551  \n",
       "2001-01-17   0.002865  \n",
       "2001-01-18  -0.001365  \n",
       "2001-01-19  -0.000916  \n",
       "...               ...  \n",
       "2018-12-24   0.001954  \n",
       "2018-12-26  -0.004533  \n",
       "2018-12-27   0.002457  \n",
       "2018-12-28  -0.004346  \n",
       "2018-12-31  -0.000576  \n",
       "\n",
       "[4485 rows x 9 columns]"
      ]
     },
     "execution_count": 82,
     "metadata": {},
     "output_type": "execute_result"
    }
   ],
   "source": [
    "df_sma_copy.drop('Weights',axis=1)"
   ]
  },
  {
   "cell_type": "code",
   "execution_count": 83,
   "metadata": {},
   "outputs": [
    {
     "data": {
      "text/html": [
       "<div>\n",
       "<style scoped>\n",
       "    .dataframe tbody tr th:only-of-type {\n",
       "        vertical-align: middle;\n",
       "    }\n",
       "\n",
       "    .dataframe tbody tr th {\n",
       "        vertical-align: top;\n",
       "    }\n",
       "\n",
       "    .dataframe thead th {\n",
       "        text-align: right;\n",
       "    }\n",
       "</style>\n",
       "<table border=\"1\" class=\"dataframe\">\n",
       "  <thead>\n",
       "    <tr style=\"text-align: right;\">\n",
       "      <th></th>\n",
       "      <th>ATT</th>\n",
       "      <th>GE</th>\n",
       "      <th>AAPL</th>\n",
       "      <th>AMZN</th>\n",
       "      <th>EUR</th>\n",
       "      <th>GOLD</th>\n",
       "      <th>INTC</th>\n",
       "      <th>BOND</th>\n",
       "      <th>Portfolio</th>\n",
       "    </tr>\n",
       "  </thead>\n",
       "  <tbody>\n",
       "    <tr>\n",
       "      <th>Average Annual Return</th>\n",
       "      <td>0.020533</td>\n",
       "      <td>0.104608</td>\n",
       "      <td>0.238173</td>\n",
       "      <td>0.200783</td>\n",
       "      <td>0.018530</td>\n",
       "      <td>0.080456</td>\n",
       "      <td>0.082284</td>\n",
       "      <td>0.008398</td>\n",
       "      <td>0.094221</td>\n",
       "    </tr>\n",
       "    <tr>\n",
       "      <th>Annual Risk</th>\n",
       "      <td>0.251199</td>\n",
       "      <td>0.308587</td>\n",
       "      <td>0.283479</td>\n",
       "      <td>0.332287</td>\n",
       "      <td>0.071139</td>\n",
       "      <td>0.145261</td>\n",
       "      <td>0.249602</td>\n",
       "      <td>0.037444</td>\n",
       "      <td>0.093855</td>\n",
       "    </tr>\n",
       "    <tr>\n",
       "      <th>Sharpe Ratio</th>\n",
       "      <td>0.081739</td>\n",
       "      <td>0.338990</td>\n",
       "      <td>0.840178</td>\n",
       "      <td>0.604247</td>\n",
       "      <td>0.260482</td>\n",
       "      <td>0.553872</td>\n",
       "      <td>0.329661</td>\n",
       "      <td>0.224273</td>\n",
       "      <td>1.003901</td>\n",
       "    </tr>\n",
       "    <tr>\n",
       "      <th>maxDD</th>\n",
       "      <td>-0.715106</td>\n",
       "      <td>-1.737193</td>\n",
       "      <td>-0.829613</td>\n",
       "      <td>-0.972030</td>\n",
       "      <td>-0.246239</td>\n",
       "      <td>-0.352246</td>\n",
       "      <td>-0.457487</td>\n",
       "      <td>-0.142077</td>\n",
       "      <td>-0.154481</td>\n",
       "    </tr>\n",
       "    <tr>\n",
       "      <th>Success Ratio</th>\n",
       "      <td>0.513043</td>\n",
       "      <td>0.519064</td>\n",
       "      <td>0.650836</td>\n",
       "      <td>0.659755</td>\n",
       "      <td>0.708361</td>\n",
       "      <td>0.677592</td>\n",
       "      <td>0.745819</td>\n",
       "      <td>0.523300</td>\n",
       "      <td>0.537570</td>\n",
       "    </tr>\n",
       "  </tbody>\n",
       "</table>\n",
       "</div>"
      ],
      "text/plain": [
       "                            ATT        GE      AAPL      AMZN       EUR  \\\n",
       "Average Annual Return  0.020533  0.104608  0.238173  0.200783  0.018530   \n",
       "Annual Risk            0.251199  0.308587  0.283479  0.332287  0.071139   \n",
       "Sharpe Ratio           0.081739  0.338990  0.840178  0.604247  0.260482   \n",
       "maxDD                 -0.715106 -1.737193 -0.829613 -0.972030 -0.246239   \n",
       "Success Ratio          0.513043  0.519064  0.650836  0.659755  0.708361   \n",
       "\n",
       "                           GOLD      INTC      BOND  Portfolio  \n",
       "Average Annual Return  0.080456  0.082284  0.008398   0.094221  \n",
       "Annual Risk            0.145261  0.249602  0.037444   0.093855  \n",
       "Sharpe Ratio           0.553872  0.329661  0.224273   1.003901  \n",
       "maxDD                 -0.352246 -0.457487 -0.142077  -0.154481  \n",
       "Success Ratio          0.677592  0.745819  0.523300   0.537570  "
      ]
     },
     "execution_count": 83,
     "metadata": {},
     "output_type": "execute_result"
    }
   ],
   "source": [
    "calc_summary_stats(df_sma_copy.drop('Weights',axis=1))"
   ]
  },
  {
   "cell_type": "markdown",
   "metadata": {},
   "source": [
    "#### From the above table we can see that maximum Sharpe of equal portfolio is 1.00 which is below the max sharpe of our constructed portfolio which is around 1.14"
   ]
  },
  {
   "cell_type": "markdown",
   "metadata": {},
   "source": [
    "### Q 10"
   ]
  },
  {
   "cell_type": "markdown",
   "metadata": {},
   "source": [
    "### Calculating beta"
   ]
  },
  {
   "cell_type": "code",
   "execution_count": 84,
   "metadata": {},
   "outputs": [],
   "source": [
    "#constructing the max sharp porfolio with the optimal weights determined from the Monte Carlo simulation to calculate the Beta \n",
    "#weights of max portfolio\n",
    "init_wts = list(df_wts[df_wts['prets'] == prets_sma[np.argmax(prets_sma/pvols_sma)]]['weights'].values)"
   ]
  },
  {
   "cell_type": "code",
   "execution_count": 85,
   "metadata": {},
   "outputs": [
    {
     "data": {
      "text/plain": [
       "[array([0.0065161 , 0.09944205, 0.20441047, 0.05964576, 0.20504819,\n",
       "        0.18976544, 0.06052765, 0.17464435])]"
      ]
     },
     "execution_count": 85,
     "metadata": {},
     "output_type": "execute_result"
    }
   ],
   "source": [
    "init_wts"
   ]
  },
  {
   "cell_type": "code",
   "execution_count": 86,
   "metadata": {},
   "outputs": [
    {
     "data": {
      "text/plain": [
       "ATT     0.000079\n",
       "GE      0.000402\n",
       "AAPL    0.000916\n",
       "AMZN    0.000772\n",
       "EUR     0.000071\n",
       "GOLD    0.000309\n",
       "INTC    0.000316\n",
       "BOND    0.000032\n",
       "dtype: float64"
      ]
     },
     "execution_count": 86,
     "metadata": {},
     "output_type": "execute_result"
    }
   ],
   "source": [
    "df_sma.mean()"
   ]
  },
  {
   "cell_type": "code",
   "execution_count": 87,
   "metadata": {},
   "outputs": [],
   "source": [
    "init_wts_arr = np.array(init_wts)"
   ]
  },
  {
   "cell_type": "code",
   "execution_count": 88,
   "metadata": {},
   "outputs": [
    {
     "data": {
      "text/plain": [
       "array([0.0065161 , 0.09944205, 0.20441047, 0.05964576, 0.20504819,\n",
       "       0.18976544, 0.06052765, 0.17464435])"
      ]
     },
     "execution_count": 88,
     "metadata": {},
     "output_type": "execute_result"
    }
   ],
   "source": [
    "init_wts_arr[0]"
   ]
  },
  {
   "cell_type": "code",
   "execution_count": 89,
   "metadata": {},
   "outputs": [
    {
     "data": {
      "text/html": [
       "<div>\n",
       "<style scoped>\n",
       "    .dataframe tbody tr th:only-of-type {\n",
       "        vertical-align: middle;\n",
       "    }\n",
       "\n",
       "    .dataframe tbody tr th {\n",
       "        vertical-align: top;\n",
       "    }\n",
       "\n",
       "    .dataframe thead th {\n",
       "        text-align: right;\n",
       "    }\n",
       "</style>\n",
       "<table border=\"1\" class=\"dataframe\">\n",
       "  <thead>\n",
       "    <tr style=\"text-align: right;\">\n",
       "      <th></th>\n",
       "      <th>ATT</th>\n",
       "      <th>GE</th>\n",
       "      <th>AAPL</th>\n",
       "      <th>AMZN</th>\n",
       "      <th>EUR</th>\n",
       "      <th>GOLD</th>\n",
       "      <th>INTC</th>\n",
       "      <th>BOND</th>\n",
       "    </tr>\n",
       "    <tr>\n",
       "      <th>Date</th>\n",
       "      <th></th>\n",
       "      <th></th>\n",
       "      <th></th>\n",
       "      <th></th>\n",
       "      <th></th>\n",
       "      <th></th>\n",
       "      <th></th>\n",
       "      <th></th>\n",
       "    </tr>\n",
       "  </thead>\n",
       "  <tbody>\n",
       "    <tr>\n",
       "      <th>2001-01-12</th>\n",
       "      <td>-0.000181</td>\n",
       "      <td>0.001886</td>\n",
       "      <td>-0.0</td>\n",
       "      <td>0.000000</td>\n",
       "      <td>-0.0</td>\n",
       "      <td>0.0</td>\n",
       "      <td>-0.000000</td>\n",
       "      <td>-0.000825</td>\n",
       "    </tr>\n",
       "    <tr>\n",
       "      <th>2001-01-16</th>\n",
       "      <td>-0.000113</td>\n",
       "      <td>-0.003607</td>\n",
       "      <td>-0.0</td>\n",
       "      <td>0.000000</td>\n",
       "      <td>-0.0</td>\n",
       "      <td>-0.0</td>\n",
       "      <td>-0.000000</td>\n",
       "      <td>0.000207</td>\n",
       "    </tr>\n",
       "    <tr>\n",
       "      <th>2001-01-17</th>\n",
       "      <td>0.000032</td>\n",
       "      <td>0.001454</td>\n",
       "      <td>-0.0</td>\n",
       "      <td>0.000000</td>\n",
       "      <td>-0.0</td>\n",
       "      <td>0.0</td>\n",
       "      <td>-0.000000</td>\n",
       "      <td>0.000579</td>\n",
       "    </tr>\n",
       "    <tr>\n",
       "      <th>2001-01-18</th>\n",
       "      <td>0.000032</td>\n",
       "      <td>-0.001977</td>\n",
       "      <td>0.0</td>\n",
       "      <td>0.000000</td>\n",
       "      <td>0.0</td>\n",
       "      <td>0.0</td>\n",
       "      <td>0.000000</td>\n",
       "      <td>0.000700</td>\n",
       "    </tr>\n",
       "    <tr>\n",
       "      <th>2001-01-19</th>\n",
       "      <td>-0.000114</td>\n",
       "      <td>0.001314</td>\n",
       "      <td>0.0</td>\n",
       "      <td>0.000000</td>\n",
       "      <td>-0.0</td>\n",
       "      <td>0.0</td>\n",
       "      <td>0.000000</td>\n",
       "      <td>-0.000539</td>\n",
       "    </tr>\n",
       "    <tr>\n",
       "      <th>...</th>\n",
       "      <td>...</td>\n",
       "      <td>...</td>\n",
       "      <td>...</td>\n",
       "      <td>...</td>\n",
       "      <td>...</td>\n",
       "      <td>...</td>\n",
       "      <td>...</td>\n",
       "      <td>...</td>\n",
       "    </tr>\n",
       "    <tr>\n",
       "      <th>2018-12-24</th>\n",
       "      <td>0.000222</td>\n",
       "      <td>0.003251</td>\n",
       "      <td>-0.0</td>\n",
       "      <td>-0.001468</td>\n",
       "      <td>0.0</td>\n",
       "      <td>0.0</td>\n",
       "      <td>-0.001711</td>\n",
       "      <td>0.000295</td>\n",
       "    </tr>\n",
       "    <tr>\n",
       "      <th>2018-12-26</th>\n",
       "      <td>-0.000169</td>\n",
       "      <td>-0.006535</td>\n",
       "      <td>0.0</td>\n",
       "      <td>0.000000</td>\n",
       "      <td>-0.0</td>\n",
       "      <td>-0.0</td>\n",
       "      <td>0.003507</td>\n",
       "      <td>-0.000438</td>\n",
       "    </tr>\n",
       "    <tr>\n",
       "      <th>2018-12-27</th>\n",
       "      <td>-0.000016</td>\n",
       "      <td>0.001628</td>\n",
       "      <td>-0.0</td>\n",
       "      <td>-0.000000</td>\n",
       "      <td>0.0</td>\n",
       "      <td>0.0</td>\n",
       "      <td>0.000222</td>\n",
       "      <td>0.000367</td>\n",
       "    </tr>\n",
       "    <tr>\n",
       "      <th>2018-12-28</th>\n",
       "      <td>-0.000071</td>\n",
       "      <td>-0.003230</td>\n",
       "      <td>0.0</td>\n",
       "      <td>0.000000</td>\n",
       "      <td>0.0</td>\n",
       "      <td>0.0</td>\n",
       "      <td>0.000507</td>\n",
       "      <td>0.000050</td>\n",
       "    </tr>\n",
       "    <tr>\n",
       "      <th>2018-12-31</th>\n",
       "      <td>-0.000018</td>\n",
       "      <td>-0.000791</td>\n",
       "      <td>0.0</td>\n",
       "      <td>0.000000</td>\n",
       "      <td>0.0</td>\n",
       "      <td>0.0</td>\n",
       "      <td>0.000233</td>\n",
       "      <td>0.000404</td>\n",
       "    </tr>\n",
       "  </tbody>\n",
       "</table>\n",
       "<p>4485 rows × 8 columns</p>\n",
       "</div>"
      ],
      "text/plain": [
       "                 ATT        GE  AAPL      AMZN  EUR  GOLD      INTC      BOND\n",
       "Date                                                                         \n",
       "2001-01-12 -0.000181  0.001886  -0.0  0.000000 -0.0   0.0 -0.000000 -0.000825\n",
       "2001-01-16 -0.000113 -0.003607  -0.0  0.000000 -0.0  -0.0 -0.000000  0.000207\n",
       "2001-01-17  0.000032  0.001454  -0.0  0.000000 -0.0   0.0 -0.000000  0.000579\n",
       "2001-01-18  0.000032 -0.001977   0.0  0.000000  0.0   0.0  0.000000  0.000700\n",
       "2001-01-19 -0.000114  0.001314   0.0  0.000000 -0.0   0.0  0.000000 -0.000539\n",
       "...              ...       ...   ...       ...  ...   ...       ...       ...\n",
       "2018-12-24  0.000222  0.003251  -0.0 -0.001468  0.0   0.0 -0.001711  0.000295\n",
       "2018-12-26 -0.000169 -0.006535   0.0  0.000000 -0.0  -0.0  0.003507 -0.000438\n",
       "2018-12-27 -0.000016  0.001628  -0.0 -0.000000  0.0   0.0  0.000222  0.000367\n",
       "2018-12-28 -0.000071 -0.003230   0.0  0.000000  0.0   0.0  0.000507  0.000050\n",
       "2018-12-31 -0.000018 -0.000791   0.0  0.000000  0.0   0.0  0.000233  0.000404\n",
       "\n",
       "[4485 rows x 8 columns]"
      ]
     },
     "execution_count": 89,
     "metadata": {},
     "output_type": "execute_result"
    }
   ],
   "source": [
    "#multiplying the max weights with daily rebalancing to create max sharpe portfolio\n",
    "weightedCumReturns = init_wts_arr[0] * df_sma\n",
    "weightedCumReturns"
   ]
  },
  {
   "cell_type": "code",
   "execution_count": 90,
   "metadata": {},
   "outputs": [],
   "source": [
    "weightedCumReturns['Portfolio']=weightedCumReturns.sum(axis=1)"
   ]
  },
  {
   "cell_type": "code",
   "execution_count": 91,
   "metadata": {},
   "outputs": [
    {
     "data": {
      "text/html": [
       "<div>\n",
       "<style scoped>\n",
       "    .dataframe tbody tr th:only-of-type {\n",
       "        vertical-align: middle;\n",
       "    }\n",
       "\n",
       "    .dataframe tbody tr th {\n",
       "        vertical-align: top;\n",
       "    }\n",
       "\n",
       "    .dataframe thead th {\n",
       "        text-align: right;\n",
       "    }\n",
       "</style>\n",
       "<table border=\"1\" class=\"dataframe\">\n",
       "  <thead>\n",
       "    <tr style=\"text-align: right;\">\n",
       "      <th></th>\n",
       "      <th>ATT</th>\n",
       "      <th>GE</th>\n",
       "      <th>AAPL</th>\n",
       "      <th>AMZN</th>\n",
       "      <th>EUR</th>\n",
       "      <th>GOLD</th>\n",
       "      <th>INTC</th>\n",
       "      <th>BOND</th>\n",
       "      <th>Portfolio</th>\n",
       "    </tr>\n",
       "  </thead>\n",
       "  <tbody>\n",
       "    <tr>\n",
       "      <th>Average Annual Return</th>\n",
       "      <td>0.000134</td>\n",
       "      <td>0.010402</td>\n",
       "      <td>0.048685</td>\n",
       "      <td>0.011976</td>\n",
       "      <td>0.003800</td>\n",
       "      <td>0.015268</td>\n",
       "      <td>0.004980</td>\n",
       "      <td>0.001467</td>\n",
       "      <td>0.096712</td>\n",
       "    </tr>\n",
       "    <tr>\n",
       "      <th>Annual Risk</th>\n",
       "      <td>0.001637</td>\n",
       "      <td>0.030687</td>\n",
       "      <td>0.057946</td>\n",
       "      <td>0.019819</td>\n",
       "      <td>0.014587</td>\n",
       "      <td>0.027565</td>\n",
       "      <td>0.015108</td>\n",
       "      <td>0.006539</td>\n",
       "      <td>0.084884</td>\n",
       "    </tr>\n",
       "    <tr>\n",
       "      <th>Sharpe Ratio</th>\n",
       "      <td>0.081739</td>\n",
       "      <td>0.338990</td>\n",
       "      <td>0.840178</td>\n",
       "      <td>0.604247</td>\n",
       "      <td>0.260482</td>\n",
       "      <td>0.553872</td>\n",
       "      <td>0.329661</td>\n",
       "      <td>0.224273</td>\n",
       "      <td>1.139340</td>\n",
       "    </tr>\n",
       "    <tr>\n",
       "      <th>maxDD</th>\n",
       "      <td>-0.004660</td>\n",
       "      <td>-0.172750</td>\n",
       "      <td>-0.169582</td>\n",
       "      <td>-0.057977</td>\n",
       "      <td>-0.050491</td>\n",
       "      <td>-0.066844</td>\n",
       "      <td>-0.027691</td>\n",
       "      <td>-0.024813</td>\n",
       "      <td>-0.190080</td>\n",
       "    </tr>\n",
       "    <tr>\n",
       "      <th>Success Ratio</th>\n",
       "      <td>0.513043</td>\n",
       "      <td>0.519064</td>\n",
       "      <td>0.650836</td>\n",
       "      <td>0.659755</td>\n",
       "      <td>0.708361</td>\n",
       "      <td>0.677592</td>\n",
       "      <td>0.745819</td>\n",
       "      <td>0.523300</td>\n",
       "      <td>0.542029</td>\n",
       "    </tr>\n",
       "  </tbody>\n",
       "</table>\n",
       "</div>"
      ],
      "text/plain": [
       "                            ATT        GE      AAPL      AMZN       EUR  \\\n",
       "Average Annual Return  0.000134  0.010402  0.048685  0.011976  0.003800   \n",
       "Annual Risk            0.001637  0.030687  0.057946  0.019819  0.014587   \n",
       "Sharpe Ratio           0.081739  0.338990  0.840178  0.604247  0.260482   \n",
       "maxDD                 -0.004660 -0.172750 -0.169582 -0.057977 -0.050491   \n",
       "Success Ratio          0.513043  0.519064  0.650836  0.659755  0.708361   \n",
       "\n",
       "                           GOLD      INTC      BOND  Portfolio  \n",
       "Average Annual Return  0.015268  0.004980  0.001467   0.096712  \n",
       "Annual Risk            0.027565  0.015108  0.006539   0.084884  \n",
       "Sharpe Ratio           0.553872  0.329661  0.224273   1.139340  \n",
       "maxDD                 -0.066844 -0.027691 -0.024813  -0.190080  \n",
       "Success Ratio          0.677592  0.745819  0.523300   0.542029  "
      ]
     },
     "execution_count": 91,
     "metadata": {},
     "output_type": "execute_result"
    }
   ],
   "source": [
    "#checking if the portfolio is returning same sharp as before \n",
    "calc_summary_stats(weightedCumReturns)"
   ]
  },
  {
   "cell_type": "code",
   "execution_count": 92,
   "metadata": {},
   "outputs": [],
   "source": [
    "allReturnsForComparison = weightedCumReturns.copy()\n"
   ]
  },
  {
   "cell_type": "code",
   "execution_count": 93,
   "metadata": {},
   "outputs": [],
   "source": [
    "#Calculating Beta by comapring it with SPY using Logistic regression\n",
    "X = logReturnsall['SPY']\n",
    "X = sm.add_constant(X)\n",
    "y = allReturnsForComparison['Portfolio']"
   ]
  },
  {
   "cell_type": "code",
   "execution_count": 94,
   "metadata": {},
   "outputs": [],
   "source": [
    "exog = pd.DataFrame(y,columns=['Portfolio'])"
   ]
  },
  {
   "cell_type": "code",
   "execution_count": 95,
   "metadata": {},
   "outputs": [
    {
     "data": {
      "text/html": [
       "<div>\n",
       "<style scoped>\n",
       "    .dataframe tbody tr th:only-of-type {\n",
       "        vertical-align: middle;\n",
       "    }\n",
       "\n",
       "    .dataframe tbody tr th {\n",
       "        vertical-align: top;\n",
       "    }\n",
       "\n",
       "    .dataframe thead th {\n",
       "        text-align: right;\n",
       "    }\n",
       "</style>\n",
       "<table border=\"1\" class=\"dataframe\">\n",
       "  <thead>\n",
       "    <tr style=\"text-align: right;\">\n",
       "      <th></th>\n",
       "      <th>const</th>\n",
       "      <th>SPY</th>\n",
       "    </tr>\n",
       "    <tr>\n",
       "      <th>Date</th>\n",
       "      <th></th>\n",
       "      <th></th>\n",
       "    </tr>\n",
       "  </thead>\n",
       "  <tbody>\n",
       "    <tr>\n",
       "      <th>2000-01-03</th>\n",
       "      <td>1.0</td>\n",
       "      <td>-0.009835</td>\n",
       "    </tr>\n",
       "    <tr>\n",
       "      <th>2000-01-04</th>\n",
       "      <td>1.0</td>\n",
       "      <td>-0.039891</td>\n",
       "    </tr>\n",
       "    <tr>\n",
       "      <th>2000-01-05</th>\n",
       "      <td>1.0</td>\n",
       "      <td>0.001787</td>\n",
       "    </tr>\n",
       "    <tr>\n",
       "      <th>2000-01-06</th>\n",
       "      <td>1.0</td>\n",
       "      <td>-0.016202</td>\n",
       "    </tr>\n",
       "    <tr>\n",
       "      <th>2000-01-07</th>\n",
       "      <td>1.0</td>\n",
       "      <td>0.056452</td>\n",
       "    </tr>\n",
       "    <tr>\n",
       "      <th>...</th>\n",
       "      <td>...</td>\n",
       "      <td>...</td>\n",
       "    </tr>\n",
       "    <tr>\n",
       "      <th>2018-12-24</th>\n",
       "      <td>1.0</td>\n",
       "      <td>-0.026778</td>\n",
       "    </tr>\n",
       "    <tr>\n",
       "      <th>2018-12-26</th>\n",
       "      <td>1.0</td>\n",
       "      <td>0.049290</td>\n",
       "    </tr>\n",
       "    <tr>\n",
       "      <th>2018-12-27</th>\n",
       "      <td>1.0</td>\n",
       "      <td>0.007648</td>\n",
       "    </tr>\n",
       "    <tr>\n",
       "      <th>2018-12-28</th>\n",
       "      <td>1.0</td>\n",
       "      <td>-0.001291</td>\n",
       "    </tr>\n",
       "    <tr>\n",
       "      <th>2018-12-31</th>\n",
       "      <td>1.0</td>\n",
       "      <td>0.008721</td>\n",
       "    </tr>\n",
       "  </tbody>\n",
       "</table>\n",
       "<p>4744 rows × 2 columns</p>\n",
       "</div>"
      ],
      "text/plain": [
       "            const       SPY\n",
       "Date                       \n",
       "2000-01-03    1.0 -0.009835\n",
       "2000-01-04    1.0 -0.039891\n",
       "2000-01-05    1.0  0.001787\n",
       "2000-01-06    1.0 -0.016202\n",
       "2000-01-07    1.0  0.056452\n",
       "...           ...       ...\n",
       "2018-12-24    1.0 -0.026778\n",
       "2018-12-26    1.0  0.049290\n",
       "2018-12-27    1.0  0.007648\n",
       "2018-12-28    1.0 -0.001291\n",
       "2018-12-31    1.0  0.008721\n",
       "\n",
       "[4744 rows x 2 columns]"
      ]
     },
     "execution_count": 95,
     "metadata": {},
     "output_type": "execute_result"
    }
   ],
   "source": [
    "X"
   ]
  },
  {
   "cell_type": "code",
   "execution_count": 96,
   "metadata": {},
   "outputs": [],
   "source": [
    "df_left_join = X.join(exog,how='inner')"
   ]
  },
  {
   "cell_type": "code",
   "execution_count": 97,
   "metadata": {},
   "outputs": [
    {
     "data": {
      "text/html": [
       "<div>\n",
       "<style scoped>\n",
       "    .dataframe tbody tr th:only-of-type {\n",
       "        vertical-align: middle;\n",
       "    }\n",
       "\n",
       "    .dataframe tbody tr th {\n",
       "        vertical-align: top;\n",
       "    }\n",
       "\n",
       "    .dataframe thead th {\n",
       "        text-align: right;\n",
       "    }\n",
       "</style>\n",
       "<table border=\"1\" class=\"dataframe\">\n",
       "  <thead>\n",
       "    <tr style=\"text-align: right;\">\n",
       "      <th></th>\n",
       "      <th>const</th>\n",
       "      <th>SPY</th>\n",
       "      <th>Portfolio</th>\n",
       "    </tr>\n",
       "    <tr>\n",
       "      <th>Date</th>\n",
       "      <th></th>\n",
       "      <th></th>\n",
       "      <th></th>\n",
       "    </tr>\n",
       "  </thead>\n",
       "  <tbody>\n",
       "    <tr>\n",
       "      <th>2001-01-12</th>\n",
       "      <td>1.0</td>\n",
       "      <td>-0.001892</td>\n",
       "      <td>0.000880</td>\n",
       "    </tr>\n",
       "    <tr>\n",
       "      <th>2001-01-16</th>\n",
       "      <td>1.0</td>\n",
       "      <td>0.006372</td>\n",
       "      <td>-0.003513</td>\n",
       "    </tr>\n",
       "    <tr>\n",
       "      <th>2001-01-17</th>\n",
       "      <td>1.0</td>\n",
       "      <td>0.004577</td>\n",
       "      <td>0.002065</td>\n",
       "    </tr>\n",
       "    <tr>\n",
       "      <th>2001-01-18</th>\n",
       "      <td>1.0</td>\n",
       "      <td>0.009903</td>\n",
       "      <td>-0.001245</td>\n",
       "    </tr>\n",
       "    <tr>\n",
       "      <th>2001-01-19</th>\n",
       "      <td>1.0</td>\n",
       "      <td>-0.005697</td>\n",
       "      <td>0.000661</td>\n",
       "    </tr>\n",
       "    <tr>\n",
       "      <th>...</th>\n",
       "      <td>...</td>\n",
       "      <td>...</td>\n",
       "      <td>...</td>\n",
       "    </tr>\n",
       "    <tr>\n",
       "      <th>2018-12-24</th>\n",
       "      <td>1.0</td>\n",
       "      <td>-0.026778</td>\n",
       "      <td>0.000589</td>\n",
       "    </tr>\n",
       "    <tr>\n",
       "      <th>2018-12-26</th>\n",
       "      <td>1.0</td>\n",
       "      <td>0.049290</td>\n",
       "      <td>-0.003636</td>\n",
       "    </tr>\n",
       "    <tr>\n",
       "      <th>2018-12-27</th>\n",
       "      <td>1.0</td>\n",
       "      <td>0.007648</td>\n",
       "      <td>0.002201</td>\n",
       "    </tr>\n",
       "    <tr>\n",
       "      <th>2018-12-28</th>\n",
       "      <td>1.0</td>\n",
       "      <td>-0.001291</td>\n",
       "      <td>-0.002744</td>\n",
       "    </tr>\n",
       "    <tr>\n",
       "      <th>2018-12-31</th>\n",
       "      <td>1.0</td>\n",
       "      <td>0.008721</td>\n",
       "      <td>-0.000173</td>\n",
       "    </tr>\n",
       "  </tbody>\n",
       "</table>\n",
       "<p>4485 rows × 3 columns</p>\n",
       "</div>"
      ],
      "text/plain": [
       "            const       SPY  Portfolio\n",
       "Date                                  \n",
       "2001-01-12    1.0 -0.001892   0.000880\n",
       "2001-01-16    1.0  0.006372  -0.003513\n",
       "2001-01-17    1.0  0.004577   0.002065\n",
       "2001-01-18    1.0  0.009903  -0.001245\n",
       "2001-01-19    1.0 -0.005697   0.000661\n",
       "...           ...       ...        ...\n",
       "2018-12-24    1.0 -0.026778   0.000589\n",
       "2018-12-26    1.0  0.049290  -0.003636\n",
       "2018-12-27    1.0  0.007648   0.002201\n",
       "2018-12-28    1.0 -0.001291  -0.002744\n",
       "2018-12-31    1.0  0.008721  -0.000173\n",
       "\n",
       "[4485 rows x 3 columns]"
      ]
     },
     "execution_count": 97,
     "metadata": {},
     "output_type": "execute_result"
    }
   ],
   "source": [
    "df_left_join"
   ]
  },
  {
   "cell_type": "code",
   "execution_count": 98,
   "metadata": {},
   "outputs": [],
   "source": [
    "#runnning regression model\n",
    "port_Reg = sm.OLS(df_left_join['Portfolio'], df_left_join[['const','SPY']])\n",
    "port_Reg = port_Reg.fit()"
   ]
  },
  {
   "cell_type": "code",
   "execution_count": 99,
   "metadata": {},
   "outputs": [
    {
     "name": "stdout",
     "output_type": "stream",
     "text": [
      "                            OLS Regression Results                            \n",
      "==============================================================================\n",
      "Dep. Variable:              Portfolio   R-squared:                       0.041\n",
      "Model:                            OLS   Adj. R-squared:                  0.041\n",
      "Method:                 Least Squares   F-statistic:                     191.3\n",
      "Date:                Mon, 12 Dec 2022   Prob (F-statistic):           1.21e-42\n",
      "Time:                        19:35:07   Log-Likelihood:                 17262.\n",
      "No. Observations:                4485   AIC:                        -3.452e+04\n",
      "Df Residuals:                    4483   BIC:                        -3.451e+04\n",
      "Df Model:                           1                                         \n",
      "Covariance Type:            nonrobust                                         \n",
      "==============================================================================\n",
      "                 coef    std err          t      P>|t|      [0.025      0.975]\n",
      "------------------------------------------------------------------------------\n",
      "const          0.0004    7.7e-05      4.667      0.000       0.000       0.001\n",
      "SPY            0.0891      0.006     13.832      0.000       0.076       0.102\n",
      "==============================================================================\n",
      "Omnibus:                      317.735   Durbin-Watson:                   1.982\n",
      "Prob(Omnibus):                  0.000   Jarque-Bera (JB):             1614.878\n",
      "Skew:                          -0.067   Prob(JB):                         0.00\n",
      "Kurtosis:                       5.937   Cond. No.                         83.7\n",
      "==============================================================================\n",
      "\n",
      "Notes:\n",
      "[1] Standard Errors assume that the covariance matrix of the errors is correctly specified.\n"
     ]
    }
   ],
   "source": [
    "print(port_Reg.summary())"
   ]
  },
  {
   "cell_type": "code",
   "execution_count": 100,
   "metadata": {},
   "outputs": [
    {
     "data": {
      "text/plain": [
       "0.08909192717509928"
      ]
     },
     "execution_count": 100,
     "metadata": {},
     "output_type": "execute_result"
    }
   ],
   "source": [
    "# the beta term\n",
    "port_Reg.params.SPY"
   ]
  },
  {
   "cell_type": "markdown",
   "metadata": {},
   "source": [
    "#### Beta of Max Sharp Portfolio is 0.089"
   ]
  },
  {
   "cell_type": "markdown",
   "metadata": {},
   "source": [
    "###  Q 11"
   ]
  },
  {
   "cell_type": "markdown",
   "metadata": {},
   "source": [
    "### Variations of mean variance optimization"
   ]
  },
  {
   "cell_type": "markdown",
   "metadata": {},
   "source": [
    "#### 1. All benchmarks"
   ]
  },
  {
   "cell_type": "code",
   "execution_count": 101,
   "metadata": {},
   "outputs": [
    {
     "data": {
      "text/html": [
       "<div>\n",
       "<style scoped>\n",
       "    .dataframe tbody tr th:only-of-type {\n",
       "        vertical-align: middle;\n",
       "    }\n",
       "\n",
       "    .dataframe tbody tr th {\n",
       "        vertical-align: top;\n",
       "    }\n",
       "\n",
       "    .dataframe thead th {\n",
       "        text-align: right;\n",
       "    }\n",
       "</style>\n",
       "<table border=\"1\" class=\"dataframe\">\n",
       "  <thead>\n",
       "    <tr style=\"text-align: right;\">\n",
       "      <th></th>\n",
       "      <th>AAPL</th>\n",
       "      <th>AMZN</th>\n",
       "      <th>ATT</th>\n",
       "      <th>GE</th>\n",
       "      <th>INTC</th>\n",
       "      <th>GOLD</th>\n",
       "      <th>EUR</th>\n",
       "      <th>BOND</th>\n",
       "    </tr>\n",
       "    <tr>\n",
       "      <th>Date</th>\n",
       "      <th></th>\n",
       "      <th></th>\n",
       "      <th></th>\n",
       "      <th></th>\n",
       "      <th></th>\n",
       "      <th></th>\n",
       "      <th></th>\n",
       "      <th></th>\n",
       "    </tr>\n",
       "  </thead>\n",
       "  <tbody>\n",
       "    <tr>\n",
       "      <th>2000-01-03</th>\n",
       "      <td>0.085034</td>\n",
       "      <td>0.160464</td>\n",
       "      <td>-0.036558</td>\n",
       "      <td>-0.031176</td>\n",
       "      <td>0.055385</td>\n",
       "      <td>0.003466</td>\n",
       "      <td>0.017829</td>\n",
       "      <td>-0.005384</td>\n",
       "    </tr>\n",
       "    <tr>\n",
       "      <th>2000-01-04</th>\n",
       "      <td>-0.088077</td>\n",
       "      <td>-0.086884</td>\n",
       "      <td>-0.060292</td>\n",
       "      <td>-0.040822</td>\n",
       "      <td>-0.047821</td>\n",
       "      <td>-0.023633</td>\n",
       "      <td>0.005161</td>\n",
       "      <td>0.003638</td>\n",
       "    </tr>\n",
       "    <tr>\n",
       "      <th>2000-01-05</th>\n",
       "      <td>0.014527</td>\n",
       "      <td>-0.161039</td>\n",
       "      <td>0.015417</td>\n",
       "      <td>-0.001738</td>\n",
       "      <td>0.008255</td>\n",
       "      <td>-0.008004</td>\n",
       "      <td>0.002425</td>\n",
       "      <td>-0.004583</td>\n",
       "    </tr>\n",
       "    <tr>\n",
       "      <th>2000-01-06</th>\n",
       "      <td>-0.090514</td>\n",
       "      <td>-0.061914</td>\n",
       "      <td>-0.026781</td>\n",
       "      <td>0.013281</td>\n",
       "      <td>-0.060064</td>\n",
       "      <td>0.003921</td>\n",
       "      <td>0.000678</td>\n",
       "      <td>0.002486</td>\n",
       "    </tr>\n",
       "    <tr>\n",
       "      <th>2000-01-07</th>\n",
       "      <td>0.046281</td>\n",
       "      <td>0.059222</td>\n",
       "      <td>0.008535</td>\n",
       "      <td>0.037991</td>\n",
       "      <td>0.040441</td>\n",
       "      <td>0.002310</td>\n",
       "      <td>-0.003200</td>\n",
       "      <td>0.002563</td>\n",
       "    </tr>\n",
       "    <tr>\n",
       "      <th>...</th>\n",
       "      <td>...</td>\n",
       "      <td>...</td>\n",
       "      <td>...</td>\n",
       "      <td>...</td>\n",
       "      <td>...</td>\n",
       "      <td>...</td>\n",
       "      <td>...</td>\n",
       "      <td>...</td>\n",
       "    </tr>\n",
       "    <tr>\n",
       "      <th>2018-12-24</th>\n",
       "      <td>-0.026215</td>\n",
       "      <td>-0.024613</td>\n",
       "      <td>-0.034133</td>\n",
       "      <td>-0.032697</td>\n",
       "      <td>-0.028273</td>\n",
       "      <td>0.009722</td>\n",
       "      <td>0.002985</td>\n",
       "      <td>0.001688</td>\n",
       "    </tr>\n",
       "    <tr>\n",
       "      <th>2018-12-26</th>\n",
       "      <td>0.068053</td>\n",
       "      <td>0.090254</td>\n",
       "      <td>0.025975</td>\n",
       "      <td>0.065712</td>\n",
       "      <td>0.057936</td>\n",
       "      <td>-0.001640</td>\n",
       "      <td>-0.004658</td>\n",
       "      <td>-0.002511</td>\n",
       "    </tr>\n",
       "    <tr>\n",
       "      <th>2018-12-27</th>\n",
       "      <td>-0.006511</td>\n",
       "      <td>-0.006315</td>\n",
       "      <td>0.002490</td>\n",
       "      <td>-0.016371</td>\n",
       "      <td>0.003674</td>\n",
       "      <td>0.006740</td>\n",
       "      <td>0.006759</td>\n",
       "      <td>0.002101</td>\n",
       "    </tr>\n",
       "    <tr>\n",
       "      <th>2018-12-28</th>\n",
       "      <td>0.000512</td>\n",
       "      <td>0.011144</td>\n",
       "      <td>0.010952</td>\n",
       "      <td>0.032479</td>\n",
       "      <td>0.008377</td>\n",
       "      <td>0.003912</td>\n",
       "      <td>0.001224</td>\n",
       "      <td>0.000285</td>\n",
       "    </tr>\n",
       "    <tr>\n",
       "      <th>2018-12-31</th>\n",
       "      <td>0.009619</td>\n",
       "      <td>0.016074</td>\n",
       "      <td>0.002807</td>\n",
       "      <td>0.007958</td>\n",
       "      <td>0.003843</td>\n",
       "      <td>0.001389</td>\n",
       "      <td>0.002008</td>\n",
       "      <td>0.002315</td>\n",
       "    </tr>\n",
       "  </tbody>\n",
       "</table>\n",
       "<p>4744 rows × 8 columns</p>\n",
       "</div>"
      ],
      "text/plain": [
       "                AAPL      AMZN       ATT        GE      INTC      GOLD  \\\n",
       "Date                                                                     \n",
       "2000-01-03  0.085034  0.160464 -0.036558 -0.031176  0.055385  0.003466   \n",
       "2000-01-04 -0.088077 -0.086884 -0.060292 -0.040822 -0.047821 -0.023633   \n",
       "2000-01-05  0.014527 -0.161039  0.015417 -0.001738  0.008255 -0.008004   \n",
       "2000-01-06 -0.090514 -0.061914 -0.026781  0.013281 -0.060064  0.003921   \n",
       "2000-01-07  0.046281  0.059222  0.008535  0.037991  0.040441  0.002310   \n",
       "...              ...       ...       ...       ...       ...       ...   \n",
       "2018-12-24 -0.026215 -0.024613 -0.034133 -0.032697 -0.028273  0.009722   \n",
       "2018-12-26  0.068053  0.090254  0.025975  0.065712  0.057936 -0.001640   \n",
       "2018-12-27 -0.006511 -0.006315  0.002490 -0.016371  0.003674  0.006740   \n",
       "2018-12-28  0.000512  0.011144  0.010952  0.032479  0.008377  0.003912   \n",
       "2018-12-31  0.009619  0.016074  0.002807  0.007958  0.003843  0.001389   \n",
       "\n",
       "                 EUR      BOND  \n",
       "Date                            \n",
       "2000-01-03  0.017829 -0.005384  \n",
       "2000-01-04  0.005161  0.003638  \n",
       "2000-01-05  0.002425 -0.004583  \n",
       "2000-01-06  0.000678  0.002486  \n",
       "2000-01-07 -0.003200  0.002563  \n",
       "...              ...       ...  \n",
       "2018-12-24  0.002985  0.001688  \n",
       "2018-12-26 -0.004658 -0.002511  \n",
       "2018-12-27  0.006759  0.002101  \n",
       "2018-12-28  0.001224  0.000285  \n",
       "2018-12-31  0.002008  0.002315  \n",
       "\n",
       "[4744 rows x 8 columns]"
      ]
     },
     "execution_count": 101,
     "metadata": {},
     "output_type": "execute_result"
    }
   ],
   "source": [
    "#log returns of basecase instruments \n",
    "logReturns"
   ]
  },
  {
   "cell_type": "code",
   "execution_count": 102,
   "metadata": {},
   "outputs": [],
   "source": [
    "#Calculating portfolio returns for base case instruments\n",
    "logReturns[\"Portfolio\"] = logReturns.sum(axis=1)"
   ]
  },
  {
   "cell_type": "code",
   "execution_count": 103,
   "metadata": {},
   "outputs": [
    {
     "data": {
      "text/html": [
       "<div>\n",
       "<style scoped>\n",
       "    .dataframe tbody tr th:only-of-type {\n",
       "        vertical-align: middle;\n",
       "    }\n",
       "\n",
       "    .dataframe tbody tr th {\n",
       "        vertical-align: top;\n",
       "    }\n",
       "\n",
       "    .dataframe thead th {\n",
       "        text-align: right;\n",
       "    }\n",
       "</style>\n",
       "<table border=\"1\" class=\"dataframe\">\n",
       "  <thead>\n",
       "    <tr style=\"text-align: right;\">\n",
       "      <th></th>\n",
       "      <th>AAPL</th>\n",
       "      <th>AMZN</th>\n",
       "      <th>ATT</th>\n",
       "      <th>GE</th>\n",
       "      <th>INTC</th>\n",
       "      <th>GOLD</th>\n",
       "      <th>EUR</th>\n",
       "      <th>BOND</th>\n",
       "      <th>Portfolio</th>\n",
       "    </tr>\n",
       "  </thead>\n",
       "  <tbody>\n",
       "    <tr>\n",
       "      <th>Average Annual Return</th>\n",
       "      <td>0.206084</td>\n",
       "      <td>0.163440</td>\n",
       "      <td>-0.029343</td>\n",
       "      <td>-0.105173</td>\n",
       "      <td>0.007195</td>\n",
       "      <td>0.081858</td>\n",
       "      <td>0.007164</td>\n",
       "      <td>0.012411</td>\n",
       "      <td>0.343636</td>\n",
       "    </tr>\n",
       "    <tr>\n",
       "      <th>Annual Risk</th>\n",
       "      <td>0.433101</td>\n",
       "      <td>0.536613</td>\n",
       "      <td>0.266217</td>\n",
       "      <td>0.314310</td>\n",
       "      <td>0.380026</td>\n",
       "      <td>0.178154</td>\n",
       "      <td>0.102092</td>\n",
       "      <td>0.037481</td>\n",
       "      <td>1.344284</td>\n",
       "    </tr>\n",
       "    <tr>\n",
       "      <th>Sharpe Ratio</th>\n",
       "      <td>0.475834</td>\n",
       "      <td>0.304578</td>\n",
       "      <td>-0.110222</td>\n",
       "      <td>-0.334616</td>\n",
       "      <td>0.018933</td>\n",
       "      <td>0.459479</td>\n",
       "      <td>0.070168</td>\n",
       "      <td>0.331122</td>\n",
       "      <td>0.255627</td>\n",
       "    </tr>\n",
       "    <tr>\n",
       "      <th>maxDD</th>\n",
       "      <td>-1.703828</td>\n",
       "      <td>-2.706094</td>\n",
       "      <td>-1.106851</td>\n",
       "      <td>-2.198225</td>\n",
       "      <td>-1.824269</td>\n",
       "      <td>-0.590679</td>\n",
       "      <td>-0.431375</td>\n",
       "      <td>-0.142077</td>\n",
       "      <td>-6.073153</td>\n",
       "    </tr>\n",
       "    <tr>\n",
       "      <th>Success Ratio</th>\n",
       "      <td>0.522344</td>\n",
       "      <td>0.512226</td>\n",
       "      <td>0.516442</td>\n",
       "      <td>0.500843</td>\n",
       "      <td>0.516863</td>\n",
       "      <td>0.524452</td>\n",
       "      <td>0.509907</td>\n",
       "      <td>0.524663</td>\n",
       "      <td>0.523398</td>\n",
       "    </tr>\n",
       "  </tbody>\n",
       "</table>\n",
       "</div>"
      ],
      "text/plain": [
       "                           AAPL      AMZN       ATT        GE      INTC  \\\n",
       "Average Annual Return  0.206084  0.163440 -0.029343 -0.105173  0.007195   \n",
       "Annual Risk            0.433101  0.536613  0.266217  0.314310  0.380026   \n",
       "Sharpe Ratio           0.475834  0.304578 -0.110222 -0.334616  0.018933   \n",
       "maxDD                 -1.703828 -2.706094 -1.106851 -2.198225 -1.824269   \n",
       "Success Ratio          0.522344  0.512226  0.516442  0.500843  0.516863   \n",
       "\n",
       "                           GOLD       EUR      BOND  Portfolio  \n",
       "Average Annual Return  0.081858  0.007164  0.012411   0.343636  \n",
       "Annual Risk            0.178154  0.102092  0.037481   1.344284  \n",
       "Sharpe Ratio           0.459479  0.070168  0.331122   0.255627  \n",
       "maxDD                 -0.590679 -0.431375 -0.142077  -6.073153  \n",
       "Success Ratio          0.524452  0.509907  0.524663   0.523398  "
      ]
     },
     "execution_count": 103,
     "metadata": {},
     "output_type": "execute_result"
    }
   ],
   "source": [
    "#summary stats for basecase portfolio \n",
    "calc_summary_stats(logReturns)"
   ]
  },
  {
   "cell_type": "code",
   "execution_count": 104,
   "metadata": {},
   "outputs": [],
   "source": [
    "#drop portfolio to run mean variance optimization \n",
    "logReturns.drop('Portfolio',axis=1,inplace=True)"
   ]
  },
  {
   "cell_type": "code",
   "execution_count": 105,
   "metadata": {
    "id": "gsH5yLWBX0_k"
   },
   "outputs": [],
   "source": [
    "#Mean Variance optimization \n",
    "prets = [] # initializing an empty list for returns\n",
    "pvols = [] # initializing an empty list for volume\n",
    "weights = []\n",
    "rng = np.random.default_rng(seed=42) # creating a random number generator\n",
    "required_iterations = range(5000) # creating range\n",
    "for i in required_iterations: # initializing a loop for 5000 iterations\n",
    "    wts = rng.random(8) # taking eight random numbers from random number generator\n",
    "    wts /= np.sum(wts) # scaling the weights\n",
    "    weights.append(wts)\n",
    "\n",
    "    prets.append(annualization_factor * np.dot(wts, logReturns.mean().T)) # appending the annualized return value for the given weights across logReturns dataframe in prets list\n",
    "    pvols.append(np.sqrt(annualization_factor) * np.sqrt(np.dot(np.dot(wts, logReturns.cov()), wts.T))) # appending the volume value for the given weights across logReturns dataframe in pvols list\n",
    "prets = np.array(prets) # creating an array for annualized return for each iteration\n",
    "pvols = np.array(pvols)"
   ]
  },
  {
   "cell_type": "code",
   "execution_count": 106,
   "metadata": {
    "id": "EzMSdkvZvgN3"
   },
   "outputs": [],
   "source": [
    "#creating dataframe of weights for different sharpe ratio  \n",
    "df_log_ma_wts = pd.DataFrame({'weights':weights,'prets':prets,'pvols':pvols,'Sharpe Ratio':prets/pvols})"
   ]
  },
  {
   "cell_type": "code",
   "execution_count": 107,
   "metadata": {
    "id": "0TZauPRjv3la"
   },
   "outputs": [
    {
     "data": {
      "text/html": [
       "<div>\n",
       "<style scoped>\n",
       "    .dataframe tbody tr th:only-of-type {\n",
       "        vertical-align: middle;\n",
       "    }\n",
       "\n",
       "    .dataframe tbody tr th {\n",
       "        vertical-align: top;\n",
       "    }\n",
       "\n",
       "    .dataframe thead th {\n",
       "        text-align: right;\n",
       "    }\n",
       "</style>\n",
       "<table border=\"1\" class=\"dataframe\">\n",
       "  <thead>\n",
       "    <tr style=\"text-align: right;\">\n",
       "      <th></th>\n",
       "      <th>weights</th>\n",
       "      <th>prets</th>\n",
       "      <th>pvols</th>\n",
       "      <th>Sharpe Ratio</th>\n",
       "    </tr>\n",
       "  </thead>\n",
       "  <tbody>\n",
       "    <tr>\n",
       "      <th>121</th>\n",
       "      <td>[0.18414034643386218, 0.0689898720586678, 0.08...</td>\n",
       "      <td>0.07419</td>\n",
       "      <td>0.128683</td>\n",
       "      <td>0.576531</td>\n",
       "    </tr>\n",
       "  </tbody>\n",
       "</table>\n",
       "</div>"
      ],
      "text/plain": [
       "                                               weights    prets     pvols  \\\n",
       "121  [0.18414034643386218, 0.0689898720586678, 0.08...  0.07419  0.128683   \n",
       "\n",
       "     Sharpe Ratio  \n",
       "121      0.576531  "
      ]
     },
     "execution_count": 107,
     "metadata": {},
     "output_type": "execute_result"
    }
   ],
   "source": [
    "#max sharp portfolio \n",
    "df_log_ma_wts[df_log_ma_wts['Sharpe Ratio']==df_log_ma_wts['Sharpe Ratio'].max()]"
   ]
  },
  {
   "cell_type": "markdown",
   "metadata": {},
   "source": [
    "#### Max sharpe of the baseline portfolio is 0.576 which is less than the sharp of our constructed portfolio (1.14)"
   ]
  },
  {
   "cell_type": "markdown",
   "metadata": {},
   "source": [
    "#### 2. MA strategy on all instruments"
   ]
  },
  {
   "cell_type": "code",
   "execution_count": 108,
   "metadata": {},
   "outputs": [],
   "source": [
    "prices_cols_short=['ATT', 'GE']\n",
    "prices_cols_flat=['AAPL', 'AMZN', 'EUR', 'GOLD','INTC', 'BOND']\n"
   ]
  },
  {
   "cell_type": "code",
   "execution_count": 109,
   "metadata": {},
   "outputs": [],
   "source": [
    "#running MA strategy on all the instruments \n",
    "df_MA = pd.DataFrame()\n",
    "for column in prices_cols_short:\n",
    "    \n",
    "    flatOrShort = -1\n",
    "    dfPrice2 = prices.copy()\n",
    "    df_MA[column] = getSMA(dfPrice2, column, 42, 260, flatOrShort) # creating the dataframe using the mving average crossover function created above \n",
    "for column in prices_cols_flat:\n",
    "    dfPrice2 = prices.copy()\n",
    "    df_MA[column] = getSMA(dfPrice2, column, 42,260, 0)"
   ]
  },
  {
   "cell_type": "code",
   "execution_count": 110,
   "metadata": {},
   "outputs": [
    {
     "data": {
      "text/html": [
       "<div>\n",
       "<style scoped>\n",
       "    .dataframe tbody tr th:only-of-type {\n",
       "        vertical-align: middle;\n",
       "    }\n",
       "\n",
       "    .dataframe tbody tr th {\n",
       "        vertical-align: top;\n",
       "    }\n",
       "\n",
       "    .dataframe thead th {\n",
       "        text-align: right;\n",
       "    }\n",
       "</style>\n",
       "<table border=\"1\" class=\"dataframe\">\n",
       "  <thead>\n",
       "    <tr style=\"text-align: right;\">\n",
       "      <th></th>\n",
       "      <th>ATT</th>\n",
       "      <th>GE</th>\n",
       "      <th>AAPL</th>\n",
       "      <th>AMZN</th>\n",
       "      <th>EUR</th>\n",
       "      <th>GOLD</th>\n",
       "      <th>INTC</th>\n",
       "      <th>BOND</th>\n",
       "    </tr>\n",
       "    <tr>\n",
       "      <th>Date</th>\n",
       "      <th></th>\n",
       "      <th></th>\n",
       "      <th></th>\n",
       "      <th></th>\n",
       "      <th></th>\n",
       "      <th></th>\n",
       "      <th></th>\n",
       "      <th></th>\n",
       "    </tr>\n",
       "  </thead>\n",
       "  <tbody>\n",
       "    <tr>\n",
       "      <th>2001-01-12</th>\n",
       "      <td>-0.027830</td>\n",
       "      <td>0.018971</td>\n",
       "      <td>-0.0</td>\n",
       "      <td>0.000000</td>\n",
       "      <td>-0.0</td>\n",
       "      <td>0.0</td>\n",
       "      <td>-0.0</td>\n",
       "      <td>-0.004724</td>\n",
       "    </tr>\n",
       "    <tr>\n",
       "      <th>2001-01-16</th>\n",
       "      <td>-0.017327</td>\n",
       "      <td>-0.036270</td>\n",
       "      <td>-0.0</td>\n",
       "      <td>0.000000</td>\n",
       "      <td>-0.0</td>\n",
       "      <td>-0.0</td>\n",
       "      <td>-0.0</td>\n",
       "      <td>0.001185</td>\n",
       "    </tr>\n",
       "    <tr>\n",
       "      <th>2001-01-17</th>\n",
       "      <td>0.004981</td>\n",
       "      <td>0.014618</td>\n",
       "      <td>-0.0</td>\n",
       "      <td>0.000000</td>\n",
       "      <td>-0.0</td>\n",
       "      <td>0.0</td>\n",
       "      <td>-0.0</td>\n",
       "      <td>0.003317</td>\n",
       "    </tr>\n",
       "    <tr>\n",
       "      <th>2001-01-18</th>\n",
       "      <td>0.004957</td>\n",
       "      <td>-0.019881</td>\n",
       "      <td>0.0</td>\n",
       "      <td>0.000000</td>\n",
       "      <td>0.0</td>\n",
       "      <td>0.0</td>\n",
       "      <td>0.0</td>\n",
       "      <td>0.004006</td>\n",
       "    </tr>\n",
       "    <tr>\n",
       "      <th>2001-01-19</th>\n",
       "      <td>-0.017457</td>\n",
       "      <td>0.013210</td>\n",
       "      <td>0.0</td>\n",
       "      <td>0.000000</td>\n",
       "      <td>-0.0</td>\n",
       "      <td>0.0</td>\n",
       "      <td>0.0</td>\n",
       "      <td>-0.003085</td>\n",
       "    </tr>\n",
       "    <tr>\n",
       "      <th>...</th>\n",
       "      <td>...</td>\n",
       "      <td>...</td>\n",
       "      <td>...</td>\n",
       "      <td>...</td>\n",
       "      <td>...</td>\n",
       "      <td>...</td>\n",
       "      <td>...</td>\n",
       "      <td>...</td>\n",
       "    </tr>\n",
       "    <tr>\n",
       "      <th>2018-12-24</th>\n",
       "      <td>0.034133</td>\n",
       "      <td>0.032697</td>\n",
       "      <td>-0.0</td>\n",
       "      <td>-0.024613</td>\n",
       "      <td>0.0</td>\n",
       "      <td>0.0</td>\n",
       "      <td>-0.0</td>\n",
       "      <td>0.000000</td>\n",
       "    </tr>\n",
       "    <tr>\n",
       "      <th>2018-12-26</th>\n",
       "      <td>-0.025975</td>\n",
       "      <td>-0.065712</td>\n",
       "      <td>0.0</td>\n",
       "      <td>0.000000</td>\n",
       "      <td>-0.0</td>\n",
       "      <td>-0.0</td>\n",
       "      <td>0.0</td>\n",
       "      <td>-0.000000</td>\n",
       "    </tr>\n",
       "    <tr>\n",
       "      <th>2018-12-27</th>\n",
       "      <td>-0.002490</td>\n",
       "      <td>0.016371</td>\n",
       "      <td>-0.0</td>\n",
       "      <td>-0.000000</td>\n",
       "      <td>0.0</td>\n",
       "      <td>0.0</td>\n",
       "      <td>0.0</td>\n",
       "      <td>0.000000</td>\n",
       "    </tr>\n",
       "    <tr>\n",
       "      <th>2018-12-28</th>\n",
       "      <td>-0.010952</td>\n",
       "      <td>-0.032479</td>\n",
       "      <td>0.0</td>\n",
       "      <td>0.000000</td>\n",
       "      <td>0.0</td>\n",
       "      <td>0.0</td>\n",
       "      <td>0.0</td>\n",
       "      <td>0.000000</td>\n",
       "    </tr>\n",
       "    <tr>\n",
       "      <th>2018-12-31</th>\n",
       "      <td>-0.002807</td>\n",
       "      <td>-0.007958</td>\n",
       "      <td>0.0</td>\n",
       "      <td>0.000000</td>\n",
       "      <td>0.0</td>\n",
       "      <td>0.0</td>\n",
       "      <td>0.0</td>\n",
       "      <td>0.000000</td>\n",
       "    </tr>\n",
       "  </tbody>\n",
       "</table>\n",
       "<p>4485 rows × 8 columns</p>\n",
       "</div>"
      ],
      "text/plain": [
       "                 ATT        GE  AAPL      AMZN  EUR  GOLD  INTC      BOND\n",
       "Date                                                                     \n",
       "2001-01-12 -0.027830  0.018971  -0.0  0.000000 -0.0   0.0  -0.0 -0.004724\n",
       "2001-01-16 -0.017327 -0.036270  -0.0  0.000000 -0.0  -0.0  -0.0  0.001185\n",
       "2001-01-17  0.004981  0.014618  -0.0  0.000000 -0.0   0.0  -0.0  0.003317\n",
       "2001-01-18  0.004957 -0.019881   0.0  0.000000  0.0   0.0   0.0  0.004006\n",
       "2001-01-19 -0.017457  0.013210   0.0  0.000000 -0.0   0.0   0.0 -0.003085\n",
       "...              ...       ...   ...       ...  ...   ...   ...       ...\n",
       "2018-12-24  0.034133  0.032697  -0.0 -0.024613  0.0   0.0  -0.0  0.000000\n",
       "2018-12-26 -0.025975 -0.065712   0.0  0.000000 -0.0  -0.0   0.0 -0.000000\n",
       "2018-12-27 -0.002490  0.016371  -0.0 -0.000000  0.0   0.0   0.0  0.000000\n",
       "2018-12-28 -0.010952 -0.032479   0.0  0.000000  0.0   0.0   0.0  0.000000\n",
       "2018-12-31 -0.002807 -0.007958   0.0  0.000000  0.0   0.0   0.0  0.000000\n",
       "\n",
       "[4485 rows x 8 columns]"
      ]
     },
     "execution_count": 110,
     "metadata": {},
     "output_type": "execute_result"
    }
   ],
   "source": [
    "df_MA"
   ]
  },
  {
   "cell_type": "code",
   "execution_count": 111,
   "metadata": {
    "id": "gsH5yLWBX0_k"
   },
   "outputs": [],
   "source": [
    "#Mean variance optimization \n",
    "prets = [] # initializing an empty list for returns\n",
    "pvols = [] # initializing an empty list for volume\n",
    "weights = []\n",
    "rng = np.random.default_rng(seed=42) # creating a random number generator\n",
    "required_iterations = range(5000) # creating range\n",
    "for i in required_iterations: # initializing a loop for 5000 iterations\n",
    "    wts = rng.random(8) # taking eight random numbers from random number generator\n",
    "    wts /= np.sum(wts) # scaling the weights\n",
    "    weights.append(wts)\n",
    "\n",
    "    prets.append(annualization_factor * np.dot(wts, df_MA.mean().T)) # appending the annualized return value for the given weights across logReturns dataframe in prets list\n",
    "    pvols.append(np.sqrt(annualization_factor) * np.sqrt(np.dot(np.dot(wts, df_MA.cov()), wts.T))) # appending the volume value for the given weights across logReturns dataframe in pvols list\n",
    "prets = np.array(prets) # creating an array for annualized return for each iteration\n",
    "pvols = np.array(pvols)\n"
   ]
  },
  {
   "cell_type": "code",
   "execution_count": 112,
   "metadata": {
    "id": "EzMSdkvZvgN3"
   },
   "outputs": [],
   "source": [
    "df_ma_wts = pd.DataFrame({'weights':weights,'prets':prets,'pvols':pvols,'Sharpe Ratio':prets/pvols})"
   ]
  },
  {
   "cell_type": "code",
   "execution_count": 113,
   "metadata": {
    "id": "0TZauPRjv3la"
   },
   "outputs": [
    {
     "data": {
      "text/html": [
       "<div>\n",
       "<style scoped>\n",
       "    .dataframe tbody tr th:only-of-type {\n",
       "        vertical-align: middle;\n",
       "    }\n",
       "\n",
       "    .dataframe tbody tr th {\n",
       "        vertical-align: top;\n",
       "    }\n",
       "\n",
       "    .dataframe thead th {\n",
       "        text-align: right;\n",
       "    }\n",
       "</style>\n",
       "<table border=\"1\" class=\"dataframe\">\n",
       "  <thead>\n",
       "    <tr style=\"text-align: right;\">\n",
       "      <th></th>\n",
       "      <th>weights</th>\n",
       "      <th>prets</th>\n",
       "      <th>pvols</th>\n",
       "      <th>Sharpe Ratio</th>\n",
       "    </tr>\n",
       "  </thead>\n",
       "  <tbody>\n",
       "    <tr>\n",
       "      <th>1892</th>\n",
       "      <td>[0.016164014681876487, 0.07187976718054591, 0....</td>\n",
       "      <td>0.108622</td>\n",
       "      <td>0.098543</td>\n",
       "      <td>1.102278</td>\n",
       "    </tr>\n",
       "  </tbody>\n",
       "</table>\n",
       "</div>"
      ],
      "text/plain": [
       "                                                weights     prets     pvols  \\\n",
       "1892  [0.016164014681876487, 0.07187976718054591, 0....  0.108622  0.098543   \n",
       "\n",
       "      Sharpe Ratio  \n",
       "1892      1.102278  "
      ]
     },
     "execution_count": 113,
     "metadata": {},
     "output_type": "execute_result"
    }
   ],
   "source": [
    "#Weights of maximum sharp portfolio for MA strategy \n",
    "df_ma_wts[df_ma_wts['Sharpe Ratio']==df_ma_wts['Sharpe Ratio'].max()]"
   ]
  },
  {
   "cell_type": "markdown",
   "metadata": {},
   "source": [
    "#### Max sharpe of the MA portfolio is 1.10 which is less than the sharp of our constructed portfolio (1.14)"
   ]
  },
  {
   "cell_type": "markdown",
   "metadata": {},
   "source": [
    "#### 3. Bollinger band strategy on all instruments"
   ]
  },
  {
   "cell_type": "code",
   "execution_count": 114,
   "metadata": {},
   "outputs": [],
   "source": [
    "#creating bollinger band function by accepting dataframe, lookback window and std band as inputs and returns orginal and BB returns\n",
    "def Bollinger_Bands(df,col,window,stDevBand):\n",
    "    dfPrices = df.copy()\n",
    "    dfPrices = dfPrices[[col]]\n",
    "    dfPrices.loc[:,'Mean'] = dfPrices[col].rolling(window).mean()\n",
    "    dfPrices.loc[:,'Stdev'] = dfPrices[col].rolling(window).std()\n",
    "    dfPrices.loc[:,'Upper'] = dfPrices['Mean'] + stDevBand * dfPrices['Stdev']\n",
    "    dfPrices.loc[:,'Lower'] = dfPrices['Mean'] - stDevBand * dfPrices['Stdev']\n",
    "    dfPrices.dropna(inplace=True)\n",
    "    date0 = dfPrices.index[0]\n",
    "    if dfPrices.loc[date0,col] >= dfPrices.loc[date0, 'Upper']:\n",
    "        dfPrices.loc[date0, 'Position'] = -1\n",
    "    elif dfPrices.loc[date0,col] <= dfPrices.loc[date0,'Lower']:\n",
    "        dfPrices.loc[date0, 'Position'] = 1\n",
    "    else:\n",
    "        dfPrices.loc[date0, 'Position'] = 0\n",
    "\n",
    "# then loop over the entire data set\n",
    "    for i in range(1, dfPrices.shape[0]):\n",
    "        today=dfPrices.index[i]\n",
    "        yesterday=dfPrices.index[i-1]\n",
    "        if dfPrices.loc[today,col] >= dfPrices.loc[today,'Upper']: # if close is above upper\n",
    "            dfPrices.loc[today,'Position'] = -1 # then go short\n",
    "        elif dfPrices.loc[today,col] <= dfPrices.loc[today,'Lower']: # if close is below lower\n",
    "            dfPrices.loc[today,'Position'] = 1 # then go long\n",
    "        elif dfPrices.loc[yesterday,'Position'] == -1 and dfPrices.loc[today,col] <= dfPrices.loc[today,'Mean']: # if prev day is short and we're now below the mean\n",
    "            dfPrices.loc[today,'Position']=0 # then flatten\n",
    "        elif dfPrices.loc[yesterday,'Position'] == 1 and dfPrices.loc[today, col] >= dfPrices.loc[today, 'Mean']: # conversely...\n",
    "            dfPrices.loc[today,'Position']=0 # then also flatten\n",
    "        else: # otherwise just hold yesterday's position\n",
    "            dfPrices.loc[today,'Position']=dfPrices.loc[yesterday,'Position']\n",
    "    dfPrices.loc[:,'OriginalReturns'] = np.log(dfPrices[col] / dfPrices[col].shift(1))\n",
    "    dfPrices.loc[:,'BBReturns'] = dfPrices['Position'].shift(1) * dfPrices['OriginalReturns']\n",
    "    dfPrices.dropna(inplace=True)\n",
    "    dfPrices[['OriginalReturns', 'BBReturns']].sum()\n",
    "    np.exp(dfPrices[['OriginalReturns', 'BBReturns']].sum())\n",
    "    dfPrices[['OriginalReturns', 'BBReturns']].mean() * 260\n",
    "    dfPrices[['OriginalReturns', 'BBReturns']].std() * np.sqrt(260)\n",
    "    return dfPrices['BBReturns'].values"
   ]
  },
  {
   "cell_type": "code",
   "execution_count": 115,
   "metadata": {},
   "outputs": [],
   "source": [
    "#Bollinger_Bands(df_prices,'AAPL',window=20, stDevBand=2)"
   ]
  },
  {
   "cell_type": "code",
   "execution_count": 116,
   "metadata": {},
   "outputs": [],
   "source": [
    "df_bb = pd.DataFrame()\n",
    "for col in df_prices.columns:\n",
    "    df_bb[col] = Bollinger_Bands(df_prices,col,window=20,stDevBand=2)"
   ]
  },
  {
   "cell_type": "code",
   "execution_count": 117,
   "metadata": {},
   "outputs": [
    {
     "data": {
      "text/html": [
       "<div>\n",
       "<style scoped>\n",
       "    .dataframe tbody tr th:only-of-type {\n",
       "        vertical-align: middle;\n",
       "    }\n",
       "\n",
       "    .dataframe tbody tr th {\n",
       "        vertical-align: top;\n",
       "    }\n",
       "\n",
       "    .dataframe thead th {\n",
       "        text-align: right;\n",
       "    }\n",
       "</style>\n",
       "<table border=\"1\" class=\"dataframe\">\n",
       "  <thead>\n",
       "    <tr style=\"text-align: right;\">\n",
       "      <th></th>\n",
       "      <th>AAPL</th>\n",
       "      <th>AMZN</th>\n",
       "      <th>ATT</th>\n",
       "      <th>GE</th>\n",
       "      <th>INTC</th>\n",
       "      <th>GOLD</th>\n",
       "      <th>EUR</th>\n",
       "      <th>BOND</th>\n",
       "    </tr>\n",
       "  </thead>\n",
       "  <tbody>\n",
       "    <tr>\n",
       "      <th>0</th>\n",
       "      <td>0.000000</td>\n",
       "      <td>0.000000</td>\n",
       "      <td>0.000000</td>\n",
       "      <td>0.000000</td>\n",
       "      <td>0.000000</td>\n",
       "      <td>0.000000</td>\n",
       "      <td>-0.004112</td>\n",
       "      <td>-0.000000</td>\n",
       "    </tr>\n",
       "    <tr>\n",
       "      <th>1</th>\n",
       "      <td>-0.000000</td>\n",
       "      <td>0.000000</td>\n",
       "      <td>-0.000000</td>\n",
       "      <td>0.014815</td>\n",
       "      <td>0.000000</td>\n",
       "      <td>-0.000000</td>\n",
       "      <td>0.000412</td>\n",
       "      <td>0.000000</td>\n",
       "    </tr>\n",
       "    <tr>\n",
       "      <th>2</th>\n",
       "      <td>-0.000000</td>\n",
       "      <td>0.000000</td>\n",
       "      <td>0.000000</td>\n",
       "      <td>-0.014349</td>\n",
       "      <td>-0.000000</td>\n",
       "      <td>0.000000</td>\n",
       "      <td>0.005545</td>\n",
       "      <td>0.000000</td>\n",
       "    </tr>\n",
       "    <tr>\n",
       "      <th>3</th>\n",
       "      <td>0.000000</td>\n",
       "      <td>0.000000</td>\n",
       "      <td>-0.000000</td>\n",
       "      <td>0.037965</td>\n",
       "      <td>0.000000</td>\n",
       "      <td>0.000000</td>\n",
       "      <td>0.013124</td>\n",
       "      <td>0.000000</td>\n",
       "    </tr>\n",
       "    <tr>\n",
       "      <th>4</th>\n",
       "      <td>0.000000</td>\n",
       "      <td>0.069152</td>\n",
       "      <td>0.000000</td>\n",
       "      <td>0.016470</td>\n",
       "      <td>0.000000</td>\n",
       "      <td>0.000000</td>\n",
       "      <td>-0.006286</td>\n",
       "      <td>0.002785</td>\n",
       "    </tr>\n",
       "    <tr>\n",
       "      <th>...</th>\n",
       "      <td>...</td>\n",
       "      <td>...</td>\n",
       "      <td>...</td>\n",
       "      <td>...</td>\n",
       "      <td>...</td>\n",
       "      <td>...</td>\n",
       "      <td>...</td>\n",
       "      <td>...</td>\n",
       "    </tr>\n",
       "    <tr>\n",
       "      <th>4720</th>\n",
       "      <td>-0.026215</td>\n",
       "      <td>-0.024613</td>\n",
       "      <td>-0.034133</td>\n",
       "      <td>-0.000000</td>\n",
       "      <td>-0.028273</td>\n",
       "      <td>-0.009722</td>\n",
       "      <td>-0.002985</td>\n",
       "      <td>-0.001688</td>\n",
       "    </tr>\n",
       "    <tr>\n",
       "      <th>4721</th>\n",
       "      <td>0.068053</td>\n",
       "      <td>0.090254</td>\n",
       "      <td>0.025975</td>\n",
       "      <td>0.000000</td>\n",
       "      <td>0.057936</td>\n",
       "      <td>0.001640</td>\n",
       "      <td>0.004658</td>\n",
       "      <td>0.002511</td>\n",
       "    </tr>\n",
       "    <tr>\n",
       "      <th>4722</th>\n",
       "      <td>-0.006511</td>\n",
       "      <td>-0.006315</td>\n",
       "      <td>0.002490</td>\n",
       "      <td>-0.000000</td>\n",
       "      <td>0.003674</td>\n",
       "      <td>-0.006740</td>\n",
       "      <td>0.000000</td>\n",
       "      <td>-0.002101</td>\n",
       "    </tr>\n",
       "    <tr>\n",
       "      <th>4723</th>\n",
       "      <td>0.000512</td>\n",
       "      <td>0.011144</td>\n",
       "      <td>0.010952</td>\n",
       "      <td>0.000000</td>\n",
       "      <td>0.008377</td>\n",
       "      <td>-0.003912</td>\n",
       "      <td>0.000000</td>\n",
       "      <td>-0.000285</td>\n",
       "    </tr>\n",
       "    <tr>\n",
       "      <th>4724</th>\n",
       "      <td>0.009619</td>\n",
       "      <td>0.016074</td>\n",
       "      <td>0.002807</td>\n",
       "      <td>0.000000</td>\n",
       "      <td>0.003843</td>\n",
       "      <td>-0.001389</td>\n",
       "      <td>0.000000</td>\n",
       "      <td>-0.002315</td>\n",
       "    </tr>\n",
       "  </tbody>\n",
       "</table>\n",
       "<p>4725 rows × 8 columns</p>\n",
       "</div>"
      ],
      "text/plain": [
       "          AAPL      AMZN       ATT        GE      INTC      GOLD       EUR  \\\n",
       "0     0.000000  0.000000  0.000000  0.000000  0.000000  0.000000 -0.004112   \n",
       "1    -0.000000  0.000000 -0.000000  0.014815  0.000000 -0.000000  0.000412   \n",
       "2    -0.000000  0.000000  0.000000 -0.014349 -0.000000  0.000000  0.005545   \n",
       "3     0.000000  0.000000 -0.000000  0.037965  0.000000  0.000000  0.013124   \n",
       "4     0.000000  0.069152  0.000000  0.016470  0.000000  0.000000 -0.006286   \n",
       "...        ...       ...       ...       ...       ...       ...       ...   \n",
       "4720 -0.026215 -0.024613 -0.034133 -0.000000 -0.028273 -0.009722 -0.002985   \n",
       "4721  0.068053  0.090254  0.025975  0.000000  0.057936  0.001640  0.004658   \n",
       "4722 -0.006511 -0.006315  0.002490 -0.000000  0.003674 -0.006740  0.000000   \n",
       "4723  0.000512  0.011144  0.010952  0.000000  0.008377 -0.003912  0.000000   \n",
       "4724  0.009619  0.016074  0.002807  0.000000  0.003843 -0.001389  0.000000   \n",
       "\n",
       "          BOND  \n",
       "0    -0.000000  \n",
       "1     0.000000  \n",
       "2     0.000000  \n",
       "3     0.000000  \n",
       "4     0.002785  \n",
       "...        ...  \n",
       "4720 -0.001688  \n",
       "4721  0.002511  \n",
       "4722 -0.002101  \n",
       "4723 -0.000285  \n",
       "4724 -0.002315  \n",
       "\n",
       "[4725 rows x 8 columns]"
      ]
     },
     "execution_count": 117,
     "metadata": {},
     "output_type": "execute_result"
    }
   ],
   "source": [
    "df_bb"
   ]
  },
  {
   "cell_type": "code",
   "execution_count": 118,
   "metadata": {},
   "outputs": [
    {
     "data": {
      "text/html": [
       "<div>\n",
       "<style scoped>\n",
       "    .dataframe tbody tr th:only-of-type {\n",
       "        vertical-align: middle;\n",
       "    }\n",
       "\n",
       "    .dataframe tbody tr th {\n",
       "        vertical-align: top;\n",
       "    }\n",
       "\n",
       "    .dataframe thead th {\n",
       "        text-align: right;\n",
       "    }\n",
       "</style>\n",
       "<table border=\"1\" class=\"dataframe\">\n",
       "  <thead>\n",
       "    <tr style=\"text-align: right;\">\n",
       "      <th></th>\n",
       "      <th>AAPL</th>\n",
       "      <th>AMZN</th>\n",
       "      <th>ATT</th>\n",
       "      <th>GE</th>\n",
       "      <th>INTC</th>\n",
       "      <th>GOLD</th>\n",
       "      <th>EUR</th>\n",
       "      <th>BOND</th>\n",
       "    </tr>\n",
       "  </thead>\n",
       "  <tbody>\n",
       "    <tr>\n",
       "      <th>Average Annual Return</th>\n",
       "      <td>-0.147158</td>\n",
       "      <td>0.099495</td>\n",
       "      <td>0.041937</td>\n",
       "      <td>-0.061784</td>\n",
       "      <td>0.085996</td>\n",
       "      <td>0.010809</td>\n",
       "      <td>-0.019040</td>\n",
       "      <td>-0.004929</td>\n",
       "    </tr>\n",
       "    <tr>\n",
       "      <th>Annual Risk</th>\n",
       "      <td>0.338743</td>\n",
       "      <td>0.385179</td>\n",
       "      <td>0.195966</td>\n",
       "      <td>0.247990</td>\n",
       "      <td>0.274590</td>\n",
       "      <td>0.132970</td>\n",
       "      <td>0.076547</td>\n",
       "      <td>0.026715</td>\n",
       "    </tr>\n",
       "    <tr>\n",
       "      <th>Sharpe Ratio</th>\n",
       "      <td>-0.434424</td>\n",
       "      <td>0.258309</td>\n",
       "      <td>0.213999</td>\n",
       "      <td>-0.249139</td>\n",
       "      <td>0.313179</td>\n",
       "      <td>0.081292</td>\n",
       "      <td>-0.248731</td>\n",
       "      <td>-0.184488</td>\n",
       "    </tr>\n",
       "    <tr>\n",
       "      <th>maxDD</th>\n",
       "      <td>-3.189257</td>\n",
       "      <td>-0.924047</td>\n",
       "      <td>-0.465143</td>\n",
       "      <td>-1.617925</td>\n",
       "      <td>-0.578121</td>\n",
       "      <td>-0.357139</td>\n",
       "      <td>-0.521978</td>\n",
       "      <td>-0.136674</td>\n",
       "    </tr>\n",
       "    <tr>\n",
       "      <th>Success Ratio</th>\n",
       "      <td>0.709841</td>\n",
       "      <td>0.732910</td>\n",
       "      <td>0.746243</td>\n",
       "      <td>0.733545</td>\n",
       "      <td>0.745820</td>\n",
       "      <td>0.748783</td>\n",
       "      <td>0.725503</td>\n",
       "      <td>0.742011</td>\n",
       "    </tr>\n",
       "  </tbody>\n",
       "</table>\n",
       "</div>"
      ],
      "text/plain": [
       "                           AAPL      AMZN       ATT        GE      INTC  \\\n",
       "Average Annual Return -0.147158  0.099495  0.041937 -0.061784  0.085996   \n",
       "Annual Risk            0.338743  0.385179  0.195966  0.247990  0.274590   \n",
       "Sharpe Ratio          -0.434424  0.258309  0.213999 -0.249139  0.313179   \n",
       "maxDD                 -3.189257 -0.924047 -0.465143 -1.617925 -0.578121   \n",
       "Success Ratio          0.709841  0.732910  0.746243  0.733545  0.745820   \n",
       "\n",
       "                           GOLD       EUR      BOND  \n",
       "Average Annual Return  0.010809 -0.019040 -0.004929  \n",
       "Annual Risk            0.132970  0.076547  0.026715  \n",
       "Sharpe Ratio           0.081292 -0.248731 -0.184488  \n",
       "maxDD                 -0.357139 -0.521978 -0.136674  \n",
       "Success Ratio          0.748783  0.725503  0.742011  "
      ]
     },
     "execution_count": 118,
     "metadata": {},
     "output_type": "execute_result"
    }
   ],
   "source": [
    "#Calc summary stats for BB statergy \n",
    "calc_summary_stats(df_bb)"
   ]
  },
  {
   "cell_type": "code",
   "execution_count": 119,
   "metadata": {},
   "outputs": [],
   "source": [
    "#mean variance optimisation for BB stratergy \n",
    "prets = [] # initializing an empty list for returns\n",
    "pvols = [] # initializing an empty list for volume\n",
    "weights = []\n",
    "rng = np.random.default_rng(seed=42) # creating a random number generator\n",
    "required_iterations = range(5000) # creating range\n",
    "for i in required_iterations: # initializing a loop for 5000 iterations\n",
    "    wts = rng.random(8) # taking eight random numbers from random number generator\n",
    "    wts /= np.sum(wts) # scaling the weights\n",
    "    weights.append(wts)\n",
    "\n",
    "    prets.append(annualization_factor * np.dot(wts, df_bb.mean().T)) # appending the annualized return value for the given weights across logReturns dataframe in prets list\n",
    "    pvols.append(np.sqrt(annualization_factor) * np.sqrt(np.dot(np.dot(wts, df_bb.cov()), wts.T))) # appending the volume value for the given weights across logReturns dataframe in pvols list\n",
    "prets = np.array(prets) # creating an array for annualized return for each iteration\n",
    "pvols = np.array(pvols)\n"
   ]
  },
  {
   "cell_type": "code",
   "execution_count": 120,
   "metadata": {
    "id": "EzMSdkvZvgN3"
   },
   "outputs": [],
   "source": [
    "#data frame for 5000 simulations \n",
    "df_bb_wts = pd.DataFrame({'weights':weights,'prets':prets,'pvols':pvols,'Sharpe Ratio':prets/pvols})"
   ]
  },
  {
   "cell_type": "code",
   "execution_count": 121,
   "metadata": {
    "id": "0TZauPRjv3la"
   },
   "outputs": [
    {
     "data": {
      "text/html": [
       "<div>\n",
       "<style scoped>\n",
       "    .dataframe tbody tr th:only-of-type {\n",
       "        vertical-align: middle;\n",
       "    }\n",
       "\n",
       "    .dataframe tbody tr th {\n",
       "        vertical-align: top;\n",
       "    }\n",
       "\n",
       "    .dataframe thead th {\n",
       "        text-align: right;\n",
       "    }\n",
       "</style>\n",
       "<table border=\"1\" class=\"dataframe\">\n",
       "  <thead>\n",
       "    <tr style=\"text-align: right;\">\n",
       "      <th></th>\n",
       "      <th>weights</th>\n",
       "      <th>prets</th>\n",
       "      <th>pvols</th>\n",
       "      <th>Sharpe Ratio</th>\n",
       "    </tr>\n",
       "  </thead>\n",
       "  <tbody>\n",
       "    <tr>\n",
       "      <th>2103</th>\n",
       "      <td>[0.0015253045267880792, 0.15083360708353577, 0...</td>\n",
       "      <td>0.040186</td>\n",
       "      <td>0.107075</td>\n",
       "      <td>0.375307</td>\n",
       "    </tr>\n",
       "  </tbody>\n",
       "</table>\n",
       "</div>"
      ],
      "text/plain": [
       "                                                weights     prets     pvols  \\\n",
       "2103  [0.0015253045267880792, 0.15083360708353577, 0...  0.040186  0.107075   \n",
       "\n",
       "      Sharpe Ratio  \n",
       "2103      0.375307  "
      ]
     },
     "execution_count": 121,
     "metadata": {},
     "output_type": "execute_result"
    }
   ],
   "source": [
    "#max sharp portfolio for BB strategy \n",
    "df_bb_wts[df_bb_wts['Sharpe Ratio']==df_bb_wts['Sharpe Ratio'].max()]"
   ]
  },
  {
   "cell_type": "markdown",
   "metadata": {},
   "source": [
    "#### Max sharpe of the MA portfolio is 0.375 which is less than the sharp of our constructed portfolio (1.14)"
   ]
  },
  {
   "cell_type": "markdown",
   "metadata": {},
   "source": [
    "### Q.12"
   ]
  },
  {
   "cell_type": "markdown",
   "metadata": {},
   "source": [
    "#### Summary of the final portfolio"
   ]
  },
  {
   "cell_type": "code",
   "execution_count": 122,
   "metadata": {},
   "outputs": [],
   "source": [
    "#Function to pretty print the dataframe \n",
    "# data frame \"pretty print\" function to print percentages. There are some optional parameters\n",
    "def pretty_print (dF, pct_format=pct_format_4d, nan='NaN', indexSlice=pd.IndexSlice[:,:]):\n",
    "    display(dF.style.format(pct_format, na_rep=nan, subset=indexSlice))"
   ]
  },
  {
   "cell_type": "code",
   "execution_count": 123,
   "metadata": {},
   "outputs": [],
   "source": [
    "annualization_factor=260\n",
    "pct_format_2d = '{:.2%}'\n",
    "def calculate_summary_final(dF, af=annualization_factor, pct_format=pct_format_2d):\n",
    "    cumRtns = dF.cumsum()\n",
    "    summary_stats = pd.DataFrame([af*dF.mean(),\n",
    "                                  np.sqrt(af)*dF.std(),\n",
    "                                  np.sqrt(af) * dF.mean() / dF.std(),\n",
    "                                  (cumRtns - np.maximum.accumulate(cumRtns)).min(axis=0),\n",
    "                                  (dF >= 0).sum() / dF.shape[0]\n",
    "                                 ],\n",
    "                                 index=['Average Annual Return', 'Annual Risk', 'Sharpe Ratio', 'maxDD', 'Success Ratio']\n",
    "                                )\n",
    "    pretty_print(summary_stats, pct_format=pct_format, indexSlice=pd.IndexSlice[['Average Annual Return', 'Annual Risk', 'maxDD', 'Success Ratio'], :])\n",
    "    #percent_df_display(summary_stats, pct_format)\n",
    "    "
   ]
  },
  {
   "cell_type": "code",
   "execution_count": 124,
   "metadata": {},
   "outputs": [],
   "source": [
    "#weights of max portfolio\n",
    "init_wts = list(df_wts[df_wts['prets'] == prets_sma[np.argmax(prets_sma/pvols_sma)]]['weights'].values)"
   ]
  },
  {
   "cell_type": "code",
   "execution_count": 125,
   "metadata": {},
   "outputs": [
    {
     "data": {
      "text/plain": [
       "array([0.0065161 , 0.09944205, 0.20441047, 0.05964576, 0.20504819,\n",
       "       0.18976544, 0.06052765, 0.17464435])"
      ]
     },
     "execution_count": 125,
     "metadata": {},
     "output_type": "execute_result"
    }
   ],
   "source": [
    "init_wts[0]"
   ]
  },
  {
   "cell_type": "code",
   "execution_count": 126,
   "metadata": {},
   "outputs": [],
   "source": [
    "df_final = df_sma.copy()"
   ]
  },
  {
   "cell_type": "code",
   "execution_count": 127,
   "metadata": {},
   "outputs": [],
   "source": [
    "#daily rebalancing of the max portfolio\n",
    "portfolio_final = []\n",
    "for i in range(len(df_sma)):\n",
    "    portfolio_final.append(np.dot(df_final.iloc[i,:] , init_wts[0]))"
   ]
  },
  {
   "cell_type": "code",
   "execution_count": 128,
   "metadata": {},
   "outputs": [],
   "source": [
    "df_final['Portfolio'] = portfolio_final"
   ]
  },
  {
   "cell_type": "code",
   "execution_count": 129,
   "metadata": {},
   "outputs": [
    {
     "data": {
      "text/html": [
       "<div>\n",
       "<style scoped>\n",
       "    .dataframe tbody tr th:only-of-type {\n",
       "        vertical-align: middle;\n",
       "    }\n",
       "\n",
       "    .dataframe tbody tr th {\n",
       "        vertical-align: top;\n",
       "    }\n",
       "\n",
       "    .dataframe thead th {\n",
       "        text-align: right;\n",
       "    }\n",
       "</style>\n",
       "<table border=\"1\" class=\"dataframe\">\n",
       "  <thead>\n",
       "    <tr style=\"text-align: right;\">\n",
       "      <th></th>\n",
       "      <th>ATT</th>\n",
       "      <th>GE</th>\n",
       "      <th>AAPL</th>\n",
       "      <th>AMZN</th>\n",
       "      <th>EUR</th>\n",
       "      <th>GOLD</th>\n",
       "      <th>INTC</th>\n",
       "      <th>BOND</th>\n",
       "      <th>Portfolio</th>\n",
       "    </tr>\n",
       "    <tr>\n",
       "      <th>Date</th>\n",
       "      <th></th>\n",
       "      <th></th>\n",
       "      <th></th>\n",
       "      <th></th>\n",
       "      <th></th>\n",
       "      <th></th>\n",
       "      <th></th>\n",
       "      <th></th>\n",
       "      <th></th>\n",
       "    </tr>\n",
       "  </thead>\n",
       "  <tbody>\n",
       "    <tr>\n",
       "      <th>2001-01-12</th>\n",
       "      <td>-0.027830</td>\n",
       "      <td>0.018971</td>\n",
       "      <td>-0.0</td>\n",
       "      <td>0.000000</td>\n",
       "      <td>-0.0</td>\n",
       "      <td>0.0</td>\n",
       "      <td>-0.000000</td>\n",
       "      <td>-0.004724</td>\n",
       "      <td>0.000880</td>\n",
       "    </tr>\n",
       "    <tr>\n",
       "      <th>2001-01-16</th>\n",
       "      <td>-0.017327</td>\n",
       "      <td>-0.036270</td>\n",
       "      <td>-0.0</td>\n",
       "      <td>0.000000</td>\n",
       "      <td>-0.0</td>\n",
       "      <td>-0.0</td>\n",
       "      <td>-0.000000</td>\n",
       "      <td>0.001185</td>\n",
       "      <td>-0.003513</td>\n",
       "    </tr>\n",
       "    <tr>\n",
       "      <th>2001-01-17</th>\n",
       "      <td>0.004981</td>\n",
       "      <td>0.014618</td>\n",
       "      <td>-0.0</td>\n",
       "      <td>0.000000</td>\n",
       "      <td>-0.0</td>\n",
       "      <td>0.0</td>\n",
       "      <td>-0.000000</td>\n",
       "      <td>0.003317</td>\n",
       "      <td>0.002065</td>\n",
       "    </tr>\n",
       "    <tr>\n",
       "      <th>2001-01-18</th>\n",
       "      <td>0.004957</td>\n",
       "      <td>-0.019881</td>\n",
       "      <td>0.0</td>\n",
       "      <td>0.000000</td>\n",
       "      <td>0.0</td>\n",
       "      <td>0.0</td>\n",
       "      <td>0.000000</td>\n",
       "      <td>0.004006</td>\n",
       "      <td>-0.001245</td>\n",
       "    </tr>\n",
       "    <tr>\n",
       "      <th>2001-01-19</th>\n",
       "      <td>-0.017457</td>\n",
       "      <td>0.013210</td>\n",
       "      <td>0.0</td>\n",
       "      <td>0.000000</td>\n",
       "      <td>-0.0</td>\n",
       "      <td>0.0</td>\n",
       "      <td>0.000000</td>\n",
       "      <td>-0.003085</td>\n",
       "      <td>0.000661</td>\n",
       "    </tr>\n",
       "    <tr>\n",
       "      <th>...</th>\n",
       "      <td>...</td>\n",
       "      <td>...</td>\n",
       "      <td>...</td>\n",
       "      <td>...</td>\n",
       "      <td>...</td>\n",
       "      <td>...</td>\n",
       "      <td>...</td>\n",
       "      <td>...</td>\n",
       "      <td>...</td>\n",
       "    </tr>\n",
       "    <tr>\n",
       "      <th>2018-12-24</th>\n",
       "      <td>0.034133</td>\n",
       "      <td>0.032697</td>\n",
       "      <td>-0.0</td>\n",
       "      <td>-0.024613</td>\n",
       "      <td>0.0</td>\n",
       "      <td>0.0</td>\n",
       "      <td>-0.028273</td>\n",
       "      <td>0.001688</td>\n",
       "      <td>0.000589</td>\n",
       "    </tr>\n",
       "    <tr>\n",
       "      <th>2018-12-26</th>\n",
       "      <td>-0.025975</td>\n",
       "      <td>-0.065712</td>\n",
       "      <td>0.0</td>\n",
       "      <td>0.000000</td>\n",
       "      <td>-0.0</td>\n",
       "      <td>-0.0</td>\n",
       "      <td>0.057936</td>\n",
       "      <td>-0.002511</td>\n",
       "      <td>-0.003636</td>\n",
       "    </tr>\n",
       "    <tr>\n",
       "      <th>2018-12-27</th>\n",
       "      <td>-0.002490</td>\n",
       "      <td>0.016371</td>\n",
       "      <td>-0.0</td>\n",
       "      <td>-0.000000</td>\n",
       "      <td>0.0</td>\n",
       "      <td>0.0</td>\n",
       "      <td>0.003674</td>\n",
       "      <td>0.002101</td>\n",
       "      <td>0.002201</td>\n",
       "    </tr>\n",
       "    <tr>\n",
       "      <th>2018-12-28</th>\n",
       "      <td>-0.010952</td>\n",
       "      <td>-0.032479</td>\n",
       "      <td>0.0</td>\n",
       "      <td>0.000000</td>\n",
       "      <td>0.0</td>\n",
       "      <td>0.0</td>\n",
       "      <td>0.008377</td>\n",
       "      <td>0.000285</td>\n",
       "      <td>-0.002744</td>\n",
       "    </tr>\n",
       "    <tr>\n",
       "      <th>2018-12-31</th>\n",
       "      <td>-0.002807</td>\n",
       "      <td>-0.007958</td>\n",
       "      <td>0.0</td>\n",
       "      <td>0.000000</td>\n",
       "      <td>0.0</td>\n",
       "      <td>0.0</td>\n",
       "      <td>0.003843</td>\n",
       "      <td>0.002315</td>\n",
       "      <td>-0.000173</td>\n",
       "    </tr>\n",
       "  </tbody>\n",
       "</table>\n",
       "<p>4485 rows × 9 columns</p>\n",
       "</div>"
      ],
      "text/plain": [
       "                 ATT        GE  AAPL      AMZN  EUR  GOLD      INTC      BOND  \\\n",
       "Date                                                                            \n",
       "2001-01-12 -0.027830  0.018971  -0.0  0.000000 -0.0   0.0 -0.000000 -0.004724   \n",
       "2001-01-16 -0.017327 -0.036270  -0.0  0.000000 -0.0  -0.0 -0.000000  0.001185   \n",
       "2001-01-17  0.004981  0.014618  -0.0  0.000000 -0.0   0.0 -0.000000  0.003317   \n",
       "2001-01-18  0.004957 -0.019881   0.0  0.000000  0.0   0.0  0.000000  0.004006   \n",
       "2001-01-19 -0.017457  0.013210   0.0  0.000000 -0.0   0.0  0.000000 -0.003085   \n",
       "...              ...       ...   ...       ...  ...   ...       ...       ...   \n",
       "2018-12-24  0.034133  0.032697  -0.0 -0.024613  0.0   0.0 -0.028273  0.001688   \n",
       "2018-12-26 -0.025975 -0.065712   0.0  0.000000 -0.0  -0.0  0.057936 -0.002511   \n",
       "2018-12-27 -0.002490  0.016371  -0.0 -0.000000  0.0   0.0  0.003674  0.002101   \n",
       "2018-12-28 -0.010952 -0.032479   0.0  0.000000  0.0   0.0  0.008377  0.000285   \n",
       "2018-12-31 -0.002807 -0.007958   0.0  0.000000  0.0   0.0  0.003843  0.002315   \n",
       "\n",
       "            Portfolio  \n",
       "Date                   \n",
       "2001-01-12   0.000880  \n",
       "2001-01-16  -0.003513  \n",
       "2001-01-17   0.002065  \n",
       "2001-01-18  -0.001245  \n",
       "2001-01-19   0.000661  \n",
       "...               ...  \n",
       "2018-12-24   0.000589  \n",
       "2018-12-26  -0.003636  \n",
       "2018-12-27   0.002201  \n",
       "2018-12-28  -0.002744  \n",
       "2018-12-31  -0.000173  \n",
       "\n",
       "[4485 rows x 9 columns]"
      ]
     },
     "execution_count": 129,
     "metadata": {},
     "output_type": "execute_result"
    }
   ],
   "source": [
    "df_final"
   ]
  },
  {
   "cell_type": "code",
   "execution_count": 130,
   "metadata": {},
   "outputs": [
    {
     "data": {
      "text/html": [
       "<style type=\"text/css\">\n",
       "</style>\n",
       "<table id=\"T_8d5d3\">\n",
       "  <thead>\n",
       "    <tr>\n",
       "      <th class=\"blank level0\" >&nbsp;</th>\n",
       "      <th id=\"T_8d5d3_level0_col0\" class=\"col_heading level0 col0\" >ATT</th>\n",
       "      <th id=\"T_8d5d3_level0_col1\" class=\"col_heading level0 col1\" >GE</th>\n",
       "      <th id=\"T_8d5d3_level0_col2\" class=\"col_heading level0 col2\" >AAPL</th>\n",
       "      <th id=\"T_8d5d3_level0_col3\" class=\"col_heading level0 col3\" >AMZN</th>\n",
       "      <th id=\"T_8d5d3_level0_col4\" class=\"col_heading level0 col4\" >EUR</th>\n",
       "      <th id=\"T_8d5d3_level0_col5\" class=\"col_heading level0 col5\" >GOLD</th>\n",
       "      <th id=\"T_8d5d3_level0_col6\" class=\"col_heading level0 col6\" >INTC</th>\n",
       "      <th id=\"T_8d5d3_level0_col7\" class=\"col_heading level0 col7\" >BOND</th>\n",
       "      <th id=\"T_8d5d3_level0_col8\" class=\"col_heading level0 col8\" >Portfolio</th>\n",
       "    </tr>\n",
       "  </thead>\n",
       "  <tbody>\n",
       "    <tr>\n",
       "      <th id=\"T_8d5d3_level0_row0\" class=\"row_heading level0 row0\" >Average Annual Return</th>\n",
       "      <td id=\"T_8d5d3_row0_col0\" class=\"data row0 col0\" >2.05%</td>\n",
       "      <td id=\"T_8d5d3_row0_col1\" class=\"data row0 col1\" >10.46%</td>\n",
       "      <td id=\"T_8d5d3_row0_col2\" class=\"data row0 col2\" >23.82%</td>\n",
       "      <td id=\"T_8d5d3_row0_col3\" class=\"data row0 col3\" >20.08%</td>\n",
       "      <td id=\"T_8d5d3_row0_col4\" class=\"data row0 col4\" >1.85%</td>\n",
       "      <td id=\"T_8d5d3_row0_col5\" class=\"data row0 col5\" >8.05%</td>\n",
       "      <td id=\"T_8d5d3_row0_col6\" class=\"data row0 col6\" >8.23%</td>\n",
       "      <td id=\"T_8d5d3_row0_col7\" class=\"data row0 col7\" >0.84%</td>\n",
       "      <td id=\"T_8d5d3_row0_col8\" class=\"data row0 col8\" >9.67%</td>\n",
       "    </tr>\n",
       "    <tr>\n",
       "      <th id=\"T_8d5d3_level0_row1\" class=\"row_heading level0 row1\" >Annual Risk</th>\n",
       "      <td id=\"T_8d5d3_row1_col0\" class=\"data row1 col0\" >25.12%</td>\n",
       "      <td id=\"T_8d5d3_row1_col1\" class=\"data row1 col1\" >30.86%</td>\n",
       "      <td id=\"T_8d5d3_row1_col2\" class=\"data row1 col2\" >28.35%</td>\n",
       "      <td id=\"T_8d5d3_row1_col3\" class=\"data row1 col3\" >33.23%</td>\n",
       "      <td id=\"T_8d5d3_row1_col4\" class=\"data row1 col4\" >7.11%</td>\n",
       "      <td id=\"T_8d5d3_row1_col5\" class=\"data row1 col5\" >14.53%</td>\n",
       "      <td id=\"T_8d5d3_row1_col6\" class=\"data row1 col6\" >24.96%</td>\n",
       "      <td id=\"T_8d5d3_row1_col7\" class=\"data row1 col7\" >3.74%</td>\n",
       "      <td id=\"T_8d5d3_row1_col8\" class=\"data row1 col8\" >8.49%</td>\n",
       "    </tr>\n",
       "    <tr>\n",
       "      <th id=\"T_8d5d3_level0_row2\" class=\"row_heading level0 row2\" >Sharpe Ratio</th>\n",
       "      <td id=\"T_8d5d3_row2_col0\" class=\"data row2 col0\" >0.081739</td>\n",
       "      <td id=\"T_8d5d3_row2_col1\" class=\"data row2 col1\" >0.338990</td>\n",
       "      <td id=\"T_8d5d3_row2_col2\" class=\"data row2 col2\" >0.840178</td>\n",
       "      <td id=\"T_8d5d3_row2_col3\" class=\"data row2 col3\" >0.604247</td>\n",
       "      <td id=\"T_8d5d3_row2_col4\" class=\"data row2 col4\" >0.260482</td>\n",
       "      <td id=\"T_8d5d3_row2_col5\" class=\"data row2 col5\" >0.553872</td>\n",
       "      <td id=\"T_8d5d3_row2_col6\" class=\"data row2 col6\" >0.329661</td>\n",
       "      <td id=\"T_8d5d3_row2_col7\" class=\"data row2 col7\" >0.224273</td>\n",
       "      <td id=\"T_8d5d3_row2_col8\" class=\"data row2 col8\" >1.139340</td>\n",
       "    </tr>\n",
       "    <tr>\n",
       "      <th id=\"T_8d5d3_level0_row3\" class=\"row_heading level0 row3\" >maxDD</th>\n",
       "      <td id=\"T_8d5d3_row3_col0\" class=\"data row3 col0\" >-71.51%</td>\n",
       "      <td id=\"T_8d5d3_row3_col1\" class=\"data row3 col1\" >-173.72%</td>\n",
       "      <td id=\"T_8d5d3_row3_col2\" class=\"data row3 col2\" >-82.96%</td>\n",
       "      <td id=\"T_8d5d3_row3_col3\" class=\"data row3 col3\" >-97.20%</td>\n",
       "      <td id=\"T_8d5d3_row3_col4\" class=\"data row3 col4\" >-24.62%</td>\n",
       "      <td id=\"T_8d5d3_row3_col5\" class=\"data row3 col5\" >-35.22%</td>\n",
       "      <td id=\"T_8d5d3_row3_col6\" class=\"data row3 col6\" >-45.75%</td>\n",
       "      <td id=\"T_8d5d3_row3_col7\" class=\"data row3 col7\" >-14.21%</td>\n",
       "      <td id=\"T_8d5d3_row3_col8\" class=\"data row3 col8\" >-19.01%</td>\n",
       "    </tr>\n",
       "    <tr>\n",
       "      <th id=\"T_8d5d3_level0_row4\" class=\"row_heading level0 row4\" >Success Ratio</th>\n",
       "      <td id=\"T_8d5d3_row4_col0\" class=\"data row4 col0\" >51.30%</td>\n",
       "      <td id=\"T_8d5d3_row4_col1\" class=\"data row4 col1\" >51.91%</td>\n",
       "      <td id=\"T_8d5d3_row4_col2\" class=\"data row4 col2\" >65.08%</td>\n",
       "      <td id=\"T_8d5d3_row4_col3\" class=\"data row4 col3\" >65.98%</td>\n",
       "      <td id=\"T_8d5d3_row4_col4\" class=\"data row4 col4\" >70.84%</td>\n",
       "      <td id=\"T_8d5d3_row4_col5\" class=\"data row4 col5\" >67.76%</td>\n",
       "      <td id=\"T_8d5d3_row4_col6\" class=\"data row4 col6\" >74.58%</td>\n",
       "      <td id=\"T_8d5d3_row4_col7\" class=\"data row4 col7\" >52.33%</td>\n",
       "      <td id=\"T_8d5d3_row4_col8\" class=\"data row4 col8\" >54.20%</td>\n",
       "    </tr>\n",
       "  </tbody>\n",
       "</table>\n"
      ],
      "text/plain": [
       "<pandas.io.formats.style.Styler at 0x1875f4cc4f0>"
      ]
     },
     "metadata": {},
     "output_type": "display_data"
    }
   ],
   "source": [
    "#summary stats for final max sharp portfolio \n",
    "calculate_summary_final(df_final)"
   ]
  },
  {
   "cell_type": "markdown",
   "metadata": {},
   "source": [
    "##### From the above table we can see that the overall portfolio sharp is higher than than any individual instrument sharp. This underpins the advantages of diversification of instruments in a portfolio to reduce the unsystematic risk.\n",
    "#####  In addition we see that the max drawdown and annual risk of portfolio is also less compared to most of the individual instruments in the portfolio making it a good opportunity for a risk averse investor. "
   ]
  }
 ],
 "metadata": {
  "colab": {
   "provenance": []
  },
  "kernelspec": {
   "display_name": "my_env",
   "language": "python",
   "name": "my_env"
  },
  "language_info": {
   "codemirror_mode": {
    "name": "ipython",
    "version": 3
   },
   "file_extension": ".py",
   "mimetype": "text/x-python",
   "name": "python",
   "nbconvert_exporter": "python",
   "pygments_lexer": "ipython3",
   "version": "3.10.4"
  }
 },
 "nbformat": 4,
 "nbformat_minor": 4
}
